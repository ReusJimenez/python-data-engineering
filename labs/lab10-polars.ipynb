{
  "cells": [
    {
      "cell_type": "markdown",
      "metadata": {},
      "source": [
        "# Polars"
      ]
    },
    {
      "cell_type": "code",
      "execution_count": null,
      "metadata": {
        "colab": {
          "base_uri": "https://localhost:8080/"
        },
        "id": "XjJLj8ShdnqB",
        "outputId": "1684ca98-1bc0-406d-d5d6-2763a7ca45a7"
      },
      "outputs": [
        {
          "name": "stdout",
          "output_type": "stream",
          "text": [
            "Requirement already satisfied: polars in /usr/local/lib/python3.10/dist-packages (1.6.0)\n",
            "Collecting pyspark\n",
            "  Downloading pyspark-3.5.2.tar.gz (317.3 MB)\n",
            "\u001b[2K     \u001b[90m━━━━━━━━━━━━━━━━━━━━━━━━━━━━━━━━━━━━━━━━\u001b[0m \u001b[32m317.3/317.3 MB\u001b[0m \u001b[31m3.5 MB/s\u001b[0m eta \u001b[36m0:00:00\u001b[0m\n",
            "\u001b[?25h  Preparing metadata (setup.py) ... \u001b[?25l\u001b[?25hdone\n",
            "Requirement already satisfied: py4j==0.10.9.7 in /usr/local/lib/python3.10/dist-packages (from pyspark) (0.10.9.7)\n",
            "Building wheels for collected packages: pyspark\n",
            "  Building wheel for pyspark (setup.py) ... \u001b[?25l\u001b[?25hdone\n",
            "  Created wheel for pyspark: filename=pyspark-3.5.2-py2.py3-none-any.whl size=317812365 sha256=a47b276ca02dddd3c3e1fd6fbe187d7bb38a5f1f87f5aaa1d9e41c733dbb262c\n",
            "  Stored in directory: /root/.cache/pip/wheels/34/34/bd/03944534c44b677cd5859f248090daa9fb27b3c8f8e5f49574\n",
            "Successfully built pyspark\n",
            "Installing collected packages: pyspark\n",
            "Successfully installed pyspark-3.5.2\n"
          ]
        }
      ],
      "source": [
        "pip install polars pyspark"
      ]
    },
    {
      "cell_type": "code",
      "execution_count": null,
      "metadata": {
        "colab": {
          "base_uri": "https://localhost:8080/"
        },
        "id": "FDvjnfC_k2ja",
        "outputId": "3d776315-cf75-45b7-f6ed-a9104ba7d8d7"
      },
      "outputs": [
        {
          "name": "stderr",
          "output_type": "stream",
          "text": [
            "/usr/local/lib/python3.10/dist-packages/dask/dataframe/__init__.py:42: FutureWarning: \n",
            "Dask dataframe query planning is disabled because dask-expr is not installed.\n",
            "\n",
            "You can install it with `pip install dask[dataframe]` or `conda install dask`.\n",
            "This will raise in a future version.\n",
            "\n",
            "  warnings.warn(msg, FutureWarning)\n"
          ]
        }
      ],
      "source": [
        "from pyspark.sql import SparkSession\n",
        "from pyspark.sql.functions import mean, stddev\n",
        "import pandas as pd\n",
        "import polars as pl\n",
        "import dask.dataframe as dd\n",
        "import numpy as np\n",
        "import time\n",
        "\n",
        "# Configuración de Spark\n",
        "spark = SparkSession.builder.appName(\"Comparativa\").getOrCreate()"
      ]
    },
    {
      "cell_type": "code",
      "execution_count": null,
      "metadata": {
        "colab": {
          "base_uri": "https://localhost:8080/"
        },
        "id": "Me8YErSBp1cT",
        "outputId": "079155b1-ffe7-4a71-b40d-7bc544f24e30"
      },
      "outputs": [
        {
          "name": "stdout",
          "output_type": "stream",
          "text": [
            "Tiempos de ejecución y estadísticas:\n",
            "Dask: Tiempo: 5.1864 segundos, Media: 0.499980, Mediana: 0.501418, Desv. Est.: 0.288651\n",
            "Polars: Tiempo: 2.0756 segundos, Media: 0.499980, Mediana: 0.499948, Desv. Est.: 0.288651\n",
            "pandas: Tiempo: 5.7083 segundos, Media: 0.499980, Mediana: 0.499948, Desv. Est.: 0.288651\n",
            "NumPy: Tiempo: 2.3448 segundos, Media: 0.499980, Mediana: 0.499948, Desv. Est.: 0.288651\n",
            "\n",
            "La herramienta más rápida fue Polars con 2.0756 segundos.\n"
          ]
        }
      ],
      "source": [
        "# Simulación de datos\n",
        "np.random.seed(42)\n",
        "data = np.random.rand(100_000_000)\n",
        "pdf = pd.DataFrame({'data': data})\n",
        "\n",
        "# DataFrame de Spark\n",
        "#sdf = spark.createDataFrame(pdf)\n",
        "\n",
        "# Dask\n",
        "ddf = dd.from_pandas(pdf, npartitions=100)\n",
        "\n",
        "# Polars\n",
        "pl_df = pl.DataFrame({'data': data})\n",
        "\n",
        "# Tiempos de ejecución y estadísticas\n",
        "times = {}\n",
        "\n",
        "# Operaciones con PySpark\n",
        "#start_time_spark = time.time()\n",
        "#mean_val_spark = sdf.select(mean('data')).collect()[0][0]\n",
        "#median_val_spark = sdf.approxQuantile('data', [0.5], 0.01)[0]  # Aproximado\n",
        "#std_dev_spark = sdf.select(stddev('data')).collect()[0][0]\n",
        "#times['PySpark'] = time.time() - start_time_spark, mean_val_spark, median_val_spark, std_dev_spark\n",
        "\n",
        "# Tiempo Dask\n",
        "start_time_dask = time.time()\n",
        "mean_val_dask = ddf['data'].mean().compute()\n",
        "median_val_dask = ddf['data'].quantile(0.5).compute()\n",
        "std_dev_dask = ddf['data'].std().compute()\n",
        "times['Dask'] = time.time() - start_time_dask, mean_val_dask, median_val_dask, std_dev_dask\n",
        "\n",
        "# Tiempo Polars\n",
        "start_time_pl = time.time()\n",
        "mean_val_pl = pl_df.select(pl.mean('data')).to_numpy()[0][0]\n",
        "median_val_pl = pl_df.select(pl.median('data')).to_numpy()[0][0]\n",
        "std_dev_pl = pl_df.select(pl.std('data')).to_numpy()[0][0]\n",
        "times['Polars'] = time.time() - start_time_pl, mean_val_pl, median_val_pl, std_dev_pl\n",
        "\n",
        "# Tiempo pandas\n",
        "start_time_pd = time.time()\n",
        "mean_val_pd = pdf['data'].mean()\n",
        "median_val_pd = pdf['data'].median()\n",
        "std_dev_pd = pdf['data'].std()\n",
        "times['pandas'] = time.time() - start_time_pd, mean_val_pd, median_val_pd, std_dev_pd\n",
        "\n",
        "# Tiempo NumPy\n",
        "start_time_np = time.time()\n",
        "mean_val_np = np.mean(data)\n",
        "median_val_np = np.median(data)\n",
        "std_dev_np = np.std(data)\n",
        "times['NumPy'] = time.time() - start_time_np, mean_val_np, median_val_np, std_dev_np\n",
        "\n",
        "# Calcular la herramienta más rápida\n",
        "fastest_tool = min(times, key=lambda x: times[x][0])\n",
        "fastest_time = times[fastest_tool][0]\n",
        "\n",
        "# Calcular cuántas veces es más rápida la herramienta más rápida que las demás\n",
        "speedups = {tool: fastest_time / time_taken[0] for tool, time_taken in times.items()}\n",
        "\n",
        "# Imprimir resultados\n",
        "print(\"Tiempos de ejecución y estadísticas:\")\n",
        "for tool, (time_taken, mean_val, median_val, std_dev) in times.items():\n",
        "    print(f\"{tool}: Tiempo: {time_taken:.4f} segundos, Media: {mean_val:.6f}, Mediana: {median_val:.6f}, Desv. Est.: {std_dev:.6f}\")\n",
        "\n",
        "print(f\"\\nLa herramienta más rápida fue {fastest_tool} con {fastest_time:.4f} segundos.\")"
      ]
    },
    {
      "cell_type": "code",
      "execution_count": null,
      "metadata": {
        "colab": {
          "base_uri": "https://localhost:8080/"
        },
        "id": "7VznrnQpgH6L",
        "outputId": "e0903684-e493-425a-eb6f-8645728cf647"
      },
      "outputs": [
        {
          "name": "stdout",
          "output_type": "stream",
          "text": [
            "shape: (1_000, 6)\n",
            "┌──────────┬──────────┬───────────┬────────────┬────────────┬──────┐\n",
            "│ Category ┆ Num1     ┆ Num2      ┆ Num3       ┆ Num4       ┆ Num5 │\n",
            "│ ---      ┆ ---      ┆ ---       ┆ ---        ┆ ---        ┆ ---  │\n",
            "│ str      ┆ f64      ┆ f64       ┆ f64        ┆ f64        ┆ i64  │\n",
            "╞══════════╪══════════╪═══════════╪════════════╪════════════╪══════╡\n",
            "│ C        ┆ 0.698162 ┆ 51.908179 ┆ 26.056121  ┆ 184.632457 ┆ 29   │\n",
            "│ D        ┆ 0.536096 ┆ 47.918188 ┆ 32.260779  ┆ 342.107621 ┆ 97   │\n",
            "│ A        ┆ 0.309528 ┆ 2.564207  ┆ 27.780223  ┆ 429.95762  ┆ 57   │\n",
            "│ C        ┆ 0.813795 ┆ 34.124783 ┆ 4.479034   ┆ 830.949171 ┆ 67   │\n",
            "│ …        ┆ …        ┆ …         ┆ …          ┆ …          ┆ …    │\n",
            "│ A        ┆ 0.61949  ┆ 57.727903 ┆ 56.781007  ┆ 675.586774 ┆ 85   │\n",
            "│ D        ┆ 0.463494 ┆ 86.557715 ┆ -55.314676 ┆ 508.89407  ┆ 26   │\n",
            "│ D        ┆ 0.379786 ┆ 98.073934 ┆ -41.225708 ┆ 861.445686 ┆ 82   │\n",
            "│ C        ┆ 0.863334 ┆ 40.758421 ┆ -30.429486 ┆ 866.035675 ┆ 75   │\n",
            "└──────────┴──────────┴───────────┴────────────┴────────────┴──────┘\n"
          ]
        }
      ],
      "source": [
        "import pandas as pd\n",
        "import numpy as np\n",
        "import polars as pl\n",
        "\n",
        "# Configuración para la generación de datos\n",
        "num_rows = 1000\n",
        "categories = ['A', 'B', 'C', 'D']\n",
        "\n",
        "# Generar datos simulados\n",
        "np.random.seed(42)  # Para reproducibilidad\n",
        "df = pd.DataFrame({\n",
        "    'Category': np.random.choice(categories, num_rows),\n",
        "    'Num1': np.random.rand(num_rows),\n",
        "    'Num2': np.random.rand(num_rows) * 100,\n",
        "    'Num3': np.random.randn(num_rows) * 50,\n",
        "    'Num4': np.random.rand(num_rows) * 1000,\n",
        "    'Num5': np.random.randint(0, 100, num_rows)\n",
        "})\n",
        "\n",
        "# Escribir los datos a un archivo .csv\n",
        "csv_file_path = 'simulated_data.csv'\n",
        "df.to_csv(csv_file_path, index=False)\n",
        "\n",
        "# Leer el archivo .csv con Polars\n",
        "df_polars = pl.read_csv(csv_file_path)\n",
        "\n",
        "# Mostrar el DataFrame de Polars\n",
        "print(df_polars)"
      ]
    },
    {
      "cell_type": "code",
      "execution_count": null,
      "metadata": {
        "colab": {
          "base_uri": "https://localhost:8080/"
        },
        "id": "dwM8yHnTj3FD",
        "outputId": "38993650-7b98-4942-d629-73bd361a8f24"
      },
      "outputs": [
        {
          "name": "stdout",
          "output_type": "stream",
          "text": [
            "Requirement already satisfied: sqlalchemy in /usr/local/lib/python3.10/dist-packages (2.0.34)\n",
            "Collecting connectorx\n",
            "  Downloading connectorx-0.3.3-cp310-cp310-manylinux_2_28_x86_64.whl.metadata (19 kB)\n",
            "Requirement already satisfied: polars in /usr/local/lib/python3.10/dist-packages (0.20.2)\n",
            "Collecting adbc-driver-sqlite\n",
            "  Downloading adbc_driver_sqlite-1.2.0-py3-none-manylinux_2_17_x86_64.manylinux2014_x86_64.whl.metadata (3.4 kB)\n",
            "Requirement already satisfied: typing-extensions>=4.6.0 in /usr/local/lib/python3.10/dist-packages (from sqlalchemy) (4.12.2)\n",
            "Requirement already satisfied: greenlet!=0.4.17 in /usr/local/lib/python3.10/dist-packages (from sqlalchemy) (3.1.0)\n",
            "Collecting adbc-driver-manager (from adbc-driver-sqlite)\n",
            "  Downloading adbc_driver_manager-1.2.0-cp310-cp310-manylinux_2_17_x86_64.manylinux2014_x86_64.whl.metadata (3.2 kB)\n",
            "Requirement already satisfied: importlib-resources>=1.3 in /usr/local/lib/python3.10/dist-packages (from adbc-driver-sqlite) (6.4.5)\n",
            "Downloading connectorx-0.3.3-cp310-cp310-manylinux_2_28_x86_64.whl (60.5 MB)\n",
            "\u001b[2K   \u001b[90m━━━━━━━━━━━━━━━━━━━━━━━━━━━━━━━━━━━━━━━━\u001b[0m \u001b[32m60.5/60.5 MB\u001b[0m \u001b[31m14.2 MB/s\u001b[0m eta \u001b[36m0:00:00\u001b[0m\n",
            "\u001b[?25hDownloading adbc_driver_sqlite-1.2.0-py3-none-manylinux_2_17_x86_64.manylinux2014_x86_64.whl (969 kB)\n",
            "\u001b[2K   \u001b[90m━━━━━━━━━━━━━━━━━━━━━━━━━━━━━━━━━━━━━━━━\u001b[0m \u001b[32m969.8/969.8 kB\u001b[0m \u001b[31m38.6 MB/s\u001b[0m eta \u001b[36m0:00:00\u001b[0m\n",
            "\u001b[?25hDownloading adbc_driver_manager-1.2.0-cp310-cp310-manylinux_2_17_x86_64.manylinux2014_x86_64.whl (2.1 MB)\n",
            "\u001b[2K   \u001b[90m━━━━━━━━━━━━━━━━━━━━━━━━━━━━━━━━━━━━━━━━\u001b[0m \u001b[32m2.1/2.1 MB\u001b[0m \u001b[31m52.7 MB/s\u001b[0m eta \u001b[36m0:00:00\u001b[0m\n",
            "\u001b[?25hInstalling collected packages: connectorx, adbc-driver-manager, adbc-driver-sqlite\n",
            "Successfully installed adbc-driver-manager-1.2.0 adbc-driver-sqlite-1.2.0 connectorx-0.3.3\n"
          ]
        }
      ],
      "source": [
        "pip install sqlalchemy connectorx polars adbc-driver-sqlite"
      ]
    },
    {
      "cell_type": "code",
      "execution_count": null,
      "metadata": {
        "id": "1H59JUCCgu3-"
      },
      "outputs": [],
      "source": [
        "import sqlite3\n",
        "import numpy as np\n",
        "import pandas as pd\n",
        "\n",
        "# Conexión (o creación si no existe) a la base de datos SQLite\n",
        "conn = sqlite3.connect('test.db')\n",
        "\n",
        "# Generar datos simulados\n",
        "np.random.seed(0)  # Para reproducibilidad\n",
        "num_rows = 1000\n",
        "categories = ['A', 'B', 'C', 'D']  # Datos categóricos\n",
        "data = {\n",
        "    'Category': np.random.choice(categories, num_rows),\n",
        "    'Num1': np.random.rand(num_rows),  # Distribución uniforme\n",
        "    'Num2': np.random.randn(num_rows) * 10 + 50,  # Distribución normal\n",
        "    'Num3': np.log(np.random.rand(num_rows) * 10 + 1),  # Distribución logarítmica\n",
        "    'Num4': np.random.exponential(1, num_rows),  # Distribución exponencial\n",
        "    'Num5': np.random.poisson(5, num_rows)  # Distribución de Poisson\n",
        "}\n",
        "\n",
        "df = pd.DataFrame(data)\n",
        "\n",
        "# Crear tabla y insertar los datos en SQLite\n",
        "df.to_sql('simulated_table', conn, if_exists='replace', index=False)\n",
        "\n",
        "# Cerrar conexión a la base de datos\n",
        "conn.close()"
      ]
    },
    {
      "cell_type": "code",
      "execution_count": null,
      "metadata": {
        "colab": {
          "base_uri": "https://localhost:8080/"
        },
        "id": "amBm9No6jagJ",
        "outputId": "32910ba6-bb8f-4243-9cc2-9edcb452d4bb"
      },
      "outputs": [
        {
          "name": "stdout",
          "output_type": "stream",
          "text": [
            "shape: (1_000, 6)\n",
            "┌──────────┬──────────┬───────────┬──────────┬──────────┬──────┐\n",
            "│ Category ┆ Num1     ┆ Num2      ┆ Num3     ┆ Num4     ┆ Num5 │\n",
            "│ ---      ┆ ---      ┆ ---       ┆ ---      ┆ ---      ┆ ---  │\n",
            "│ str      ┆ f64      ┆ f64       ┆ f64      ┆ f64      ┆ i64  │\n",
            "╞══════════╪══════════╪═══════════╪══════════╪══════════╪══════╡\n",
            "│ A        ┆ 0.310381 ┆ 62.21385  ┆ 0.918714 ┆ 0.259572 ┆ 3    │\n",
            "│ D        ┆ 0.373035 ┆ 48.071582 ┆ 1.937057 ┆ 1.815245 ┆ 3    │\n",
            "│ B        ┆ 0.52497  ┆ 49.666807 ┆ 1.852578 ┆ 0.419246 ┆ 2    │\n",
            "│ A        ┆ 0.750595 ┆ 34.691965 ┆ 1.093287 ┆ 3.87489  ┆ 5    │\n",
            "│ …        ┆ …        ┆ …         ┆ …        ┆ …        ┆ …    │\n",
            "│ A        ┆ 0.193623 ┆ 26.278061 ┆ 1.470373 ┆ 0.387993 ┆ 6    │\n",
            "│ C        ┆ 0.11225  ┆ 36.18255  ┆ 1.445977 ┆ 1.159704 ┆ 3    │\n",
            "│ B        ┆ 0.042364 ┆ 48.875562 ┆ 2.394008 ┆ 0.144141 ┆ 5    │\n",
            "│ A        ┆ 0.227741 ┆ 58.978642 ┆ 2.353668 ┆ 1.635521 ┆ 2    │\n",
            "└──────────┴──────────┴───────────┴──────────┴──────────┴──────┘\n"
          ]
        }
      ],
      "source": [
        "import polars as pl\n",
        "from sqlalchemy import create_engine\n",
        "\n",
        "# Crear el motor de conexión para SQLite\n",
        "engine = create_engine('sqlite:///test.db')\n",
        "\n",
        "# Consulta SQL para leer los datos\n",
        "query = \"SELECT * FROM simulated_table\"\n",
        "\n",
        "# Utilizar pl.read_database para leer los datos en un DataFrame de Polars\n",
        "df_polars = pl.read_database(query=query, connection=engine.connect())\n",
        "\n",
        "# Mostrar el DataFrame de Polars\n",
        "print(df_polars)"
      ]
    },
    {
      "cell_type": "markdown",
      "metadata": {
        "id": "eOww4Vijt6rz"
      },
      "source": [
        "### Paso 1: Creación de Datos Simulados\n",
        "\n",
        "Primero, vamos a crear un DataFrame con Polars que contenga una columna categórica (`Category`) y cinco columnas numéricas (`Num1` a `Num5`) con diferentes tipos de datos numéricos.\n",
        "\n",
        "```python\n",
        "import polars as pl\n",
        "import numpy as np\n",
        "\n",
        "# Establecer la semilla para la reproducibilidad\n",
        "np.random.seed(0)\n",
        "\n",
        "# Crear el DataFrame\n",
        "df = pl.DataFrame({\n",
        "    \"Category\": np.random.choice([\"A\", \"B\", \"C\", \"D\"], 1000),\n",
        "    \"Num1\": np.random.rand(1000) * 100,\n",
        "    \"Num2\": np.random.randn(1000),\n",
        "    \"Num3\": np.random.randint(1, 100, 1000),\n",
        "    \"Num4\": np.random.exponential(1, 1000),\n",
        "    \"Num5\": np.random.rand(1000) * 50\n",
        "})\n",
        "\n",
        "print(df)\n",
        "```\n",
        "\n"
      ]
    },
    {
      "cell_type": "code",
      "execution_count": null,
      "metadata": {
        "colab": {
          "base_uri": "https://localhost:8080/"
        },
        "id": "lVsfc5X_t_s0",
        "outputId": "fe0af694-1c8e-4c9b-cb01-cb94bcf89bf5"
      },
      "outputs": [
        {
          "name": "stdout",
          "output_type": "stream",
          "text": [
            "shape: (1_000, 6)\n",
            "┌──────────┬───────────┬───────────┬──────┬──────────┬───────────┐\n",
            "│ Category ┆ Num1      ┆ Num2      ┆ Num3 ┆ Num4     ┆ Num5      │\n",
            "│ ---      ┆ ---       ┆ ---       ┆ ---  ┆ ---      ┆ ---       │\n",
            "│ str      ┆ f64       ┆ f64       ┆ i64  ┆ f64      ┆ f64       │\n",
            "╞══════════╪═══════════╪═══════════╪══════╪══════════╪═══════════╡\n",
            "│ A        ┆ 31.038083 ┆ 1.221385  ┆ 93   ┆ 0.327546 ┆ 25.425978 │\n",
            "│ D        ┆ 37.303486 ┆ -0.192842 ┆ 66   ┆ 0.638946 ┆ 47.03379  │\n",
            "│ B        ┆ 52.497044 ┆ -0.033319 ┆ 42   ┆ 1.280853 ┆ 43.510583 │\n",
            "│ A        ┆ 75.059502 ┆ -1.530803 ┆ 39   ┆ 0.763945 ┆ 10.856792 │\n",
            "│ …        ┆ …         ┆ …         ┆ …    ┆ …        ┆ …         │\n",
            "│ A        ┆ 19.362329 ┆ -2.372194 ┆ 29   ┆ 1.178957 ┆ 4.428173  │\n",
            "│ C        ┆ 11.224999 ┆ -1.381745 ┆ 1    ┆ 2.044436 ┆ 7.436232  │\n",
            "│ B        ┆ 4.236405  ┆ -0.112444 ┆ 70   ┆ 0.26253  ┆ 7.77212   │\n",
            "│ A        ┆ 22.774099 ┆ 0.897864  ┆ 58   ┆ 0.114053 ┆ 33.554484 │\n",
            "└──────────┴───────────┴───────────┴──────┴──────────┴───────────┘\n"
          ]
        }
      ],
      "source": [
        "import polars as pl\n",
        "import numpy as np\n",
        "\n",
        "# Establecer la semilla para la reproducibilidad\n",
        "np.random.seed(0)\n",
        "\n",
        "# Crear el DataFrame\n",
        "df = pl.DataFrame({\n",
        "    \"Category\": np.random.choice([\"A\", \"B\", \"C\", \"D\"], 1000),\n",
        "    \"Num1\": np.random.rand(1000) * 100,\n",
        "    \"Num2\": np.random.randn(1000),\n",
        "    \"Num3\": np.random.randint(1, 100, 1000),\n",
        "    \"Num4\": np.random.exponential(1, 1000),\n",
        "    \"Num5\": np.random.rand(1000) * 50\n",
        "})\n",
        "\n",
        "print(df)"
      ]
    },
    {
      "cell_type": "markdown",
      "metadata": {
        "id": "vwd5VBu8uFua"
      },
      "source": [
        "### Ejemplo 1: Seleccionar Todas las Columnas del DataFrame\n",
        "\n",
        "```python\n",
        "all_columns = df.select(pl.all())\n",
        "print(all_columns)\n",
        "```"
      ]
    },
    {
      "cell_type": "code",
      "execution_count": null,
      "metadata": {
        "colab": {
          "base_uri": "https://localhost:8080/"
        },
        "id": "1mNC9fwnuNgZ",
        "outputId": "c6c2f5ea-1d97-49c4-8bd1-2121e55ea428"
      },
      "outputs": [
        {
          "name": "stdout",
          "output_type": "stream",
          "text": [
            "shape: (1_000, 6)\n",
            "┌──────────┬───────────┬───────────┬──────┬──────────┬───────────┐\n",
            "│ Category ┆ Num1      ┆ Num2      ┆ Num3 ┆ Num4     ┆ Num5      │\n",
            "│ ---      ┆ ---       ┆ ---       ┆ ---  ┆ ---      ┆ ---       │\n",
            "│ str      ┆ f64       ┆ f64       ┆ i64  ┆ f64      ┆ f64       │\n",
            "╞══════════╪═══════════╪═══════════╪══════╪══════════╪═══════════╡\n",
            "│ A        ┆ 31.038083 ┆ 1.221385  ┆ 93   ┆ 0.327546 ┆ 25.425978 │\n",
            "│ D        ┆ 37.303486 ┆ -0.192842 ┆ 66   ┆ 0.638946 ┆ 47.03379  │\n",
            "│ B        ┆ 52.497044 ┆ -0.033319 ┆ 42   ┆ 1.280853 ┆ 43.510583 │\n",
            "│ A        ┆ 75.059502 ┆ -1.530803 ┆ 39   ┆ 0.763945 ┆ 10.856792 │\n",
            "│ …        ┆ …         ┆ …         ┆ …    ┆ …        ┆ …         │\n",
            "│ A        ┆ 19.362329 ┆ -2.372194 ┆ 29   ┆ 1.178957 ┆ 4.428173  │\n",
            "│ C        ┆ 11.224999 ┆ -1.381745 ┆ 1    ┆ 2.044436 ┆ 7.436232  │\n",
            "│ B        ┆ 4.236405  ┆ -0.112444 ┆ 70   ┆ 0.26253  ┆ 7.77212   │\n",
            "│ A        ┆ 22.774099 ┆ 0.897864  ┆ 58   ┆ 0.114053 ┆ 33.554484 │\n",
            "└──────────┴───────────┴───────────┴──────┴──────────┴───────────┘\n"
          ]
        }
      ],
      "source": [
        "all_columns = df.select(pl.all())\n",
        "print(all_columns)"
      ]
    },
    {
      "cell_type": "markdown",
      "metadata": {
        "id": "CNrq8tGwuI_0"
      },
      "source": [
        "### Ejemplo 2: Seleccionar Columnas Específicas por Nombre\n",
        "\n",
        "```python\n",
        "specific_columns = df.select([\"Category\", \"Num1\", \"Num3\"])\n",
        "print(specific_columns)\n",
        "```"
      ]
    },
    {
      "cell_type": "code",
      "execution_count": null,
      "metadata": {
        "colab": {
          "base_uri": "https://localhost:8080/"
        },
        "id": "Mcwt2zg5uQl_",
        "outputId": "500e2f3b-4aa2-45e4-ef7f-09d3f363bcd1"
      },
      "outputs": [
        {
          "name": "stdout",
          "output_type": "stream",
          "text": [
            "shape: (1_000, 3)\n",
            "┌──────────┬───────────┬──────┐\n",
            "│ Category ┆ Num1      ┆ Num3 │\n",
            "│ ---      ┆ ---       ┆ ---  │\n",
            "│ str      ┆ f64       ┆ i64  │\n",
            "╞══════════╪═══════════╪══════╡\n",
            "│ A        ┆ 31.038083 ┆ 93   │\n",
            "│ D        ┆ 37.303486 ┆ 66   │\n",
            "│ B        ┆ 52.497044 ┆ 42   │\n",
            "│ A        ┆ 75.059502 ┆ 39   │\n",
            "│ …        ┆ …         ┆ …    │\n",
            "│ A        ┆ 19.362329 ┆ 29   │\n",
            "│ C        ┆ 11.224999 ┆ 1    │\n",
            "│ B        ┆ 4.236405  ┆ 70   │\n",
            "│ A        ┆ 22.774099 ┆ 58   │\n",
            "└──────────┴───────────┴──────┘\n"
          ]
        }
      ],
      "source": [
        "specific_columns = df.select([\"Category\", \"Num1\", \"Num3\"])\n",
        "print(specific_columns)"
      ]
    },
    {
      "cell_type": "markdown",
      "metadata": {
        "id": "ZGAByTy1uK9s"
      },
      "source": [
        "### Ejemplo 3: Seleccionar Columnas\n",
        "\n",
        "\n",
        "```python\n",
        "# En este ejemplo específico, sabemos que 'Num1' a 'Num5' son las columnas numéricas\n",
        "numeric_columns = df.select([pl.col(\"Num1\"), pl.col(\"Num2\"), pl.col(\"Num3\"), pl.col(\"Num4\"), pl.col(\"Num5\")])\n",
        "print(numeric_columns)\n",
        "```"
      ]
    },
    {
      "cell_type": "code",
      "execution_count": null,
      "metadata": {
        "colab": {
          "base_uri": "https://localhost:8080/"
        },
        "id": "NX4ASNZzuETy",
        "outputId": "fa2687f2-d776-46b4-dc92-e25106b79729"
      },
      "outputs": [
        {
          "name": "stdout",
          "output_type": "stream",
          "text": [
            "shape: (1_000, 5)\n",
            "┌───────────┬───────────┬──────┬──────────┬───────────┐\n",
            "│ Num1      ┆ Num2      ┆ Num3 ┆ Num4     ┆ Num5      │\n",
            "│ ---       ┆ ---       ┆ ---  ┆ ---      ┆ ---       │\n",
            "│ f64       ┆ f64       ┆ i64  ┆ f64      ┆ f64       │\n",
            "╞═══════════╪═══════════╪══════╪══════════╪═══════════╡\n",
            "│ 31.038083 ┆ 1.221385  ┆ 93   ┆ 0.327546 ┆ 25.425978 │\n",
            "│ 37.303486 ┆ -0.192842 ┆ 66   ┆ 0.638946 ┆ 47.03379  │\n",
            "│ 52.497044 ┆ -0.033319 ┆ 42   ┆ 1.280853 ┆ 43.510583 │\n",
            "│ 75.059502 ┆ -1.530803 ┆ 39   ┆ 0.763945 ┆ 10.856792 │\n",
            "│ …         ┆ …         ┆ …    ┆ …        ┆ …         │\n",
            "│ 19.362329 ┆ -2.372194 ┆ 29   ┆ 1.178957 ┆ 4.428173  │\n",
            "│ 11.224999 ┆ -1.381745 ┆ 1    ┆ 2.044436 ┆ 7.436232  │\n",
            "│ 4.236405  ┆ -0.112444 ┆ 70   ┆ 0.26253  ┆ 7.77212   │\n",
            "│ 22.774099 ┆ 0.897864  ┆ 58   ┆ 0.114053 ┆ 33.554484 │\n",
            "└───────────┴───────────┴──────┴──────────┴───────────┘\n"
          ]
        }
      ],
      "source": [
        "# En este ejemplo específico, sabemos que 'Num1' a 'Num5' son las columnas numéricas\n",
        "numeric_columns = df.select([pl.col(\"Num1\"), pl.col(\"Num2\"), pl.col(\"Num3\"), pl.col(\"Num4\"), pl.col(\"Num5\")])\n",
        "print(numeric_columns)"
      ]
    },
    {
      "cell_type": "markdown",
      "metadata": {
        "id": "iSk9ko3Ouu0c"
      },
      "source": [
        "\n",
        "### FILTROS\n",
        "\n",
        "Paso Adicional: Agregar Columna de Fechas\n",
        "\n"
      ]
    },
    {
      "cell_type": "code",
      "execution_count": null,
      "metadata": {
        "id": "gXFH5FSou3Wf"
      },
      "outputs": [],
      "source": [
        "import polars as pl\n",
        "import numpy as np\n",
        "\n",
        "# Generar fechas aleatorias\n",
        "start_date = np.datetime64('2020-01-01')\n",
        "end_date = np.datetime64('2020-12-31')\n",
        "dates = np.arange(start_date, end_date, dtype='datetime64[D]')\n",
        "random_dates = np.random.choice(dates, 1000)\n",
        "\n",
        "# Crear DataFrame de Polars\n",
        "df = pl.DataFrame({\n",
        "    \"Category\": np.random.choice([\"A\", \"B\", \"C\", \"D\"], 1000),\n",
        "    \"Num1\": np.random.rand(1000) * 100,\n",
        "    \"Num2\": np.random.randn(1000),\n",
        "    \"Num3\": np.random.randint(1, 100, 1000),\n",
        "    \"Num4\": np.random.exponential(1, 1000),\n",
        "    \"Num5\": np.random.rand(1000) * 50,\n",
        "    \"Date\": random_dates\n",
        "})\n",
        "\n",
        "# Asegurarse de que la columna 'Date' es del tipo fecha\n",
        "df = df.with_columns(df[\"Date\"].cast(pl.Date))\n"
      ]
    },
    {
      "cell_type": "markdown",
      "metadata": {
        "id": "fcYSA0NxuxR5"
      },
      "source": [
        "### Ejemplo 1: Filtrar Filas Basadas en una Condición Simple\n",
        "\n",
        "Vamos a filtrar las filas donde el valor de `Num1` sea mayor a 50.\n",
        "\n",
        "```python\n",
        "filtered_simple = df.filter(pl.col(\"Num1\") > 50)\n",
        "print(filtered_simple)\n",
        "```\n",
        "\n"
      ]
    },
    {
      "cell_type": "code",
      "execution_count": null,
      "metadata": {
        "colab": {
          "base_uri": "https://localhost:8080/"
        },
        "id": "4wzvg8rAvUGQ",
        "outputId": "16cd0f14-31b1-40e3-9b9c-0e755a1522ec"
      },
      "outputs": [
        {
          "name": "stdout",
          "output_type": "stream",
          "text": [
            "shape: (498, 7)\n",
            "┌──────────┬───────────┬───────────┬──────┬──────────┬───────────┬────────────┐\n",
            "│ Category ┆ Num1      ┆ Num2      ┆ Num3 ┆ Num4     ┆ Num5      ┆ Date       │\n",
            "│ ---      ┆ ---       ┆ ---       ┆ ---  ┆ ---      ┆ ---       ┆ ---        │\n",
            "│ str      ┆ f64       ┆ f64       ┆ i64  ┆ f64      ┆ f64       ┆ date       │\n",
            "╞══════════╪═══════════╪═══════════╪══════╪══════════╪═══════════╪════════════╡\n",
            "│ D        ┆ 58.136755 ┆ 1.548457  ┆ 92   ┆ 0.723377 ┆ 17.847931 ┆ 2020-08-16 │\n",
            "│ B        ┆ 63.965207 ┆ -0.005717 ┆ 96   ┆ 0.874726 ┆ 12.484402 ┆ 2020-04-08 │\n",
            "│ B        ┆ 77.615439 ┆ 0.377103  ┆ 78   ┆ 1.69411  ┆ 15.93857  ┆ 2020-04-18 │\n",
            "│ D        ┆ 97.777518 ┆ 0.2172    ┆ 17   ┆ 0.349406 ┆ 33.859185 ┆ 2020-04-02 │\n",
            "│ …        ┆ …         ┆ …         ┆ …    ┆ …        ┆ …         ┆ …          │\n",
            "│ C        ┆ 53.670425 ┆ -0.940735 ┆ 62   ┆ 1.992782 ┆ 12.922842 ┆ 2020-04-12 │\n",
            "│ A        ┆ 82.10121  ┆ -0.343037 ┆ 60   ┆ 2.702458 ┆ 30.88326  ┆ 2020-10-04 │\n",
            "│ C        ┆ 53.370971 ┆ -0.550787 ┆ 21   ┆ 1.036207 ┆ 42.758692 ┆ 2020-11-14 │\n",
            "│ C        ┆ 57.169337 ┆ 0.851442  ┆ 43   ┆ 2.339016 ┆ 16.783272 ┆ 2020-10-01 │\n",
            "└──────────┴───────────┴───────────┴──────┴──────────┴───────────┴────────────┘\n"
          ]
        }
      ],
      "source": [
        "filtered_simple = df.filter(pl.col(\"Num1\") > 50)\n",
        "print(filtered_simple)"
      ]
    },
    {
      "cell_type": "markdown",
      "metadata": {
        "id": "J79hVbxHuy_n"
      },
      "source": [
        "### Ejemplo 2: Filtrar Utilizando Condiciones Compuestas\n",
        "\n",
        "Ahora, filtraremos las filas que cumplan con dos condiciones: `Num1` mayor a 50 y `Num3` menor que 30.\n",
        "\n",
        "```python\n",
        "filtered_compound = df.filter((pl.col(\"Num1\") > 50) & (pl.col(\"Num3\") < 30))\n",
        "print(filtered_compound)\n",
        "```"
      ]
    },
    {
      "cell_type": "code",
      "execution_count": null,
      "metadata": {
        "colab": {
          "base_uri": "https://localhost:8080/"
        },
        "id": "nqhwRekVvbHM",
        "outputId": "fea92935-b309-4582-8f30-2e0cb222cb1d"
      },
      "outputs": [
        {
          "name": "stdout",
          "output_type": "stream",
          "text": [
            "shape: (133, 7)\n",
            "┌──────────┬───────────┬───────────┬──────┬──────────┬───────────┬────────────┐\n",
            "│ Category ┆ Num1      ┆ Num2      ┆ Num3 ┆ Num4     ┆ Num5      ┆ Date       │\n",
            "│ ---      ┆ ---       ┆ ---       ┆ ---  ┆ ---      ┆ ---       ┆ ---        │\n",
            "│ str      ┆ f64       ┆ f64       ┆ i64  ┆ f64      ┆ f64       ┆ date       │\n",
            "╞══════════╪═══════════╪═══════════╪══════╪══════════╪═══════════╪════════════╡\n",
            "│ D        ┆ 97.777518 ┆ 0.2172    ┆ 17   ┆ 0.349406 ┆ 33.859185 ┆ 2020-04-02 │\n",
            "│ A        ┆ 74.174241 ┆ -0.351436 ┆ 3    ┆ 2.467354 ┆ 16.454902 ┆ 2020-01-16 │\n",
            "│ D        ┆ 55.903986 ┆ -0.270658 ┆ 25   ┆ 0.588895 ┆ 5.132611  ┆ 2020-05-11 │\n",
            "│ B        ┆ 89.146334 ┆ -2.498104 ┆ 16   ┆ 0.161631 ┆ 47.219254 ┆ 2020-03-07 │\n",
            "│ …        ┆ …         ┆ …         ┆ …    ┆ …        ┆ …         ┆ …          │\n",
            "│ A        ┆ 75.923623 ┆ 0.319232  ┆ 9    ┆ 1.234271 ┆ 37.479565 ┆ 2020-09-30 │\n",
            "│ D        ┆ 53.753145 ┆ -0.700873 ┆ 28   ┆ 1.244588 ┆ 35.514753 ┆ 2020-04-13 │\n",
            "│ B        ┆ 60.805498 ┆ 1.357435  ┆ 9    ┆ 1.233558 ┆ 36.846786 ┆ 2020-01-30 │\n",
            "│ C        ┆ 53.370971 ┆ -0.550787 ┆ 21   ┆ 1.036207 ┆ 42.758692 ┆ 2020-11-14 │\n",
            "└──────────┴───────────┴───────────┴──────┴──────────┴───────────┴────────────┘\n"
          ]
        }
      ],
      "source": [
        "filtered_compound = df.filter((pl.col(\"Num1\") > 50) & (pl.col(\"Num3\") < 30))\n",
        "print(filtered_compound)"
      ]
    },
    {
      "cell_type": "markdown",
      "metadata": {
        "id": "CMhjqf0gu0tz"
      },
      "source": [
        "### Ejemplo 3: Filtrar Fechas Dentro de un Rango Específico\n",
        "\n"
      ]
    },
    {
      "cell_type": "code",
      "execution_count": null,
      "metadata": {
        "colab": {
          "base_uri": "https://localhost:8080/"
        },
        "id": "h0lvgpSbvdhv",
        "outputId": "59e0874f-ada2-41b5-de4c-5891bc776559"
      },
      "outputs": [
        {
          "name": "stdout",
          "output_type": "stream",
          "text": [
            "shape: (329, 7)\n",
            "┌──────────┬───────────┬───────────┬──────┬──────────┬───────────┬────────────┐\n",
            "│ Category ┆ Num1      ┆ Num2      ┆ Num3 ┆ Num4     ┆ Num5      ┆ Date       │\n",
            "│ ---      ┆ ---       ┆ ---       ┆ ---  ┆ ---      ┆ ---       ┆ ---        │\n",
            "│ str      ┆ f64       ┆ f64       ┆ i64  ┆ f64      ┆ f64       ┆ date       │\n",
            "╞══════════╪═══════════╪═══════════╪══════╪══════════╪═══════════╪════════════╡\n",
            "│ B        ┆ 7.87384   ┆ -0.040114 ┆ 12   ┆ 0.302652 ┆ 47.156471 ┆ 2020-05-02 │\n",
            "│ B        ┆ 63.965207 ┆ -0.005717 ┆ 96   ┆ 0.874726 ┆ 12.484402 ┆ 2020-04-08 │\n",
            "│ B        ┆ 77.615439 ┆ 0.377103  ┆ 78   ┆ 1.69411  ┆ 15.93857  ┆ 2020-04-18 │\n",
            "│ D        ┆ 97.777518 ┆ 0.2172    ┆ 17   ┆ 0.349406 ┆ 33.859185 ┆ 2020-04-02 │\n",
            "│ …        ┆ …         ┆ …         ┆ …    ┆ …        ┆ …         ┆ …          │\n",
            "│ C        ┆ 53.670425 ┆ -0.940735 ┆ 62   ┆ 1.992782 ┆ 12.922842 ┆ 2020-04-12 │\n",
            "│ A        ┆ 11.794768 ┆ 0.926027  ┆ 35   ┆ 0.119729 ┆ 17.723049 ┆ 2020-05-30 │\n",
            "│ D        ┆ 39.074001 ┆ -1.163622 ┆ 61   ┆ 0.071164 ┆ 37.512442 ┆ 2020-05-17 │\n",
            "│ B        ┆ 15.624738 ┆ 1.315428  ┆ 38   ┆ 0.104106 ┆ 39.491624 ┆ 2020-04-24 │\n",
            "└──────────┴───────────┴───────────┴──────┴──────────┴───────────┴────────────┘\n"
          ]
        }
      ],
      "source": [
        "from datetime import datetime\n",
        "import polars as pl\n",
        "\n",
        "filtered_range_df = df.filter(\n",
        "    pl.col(\"Date\").is_between(pl.lit(datetime(2020, 3, 1)), pl.lit(datetime(2020, 6, 30)))\n",
        ")\n",
        "\n",
        "print(filtered_range_df)\n"
      ]
    },
    {
      "cell_type": "markdown",
      "metadata": {
        "id": "o6QY5YgLxzsb"
      },
      "source": [
        "Ejemplo: Añadir una Nueva Columna Calculada a Partir de Otras Columnas\n",
        "\n",
        "Vamos a añadir una nueva columna llamada \"Num6\", que será el resultado de multiplicar \"Num1\" por \"Num2\"."
      ]
    },
    {
      "cell_type": "code",
      "execution_count": null,
      "metadata": {
        "colab": {
          "base_uri": "https://localhost:8080/"
        },
        "id": "TIqninj7xdtc",
        "outputId": "1adc9adb-33fc-4d9a-df26-776786edf599"
      },
      "outputs": [
        {
          "name": "stdout",
          "output_type": "stream",
          "text": [
            "shape: (1_000, 8)\n",
            "┌──────────┬───────────┬───────────┬──────┬──────────┬───────────┬────────────┬────────────┐\n",
            "│ Category ┆ Num1      ┆ Num2      ┆ Num3 ┆ Num4     ┆ Num5      ┆ Date       ┆ Num6       │\n",
            "│ ---      ┆ ---       ┆ ---       ┆ ---  ┆ ---      ┆ ---       ┆ ---        ┆ ---        │\n",
            "│ str      ┆ f64       ┆ f64       ┆ i64  ┆ f64      ┆ f64       ┆ date       ┆ f64        │\n",
            "╞══════════╪═══════════╪═══════════╪══════╪══════════╪═══════════╪════════════╪════════════╡\n",
            "│ A        ┆ 32.257447 ┆ -0.759242 ┆ 10   ┆ 0.64926  ┆ 15.228581 ┆ 2020-08-27 ┆ -24.491203 │\n",
            "│ B        ┆ 7.87384   ┆ -0.040114 ┆ 12   ┆ 0.302652 ┆ 47.156471 ┆ 2020-05-02 ┆ -0.31585   │\n",
            "│ A        ┆ 40.584596 ┆ 0.597292  ┆ 90   ┆ 0.877626 ┆ 33.292291 ┆ 2020-02-22 ┆ 24.240849  │\n",
            "│ D        ┆ 16.762608 ┆ 0.255416  ┆ 88   ┆ 0.327104 ┆ 13.526529 ┆ 2020-12-29 ┆ 4.281438   │\n",
            "│ …        ┆ …         ┆ …         ┆ …    ┆ …        ┆ …         ┆ …          ┆ …          │\n",
            "│ C        ┆ 49.067502 ┆ -0.199424 ┆ 86   ┆ 0.696939 ┆ 15.789773 ┆ 2020-02-04 ┆ -9.785257  │\n",
            "│ D        ┆ 39.074001 ┆ -1.163622 ┆ 61   ┆ 0.071164 ┆ 37.512442 ┆ 2020-05-17 ┆ -45.467369 │\n",
            "│ B        ┆ 15.624738 ┆ 1.315428  ┆ 38   ┆ 0.104106 ┆ 39.491624 ┆ 2020-04-24 ┆ 20.553222  │\n",
            "│ B        ┆ 46.784724 ┆ -0.602679 ┆ 52   ┆ 0.595097 ┆ 18.037206 ┆ 2020-12-14 ┆ -28.196179 │\n",
            "└──────────┴───────────┴───────────┴──────┴──────────┴───────────┴────────────┴────────────┘\n"
          ]
        }
      ],
      "source": [
        "df_with_new_column = df.with_columns((pl.col(\"Num1\") * pl.col(\"Num2\")).alias(\"Num6\"))\n",
        "print(df_with_new_column)"
      ]
    },
    {
      "cell_type": "markdown",
      "metadata": {
        "id": "qEAZBJjdx4bM"
      },
      "source": [
        "Ejemplo: Modificar Columnas Existentes Aplicando Transformaciones\n",
        "\n",
        "Vamos a normalizar la columna \"Num3\" (ponerla en una escala de 0 a 1) utilizando el máximo y el mínimo de esa columna."
      ]
    },
    {
      "cell_type": "code",
      "execution_count": null,
      "metadata": {
        "colab": {
          "base_uri": "https://localhost:8080/"
        },
        "id": "S7B1daeZxkSH",
        "outputId": "ce101e8f-4ecc-4743-d558-d87a49395948"
      },
      "outputs": [
        {
          "name": "stdout",
          "output_type": "stream",
          "text": [
            "shape: (1_000, 8)\n",
            "┌──────────┬───────────┬───────────┬──────┬──────────┬───────────┬────────────┬─────────────────┐\n",
            "│ Category ┆ Num1      ┆ Num2      ┆ Num3 ┆ Num4     ┆ Num5      ┆ Date       ┆ Num3_normalized │\n",
            "│ ---      ┆ ---       ┆ ---       ┆ ---  ┆ ---      ┆ ---       ┆ ---        ┆ ---             │\n",
            "│ str      ┆ f64       ┆ f64       ┆ i64  ┆ f64      ┆ f64       ┆ date       ┆ f64             │\n",
            "╞══════════╪═══════════╪═══════════╪══════╪══════════╪═══════════╪════════════╪═════════════════╡\n",
            "│ A        ┆ 32.257447 ┆ -0.759242 ┆ 10   ┆ 0.64926  ┆ 15.228581 ┆ 2020-08-27 ┆ 0.091837        │\n",
            "│ B        ┆ 7.87384   ┆ -0.040114 ┆ 12   ┆ 0.302652 ┆ 47.156471 ┆ 2020-05-02 ┆ 0.112245        │\n",
            "│ A        ┆ 40.584596 ┆ 0.597292  ┆ 90   ┆ 0.877626 ┆ 33.292291 ┆ 2020-02-22 ┆ 0.908163        │\n",
            "│ D        ┆ 16.762608 ┆ 0.255416  ┆ 88   ┆ 0.327104 ┆ 13.526529 ┆ 2020-12-29 ┆ 0.887755        │\n",
            "│ …        ┆ …         ┆ …         ┆ …    ┆ …        ┆ …         ┆ …          ┆ …               │\n",
            "│ C        ┆ 49.067502 ┆ -0.199424 ┆ 86   ┆ 0.696939 ┆ 15.789773 ┆ 2020-02-04 ┆ 0.867347        │\n",
            "│ D        ┆ 39.074001 ┆ -1.163622 ┆ 61   ┆ 0.071164 ┆ 37.512442 ┆ 2020-05-17 ┆ 0.612245        │\n",
            "│ B        ┆ 15.624738 ┆ 1.315428  ┆ 38   ┆ 0.104106 ┆ 39.491624 ┆ 2020-04-24 ┆ 0.377551        │\n",
            "│ B        ┆ 46.784724 ┆ -0.602679 ┆ 52   ┆ 0.595097 ┆ 18.037206 ┆ 2020-12-14 ┆ 0.520408        │\n",
            "└──────────┴───────────┴───────────┴──────┴──────────┴───────────┴────────────┴─────────────────┘\n"
          ]
        }
      ],
      "source": [
        "df_modified = df.with_columns(\n",
        "    ((pl.col(\"Num3\") - pl.col(\"Num3\").min()) / (pl.col(\"Num3\").max() - pl.col(\"Num3\").min())).alias(\"Num3_normalized\")\n",
        ")\n",
        "print(df_modified)"
      ]
    },
    {
      "cell_type": "markdown",
      "metadata": {
        "id": "kr8psmLwx8ZS"
      },
      "source": [
        "Ejemplo: Crear Columnas Indicadoras o Flags Basadas en Condiciones Específicas\n",
        "\n",
        "Añadiremos una columna indicadora llamada \"High_Num1\" que será True si el valor de \"Num1\" es mayor que 30, y False en caso contrario."
      ]
    },
    {
      "cell_type": "code",
      "execution_count": null,
      "metadata": {
        "colab": {
          "base_uri": "https://localhost:8080/"
        },
        "id": "xqtw_3LVxr8O",
        "outputId": "09ab1638-a853-40fa-8481-65f73546c22c"
      },
      "outputs": [
        {
          "name": "stdout",
          "output_type": "stream",
          "text": [
            "shape: (1_000, 8)\n",
            "┌──────────┬───────────┬───────────┬──────┬──────────┬───────────┬────────────┬───────────┐\n",
            "│ Category ┆ Num1      ┆ Num2      ┆ Num3 ┆ Num4     ┆ Num5      ┆ Date       ┆ High_Num1 │\n",
            "│ ---      ┆ ---       ┆ ---       ┆ ---  ┆ ---      ┆ ---       ┆ ---        ┆ ---       │\n",
            "│ str      ┆ f64       ┆ f64       ┆ i64  ┆ f64      ┆ f64       ┆ date       ┆ bool      │\n",
            "╞══════════╪═══════════╪═══════════╪══════╪══════════╪═══════════╪════════════╪═══════════╡\n",
            "│ A        ┆ 32.257447 ┆ -0.759242 ┆ 10   ┆ 0.64926  ┆ 15.228581 ┆ 2020-08-27 ┆ true      │\n",
            "│ B        ┆ 7.87384   ┆ -0.040114 ┆ 12   ┆ 0.302652 ┆ 47.156471 ┆ 2020-05-02 ┆ false     │\n",
            "│ A        ┆ 40.584596 ┆ 0.597292  ┆ 90   ┆ 0.877626 ┆ 33.292291 ┆ 2020-02-22 ┆ true      │\n",
            "│ D        ┆ 16.762608 ┆ 0.255416  ┆ 88   ┆ 0.327104 ┆ 13.526529 ┆ 2020-12-29 ┆ false     │\n",
            "│ …        ┆ …         ┆ …         ┆ …    ┆ …        ┆ …         ┆ …          ┆ …         │\n",
            "│ C        ┆ 49.067502 ┆ -0.199424 ┆ 86   ┆ 0.696939 ┆ 15.789773 ┆ 2020-02-04 ┆ true      │\n",
            "│ D        ┆ 39.074001 ┆ -1.163622 ┆ 61   ┆ 0.071164 ┆ 37.512442 ┆ 2020-05-17 ┆ true      │\n",
            "│ B        ┆ 15.624738 ┆ 1.315428  ┆ 38   ┆ 0.104106 ┆ 39.491624 ┆ 2020-04-24 ┆ false     │\n",
            "│ B        ┆ 46.784724 ┆ -0.602679 ┆ 52   ┆ 0.595097 ┆ 18.037206 ┆ 2020-12-14 ┆ true      │\n",
            "└──────────┴───────────┴───────────┴──────┴──────────┴───────────┴────────────┴───────────┘\n"
          ]
        }
      ],
      "source": [
        "df_with_flag = df.with_columns(\n",
        "    (pl.col(\"Num1\") > 30).alias(\"High_Num1\")\n",
        ")\n",
        "print(df_with_flag)"
      ]
    },
    {
      "cell_type": "markdown",
      "metadata": {
        "id": "S64QvVr-yfoi"
      },
      "source": [
        "Ejemplo: Agrupar Datos por una o Varias Columnas y Calcular Estadísticas Resumidas\n",
        "\n",
        "Agruparemos por la columna \"Category\" y calcularemos la suma, la media y el conteo para la columna \"Num1\"."
      ]
    },
    {
      "cell_type": "code",
      "execution_count": null,
      "metadata": {
        "colab": {
          "base_uri": "https://localhost:8080/"
        },
        "id": "c5Y0saRsyM6f",
        "outputId": "b7706a00-fa28-4a52-c069-c463d80c8cd1"
      },
      "outputs": [
        {
          "name": "stdout",
          "output_type": "stream",
          "text": [
            "shape: (4, 4)\n",
            "┌──────────┬──────────────┬───────────┬────────────┐\n",
            "│ Category ┆ Sum_Num1     ┆ Mean_Num1 ┆ Count_Num1 │\n",
            "│ ---      ┆ ---          ┆ ---       ┆ ---        │\n",
            "│ str      ┆ f64          ┆ f64       ┆ u32        │\n",
            "╞══════════╪══════════════╪═══════════╪════════════╡\n",
            "│ D        ┆ 10958.722653 ┆ 47.235874 ┆ 232        │\n",
            "│ C        ┆ 12365.30705  ┆ 50.677488 ┆ 244        │\n",
            "│ B        ┆ 12644.172709 ┆ 49.199116 ┆ 257        │\n",
            "│ A        ┆ 13713.178445 ┆ 51.360219 ┆ 267        │\n",
            "└──────────┴──────────────┴───────────┴────────────┘\n"
          ]
        }
      ],
      "source": [
        "grouped_summary = df.group_by(\"Category\").agg([\n",
        "    pl.col(\"Num1\").sum().alias(\"Sum_Num1\"),\n",
        "    pl.col(\"Num1\").mean().alias(\"Mean_Num1\"),\n",
        "    pl.count(\"Num1\").alias(\"Count_Num1\")\n",
        "])\n",
        "print(grouped_summary)"
      ]
    },
    {
      "cell_type": "markdown",
      "metadata": {
        "id": "kJoyUXK6yjwg"
      },
      "source": [
        "Ejemplo: Agrupar y Aplicar Múltiples Agregaciones en una Sola Pasada\n",
        "\n",
        "Agruparemos por la columna \"Category\" y aplicaremos múltiples agregaciones (suma y media) a varias columnas (\"Num1\", \"Num2\")."
      ]
    },
    {
      "cell_type": "code",
      "execution_count": null,
      "metadata": {
        "colab": {
          "base_uri": "https://localhost:8080/"
        },
        "id": "2ei-3UpXyRk2",
        "outputId": "1701eb99-4ac9-47ba-d47e-d611a5422c8d"
      },
      "outputs": [
        {
          "name": "stdout",
          "output_type": "stream",
          "text": [
            "shape: (4, 5)\n",
            "┌──────────┬──────────────┬───────────┬────────────┬───────────┐\n",
            "│ Category ┆ Sum_Num1     ┆ Mean_Num1 ┆ Sum_Num2   ┆ Mean_Num2 │\n",
            "│ ---      ┆ ---          ┆ ---       ┆ ---        ┆ ---       │\n",
            "│ str      ┆ f64          ┆ f64       ┆ f64        ┆ f64       │\n",
            "╞══════════╪══════════════╪═══════════╪════════════╪═══════════╡\n",
            "│ D        ┆ 10958.722653 ┆ 47.235874 ┆ -36.980362 ┆ -0.159398 │\n",
            "│ C        ┆ 12365.30705  ┆ 50.677488 ┆ 35.123323  ┆ 0.143948  │\n",
            "│ B        ┆ 12644.172709 ┆ 49.199116 ┆ -4.333858  ┆ -0.016863 │\n",
            "│ A        ┆ 13713.178445 ┆ 51.360219 ┆ 18.999462  ┆ 0.071159  │\n",
            "└──────────┴──────────────┴───────────┴────────────┴───────────┘\n"
          ]
        }
      ],
      "source": [
        "multiple_aggregations = df.group_by(\"Category\").agg([\n",
        "    pl.col(\"Num1\").sum().alias(\"Sum_Num1\"),\n",
        "    pl.col(\"Num1\").mean().alias(\"Mean_Num1\"),\n",
        "    pl.col(\"Num2\").sum().alias(\"Sum_Num2\"),\n",
        "    pl.col(\"Num2\").mean().alias(\"Mean_Num2\")\n",
        "])\n",
        "print(multiple_aggregations)"
      ]
    },
    {
      "cell_type": "markdown",
      "metadata": {
        "id": "Hnc9H3brynOz"
      },
      "source": [
        "Ejemplo: Realizar Agregaciones Condicionales Basadas en Valores de Otra Columna\n",
        "\n",
        "Para este ejemplo, agruparemos por \"Category\" y calcularemos la suma de \"Num1\" solo para aquellos valores de \"Num2\" que sean mayores que 0."
      ]
    },
    {
      "cell_type": "code",
      "execution_count": null,
      "metadata": {
        "colab": {
          "base_uri": "https://localhost:8080/"
        },
        "id": "-5onGq2pyW3o",
        "outputId": "1a500b74-5f6d-4ed9-f3d3-3aab8d018e25"
      },
      "outputs": [
        {
          "name": "stdout",
          "output_type": "stream",
          "text": [
            "shape: (4, 2)\n",
            "┌──────────┬──────────────────────┐\n",
            "│ Category ┆ Conditional_Sum_Num1 │\n",
            "│ ---      ┆ ---                  │\n",
            "│ str      ┆ f64                  │\n",
            "╞══════════╪══════════════════════╡\n",
            "│ A        ┆ 7654.056788          │\n",
            "│ B        ┆ 6057.249019          │\n",
            "│ D        ┆ 4901.528148          │\n",
            "│ C        ┆ 7069.437766          │\n",
            "└──────────┴──────────────────────┘\n"
          ]
        }
      ],
      "source": [
        "conditional_aggregation = df.group_by(\"Category\").agg([\n",
        "    pl.when(pl.col(\"Num2\") > 0).then(pl.col(\"Num1\")).sum().alias(\"Conditional_Sum_Num1\")\n",
        "])\n",
        "print(conditional_aggregation)"
      ]
    },
    {
      "cell_type": "markdown",
      "metadata": {
        "id": "KZZw9Ppcy9NS"
      },
      "source": [
        "Ejemplo: Combinar Selección, Filtrado y Agregación\n",
        "\n",
        "Imagina que queremos calcular la media de la columna \"Num1\" para los registros donde \"Num3\" sea mayor que 50, y además, solo para la categoría \"B\" en la columna \"Category\"."
      ]
    },
    {
      "cell_type": "code",
      "execution_count": null,
      "metadata": {
        "colab": {
          "base_uri": "https://localhost:8080/"
        },
        "id": "p6HKCW0Wy37_",
        "outputId": "3c1498a4-3771-4587-c8c4-922ebe36215e"
      },
      "outputs": [
        {
          "name": "stdout",
          "output_type": "stream",
          "text": [
            "shape: (1, 1)\n",
            "┌───────────┐\n",
            "│ Num1      │\n",
            "│ ---       │\n",
            "│ f64       │\n",
            "╞═══════════╡\n",
            "│ 51.233062 │\n",
            "└───────────┘\n"
          ]
        }
      ],
      "source": [
        "# Primero, filtramos por la condición específica, luego seleccionamos la columna de interés,\n",
        "# y finalmente calculamos la media.\n",
        "mean_num1_for_category_B_and_num3_gt_50 = df.filter(\n",
        "    (pl.col(\"Category\") == \"B\") & (pl.col(\"Num3\") > 50)\n",
        ").select(\n",
        "    pl.mean(\"Num1\")\n",
        ")\n",
        "\n",
        "print(mean_num1_for_category_B_and_num3_gt_50)"
      ]
    },
    {
      "cell_type": "markdown",
      "metadata": {
        "id": "rmSwXYCEzHRo"
      },
      "source": [
        "Ejemplo: Uso de Expresiones para Crear Consultas Encadenadas Eficientes\n",
        "\n",
        "Supongamos que queremos agregar una columna que indique si \"Num2\" está por encima de su media global y luego calcular la suma de \"Num1\" solo para esos casos, todo en una sola pasada."
      ]
    },
    {
      "cell_type": "code",
      "execution_count": null,
      "metadata": {
        "colab": {
          "base_uri": "https://localhost:8080/"
        },
        "id": "q_fGAizay_Xk",
        "outputId": "4ae785ae-cb0f-417b-a319-9796a12598ed"
      },
      "outputs": [
        {
          "name": "stdout",
          "output_type": "stream",
          "text": [
            "shape: (1, 1)\n",
            "┌──────────────┐\n",
            "│ Num1         │\n",
            "│ ---          │\n",
            "│ f64          │\n",
            "╞══════════════╡\n",
            "│ 25533.264493 │\n",
            "└──────────────┘\n"
          ]
        }
      ],
      "source": [
        "# Añadimos una columna indicadora para Num2 > mean(Num2),\n",
        "# luego filtramos por esa condición y calculamos la suma de Num1.\n",
        "sum_num1_where_num2_above_mean = df.with_columns(\n",
        "    (pl.col(\"Num2\") > pl.mean(\"Num2\")).alias(\"Num2_above_mean\")\n",
        ").filter(\n",
        "    pl.col(\"Num2_above_mean\")\n",
        ").select(\n",
        "    pl.sum(\"Num1\")\n",
        ")\n",
        "\n",
        "print(sum_num1_where_num2_above_mean)"
      ]
    },
    {
      "cell_type": "markdown",
      "metadata": {
        "id": "RfLc2LD_z2m3"
      },
      "source": [
        "# JOINS"
      ]
    },
    {
      "cell_type": "code",
      "execution_count": null,
      "metadata": {
        "id": "twNXIpWJzhsT"
      },
      "outputs": [],
      "source": [
        "import polars as pl\n",
        "\n",
        "# DataFrame 1\n",
        "df1 = pl.DataFrame({\n",
        "    \"id\": [1, 2, 3, 4],\n",
        "    \"value_df1\": [\"A\", \"B\", \"C\", \"D\"]\n",
        "})\n",
        "\n",
        "# DataFrame 2\n",
        "df2 = pl.DataFrame({\n",
        "    \"id\": [3, 4, 5, 6],\n",
        "    \"value_df2\": [\"E\", \"F\", \"G\", \"H\"]\n",
        "})"
      ]
    },
    {
      "cell_type": "markdown",
      "metadata": {
        "id": "kDZJO8jj0KuW"
      },
      "source": [
        "Ejemplo: Inner Join\n",
        "\n",
        "El inner join devuelve las filas que tienen claves coincidentes en ambos DataFrames."
      ]
    },
    {
      "cell_type": "code",
      "execution_count": null,
      "metadata": {
        "colab": {
          "base_uri": "https://localhost:8080/"
        },
        "id": "yVLaB7auzlJb",
        "outputId": "dd5d1082-eaec-4986-ca55-d7379e4d5359"
      },
      "outputs": [
        {
          "name": "stdout",
          "output_type": "stream",
          "text": [
            "shape: (2, 3)\n",
            "┌─────┬───────────┬───────────┐\n",
            "│ id  ┆ value_df1 ┆ value_df2 │\n",
            "│ --- ┆ ---       ┆ ---       │\n",
            "│ i64 ┆ str       ┆ str       │\n",
            "╞═════╪═══════════╪═══════════╡\n",
            "│ 3   ┆ C         ┆ E         │\n",
            "│ 4   ┆ D         ┆ F         │\n",
            "└─────┴───────────┴───────────┘\n"
          ]
        }
      ],
      "source": [
        "inner_joined_df = df1.join(df2, on=\"id\", how=\"inner\")\n",
        "print(inner_joined_df)"
      ]
    },
    {
      "cell_type": "markdown",
      "metadata": {
        "id": "RZJbFU7O0NKd"
      },
      "source": [
        "Ejemplo: Left Join\n",
        "\n",
        "El left join devuelve todas las filas del DataFrame izquierdo y las filas coincidentes del DataFrame derecho. Las filas del DataFrame izquierdo que no tienen coincidencias en el DataFrame derecho tienen valores null en las columnas del DataFrame derecho."
      ]
    },
    {
      "cell_type": "code",
      "execution_count": null,
      "metadata": {
        "colab": {
          "base_uri": "https://localhost:8080/"
        },
        "id": "soT_YkHIzmi8",
        "outputId": "375f370b-8bc7-4917-e982-297ea8dc5020"
      },
      "outputs": [
        {
          "name": "stdout",
          "output_type": "stream",
          "text": [
            "shape: (4, 3)\n",
            "┌─────┬───────────┬───────────┐\n",
            "│ id  ┆ value_df1 ┆ value_df2 │\n",
            "│ --- ┆ ---       ┆ ---       │\n",
            "│ i64 ┆ str       ┆ str       │\n",
            "╞═════╪═══════════╪═══════════╡\n",
            "│ 1   ┆ A         ┆ null      │\n",
            "│ 2   ┆ B         ┆ null      │\n",
            "│ 3   ┆ C         ┆ E         │\n",
            "│ 4   ┆ D         ┆ F         │\n",
            "└─────┴───────────┴───────────┘\n"
          ]
        }
      ],
      "source": [
        "left_joined_df = df1.join(df2, on=\"id\", how=\"left\")\n",
        "print(left_joined_df)"
      ]
    },
    {
      "cell_type": "markdown",
      "metadata": {
        "id": "kIk34DtB0byg"
      },
      "source": [
        "Simulación de Right Join\n",
        "\n",
        "Dado que Polars no tiene un \"right join\" directo, invertimos el orden de los DataFrames y usamos un \"left join\"."
      ]
    },
    {
      "cell_type": "code",
      "execution_count": null,
      "metadata": {
        "colab": {
          "base_uri": "https://localhost:8080/"
        },
        "id": "a6QfTKFpzqDW",
        "outputId": "9ed3fdab-5a00-410d-c114-929123afc6e9"
      },
      "outputs": [
        {
          "name": "stdout",
          "output_type": "stream",
          "text": [
            "shape: (4, 3)\n",
            "┌─────┬───────────┬───────────┐\n",
            "│ id  ┆ value_df2 ┆ value_df1 │\n",
            "│ --- ┆ ---       ┆ ---       │\n",
            "│ i64 ┆ str       ┆ str       │\n",
            "╞═════╪═══════════╪═══════════╡\n",
            "│ 3   ┆ E         ┆ C         │\n",
            "│ 4   ┆ F         ┆ D         │\n",
            "│ 5   ┆ G         ┆ null      │\n",
            "│ 6   ┆ H         ┆ null      │\n",
            "└─────┴───────────┴───────────┘\n"
          ]
        }
      ],
      "source": [
        "# Simulación de Right Join invirtiendo el orden y usando un left join\n",
        "right_joined_df = df2.join(df1, on=\"id\", how=\"left\")\n",
        "print(right_joined_df)"
      ]
    },
    {
      "cell_type": "markdown",
      "metadata": {
        "id": "otVOuYul0f1k"
      },
      "source": [
        "Ejemplo: Outer Join\n",
        "\n",
        "El outer join devuelve todas las filas de ambos DataFrames, con filas coincidentes de ambos lados donde estén disponibles. Si no hay coincidencia, el lado correspondiente tendrá valores null."
      ]
    },
    {
      "cell_type": "code",
      "execution_count": null,
      "metadata": {
        "colab": {
          "base_uri": "https://localhost:8080/"
        },
        "id": "YUiQ56610ld_",
        "outputId": "a4cb1434-20b8-49c8-e87a-f27df03c5aad"
      },
      "outputs": [
        {
          "name": "stdout",
          "output_type": "stream",
          "text": [
            "shape: (6, 4)\n",
            "┌──────┬───────────┬──────────┬───────────┐\n",
            "│ id   ┆ value_df1 ┆ id_right ┆ value_df2 │\n",
            "│ ---  ┆ ---       ┆ ---      ┆ ---       │\n",
            "│ i64  ┆ str       ┆ i64      ┆ str       │\n",
            "╞══════╪═══════════╪══════════╪═══════════╡\n",
            "│ 3    ┆ C         ┆ 3        ┆ E         │\n",
            "│ 4    ┆ D         ┆ 4        ┆ F         │\n",
            "│ null ┆ null      ┆ 5        ┆ G         │\n",
            "│ null ┆ null      ┆ 6        ┆ H         │\n",
            "│ 2    ┆ B         ┆ null     ┆ null      │\n",
            "│ 1    ┆ A         ┆ null     ┆ null      │\n",
            "└──────┴───────────┴──────────┴───────────┘\n"
          ]
        }
      ],
      "source": [
        "outer_joined_df = df1.join(df2, on=\"id\", how=\"outer\")\n",
        "print(outer_joined_df)"
      ]
    },
    {
      "cell_type": "code",
      "execution_count": null,
      "metadata": {
        "id": "6jLsfkAVrXYe"
      },
      "outputs": [],
      "source": [
        "import polars as pl\n",
        "\n",
        "# DataFrame 1\n",
        "df1 = pl.DataFrame({\n",
        "    \"id\": [1, 2, 3, 4],\n",
        "    \"value_df\": [\"A\", \"B\", \"C\", \"D\"]\n",
        "})\n",
        "\n",
        "# DataFrame 2\n",
        "df2 = pl.DataFrame({\n",
        "    \"id\": [3, 4, 5, 6],\n",
        "    \"value_df\": [\"E\", \"F\", \"G\", \"H\"]\n",
        "})"
      ]
    },
    {
      "cell_type": "code",
      "execution_count": null,
      "metadata": {
        "colab": {
          "base_uri": "https://localhost:8080/"
        },
        "id": "rFWHvfQ9kPwI",
        "outputId": "f4a03e35-4408-468d-b8ad-b0e06a329cb4"
      },
      "outputs": [
        {
          "name": "stdout",
          "output_type": "stream",
          "text": [
            "shape: (8, 2)\n",
            "┌─────┬──────────┐\n",
            "│ id  ┆ value_df │\n",
            "│ --- ┆ ---      │\n",
            "│ i64 ┆ str      │\n",
            "╞═════╪══════════╡\n",
            "│ 1   ┆ A        │\n",
            "│ 2   ┆ B        │\n",
            "│ 3   ┆ C        │\n",
            "│ 4   ┆ D        │\n",
            "│ 3   ┆ E        │\n",
            "│ 4   ┆ F        │\n",
            "│ 5   ┆ G        │\n",
            "│ 6   ┆ H        │\n",
            "└─────┴──────────┘\n"
          ]
        }
      ],
      "source": [
        "# Anexión vertical\n",
        "vertical_concatenated_df = pl.concat([df1, df2])\n",
        "print(vertical_concatenated_df)"
      ]
    }
  ],
  "metadata": {
    "colab": {
      "provenance": []
    },
    "kernelspec": {
      "display_name": "Python 3",
      "name": "python3"
    },
    "language_info": {
      "name": "python"
    }
  },
  "nbformat": 4,
  "nbformat_minor": 0
}
