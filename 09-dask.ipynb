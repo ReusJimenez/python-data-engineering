{
  "cells": [
    {
      "cell_type": "markdown",
      "id": "1940f002",
      "metadata": {
        "id": "1940f002"
      },
      "source": [
        "# Uso de Dask\n",
        "\n",
        "## 1. Introducción a Dask\n",
        "\n",
        "### ¿Qué es Dask?\n",
        "\n",
        "Dask es una biblioteca de Python que permite el procesamiento paralelo y distribuido de datos de manera eficiente. Está diseñado para manejar conjuntos de datos que no caben en la memoria RAM de una sola máquina, así como para aprovechar al máximo los recursos de procesamiento disponibles en clústeres de computadoras. Dask proporciona abstracciones de alto nivel para trabajar con arreglos de datos (Dask Arrays), marcos de datos (Dask DataFrames) y flujos de datos (Dask Bags), que son análogos a los objetos de NumPy, Pandas y herramientas similares, pero optimizados para trabajar con grandes volúmenes de datos.\n",
        "\n",
        "### Ventajas de usar Dask sobre otras herramientas de procesamiento de datos\n",
        "\n",
        "#### 1. Escalabilidad:\n",
        "Dask permite escalar el procesamiento de datos desde una sola máquina hasta clústeres de computadoras, lo que permite manejar conjuntos de datos de cualquier tamaño sin sacrificar el rendimiento.\n",
        "\n",
        "#### 2. Paralelismo:\n",
        "Dask aprovecha el paralelismo de manera eficiente, dividiendo las tareas en pequeñas operaciones que pueden ejecutarse en paralelo en múltiples núcleos de CPU o nodos de un clúster.\n",
        "\n",
        "#### 3. Integración con el ecosistema de Python:\n",
        "Dask se integra fácilmente con otras bibliotecas y herramientas populares de Python, como NumPy, Pandas, Scikit-learn y TensorFlow, lo que permite aprovechar las funcionalidades existentes mientras se escalan para manejar grandes volúmenes de datos.\n",
        "\n",
        "Ahora vamos a explorar algunos ejemplos prácticos de cómo usar Dask en Python para diferentes tareas de procesamiento de datos.\n",
        "\n",
        "## 2. Creación y Manipulación de Datos con Dask\n",
        "\n",
        "### Ejemplo 1: Generación de Datos Masivos\n",
        "\n",
        "Para empezar, vamos a crear conjuntos de datos masivos simulados que utilizaremos en nuestros ejemplos. Utilizaremos la función `dask.array.random.normal` para generar arreglos de datos aleatorios con una distribución normal.\n",
        "\n"
      ]
    },
    {
      "cell_type": "code",
      "execution_count": null,
      "id": "bb687a69",
      "metadata": {
        "id": "bb687a69"
      },
      "outputs": [],
      "source": [
        "\n",
        "import dask.array as da\n",
        "\n",
        "# Crear un arreglo Dask con 10 millones de números aleatorios distribuidos normalmente\n",
        "datos_masivos = da.random.normal(size=(10000000,), chunks=(10000,))"
      ]
    },
    {
      "cell_type": "markdown",
      "id": "985a23a5",
      "metadata": {
        "id": "985a23a5"
      },
      "source": [
        "\n",
        "\n",
        "Este código crea un arreglo Dask con 10 millones de números aleatorios distribuidos normalmente, divididos en bloques de un millón de elementos cada uno (chunks). Ahora que tenemos datos masivos generados, podemos utilizarlos para realizar diversas operaciones con Dask.\n",
        "\n",
        "### Ejemplo 2: Cálculo de Estadísticas Descriptivas\n",
        "\n"
      ]
    },
    {
      "cell_type": "code",
      "execution_count": null,
      "id": "ce6ce1ab",
      "metadata": {
        "colab": {
          "base_uri": "https://localhost:8080/"
        },
        "id": "ce6ce1ab",
        "outputId": "f805dbb6-9cc4-492f-9970-85bf08927fd6"
      },
      "outputs": [
        {
          "name": "stdout",
          "output_type": "stream",
          "text": [
            "Media: -6.199388632204668e-05\n",
            "Desviación estándar: 0.9998821557483762\n"
          ]
        }
      ],
      "source": [
        "# Calcular la media y la desviación estándar de los datos\n",
        "media = datos_masivos.mean()\n",
        "desviacion_estandar = datos_masivos.std()\n",
        "\n",
        "# Imprimir los resultados\n",
        "print(\"Media:\", media.compute())\n",
        "print(\"Desviación estándar:\", desviacion_estandar.compute())"
      ]
    },
    {
      "cell_type": "markdown",
      "id": "4cc103ea",
      "metadata": {
        "id": "4cc103ea"
      },
      "source": [
        "\n",
        "\n",
        "En este ejemplo, calculamos la media y la desviación estándar de los datos masivos utilizando las funciones `mean()` y `std()` de Dask. La función `compute()` se utiliza para ejecutar las operaciones y obtener los resultados reales.\n",
        "\n"
      ]
    },
    {
      "cell_type": "markdown",
      "id": "e0965efc",
      "metadata": {
        "id": "e0965efc"
      },
      "source": [
        "### Ejemplo 4: Operaciones de Álgebra Lineal\n",
        "\n"
      ]
    },
    {
      "cell_type": "code",
      "execution_count": null,
      "id": "98234c4d",
      "metadata": {
        "colab": {
          "base_uri": "https://localhost:8080/"
        },
        "id": "98234c4d",
        "outputId": "1cbf2bdf-fe40-4848-941d-57902e36a959"
      },
      "outputs": [
        {
          "name": "stdout",
          "output_type": "stream",
          "text": [
            "Producto punto: 6515.792870628657\n"
          ]
        }
      ],
      "source": [
        "# Calcular el producto punto entre dos arreglos de datos masivos\n",
        "datos_masivos_2 = da.random.normal(size=(10000000,), chunks=(10000,))\n",
        "producto_punto = da.dot(datos_masivos, datos_masivos_2)\n",
        "\n",
        "# Imprimir el resultado\n",
        "print(\"Producto punto:\", producto_punto.compute())"
      ]
    },
    {
      "cell_type": "markdown",
      "id": "4cc93302",
      "metadata": {
        "id": "4cc93302"
      },
      "source": [
        "\n",
        "\n",
        "En este ejemplo, calculamos el producto punto entre dos arreglos de datos masivos utilizando la función `dot()` de Dask. Este tipo de operaciones de álgebra lineal se pueden realizar de manera eficiente incluso en conjuntos de datos masivos gracias al paralelismo que ofrece Dask.\n",
        "\n",
        "Estos ejemplos ilustran cómo podemos utilizar Dask para crear, manipular y realizar operaciones en conjuntos de datos masivos de manera eficiente y escalable. En los siguientes ejemplos, exploraremos técnicas avanzadas de procesamiento de datos con Dask, como el procesamiento distribuido y la optimización del rendimiento.\n",
        "\n",
        "\n",
        "# Ejemplos de Uso de Dask Arrays en Python\n",
        "\n",
        "## 1. Creación de Arrays Dask\n",
        "\n",
        "Dask Arrays proporciona una manera eficiente de trabajar con grandes conjuntos de datos multidimensionales, que no caben en la memoria RAM de una sola máquina. En este ejemplo, exploraremos diferentes métodos para crear y manipular arrays Dask.\n",
        "\n",
        "### Ejemplo 1: Creación de un Array Dask Aleatorio\n",
        "\n"
      ]
    },
    {
      "cell_type": "code",
      "execution_count": null,
      "id": "a001bb3f",
      "metadata": {
        "id": "a001bb3f"
      },
      "outputs": [],
      "source": [
        "import dask.array as da\n",
        "# Crear un array Dask de 100 millones de elementos distribuidos normalmente\n",
        "datos_masivos = da.random.normal(size=(10000000,), chunks=(100000,))"
      ]
    },
    {
      "cell_type": "markdown",
      "id": "99c3cf34",
      "metadata": {
        "id": "99c3cf34"
      },
      "source": [
        "\n",
        "\n",
        "En este ejemplo, utilizamos la función `random.normal` de Dask Arrays para generar un array Dask con 100 millones de elementos distribuidos normalmente. Especificamos el tamaño del array y el tamaño de los chunks (bloques) en los que se dividirá el array para el procesamiento paralelo.\n",
        "\n",
        "### Ejemplo 2: Creación de un Array Dask a partir de Datos Existente\n",
        "\n"
      ]
    },
    {
      "cell_type": "code",
      "execution_count": null,
      "id": "7c99326e",
      "metadata": {
        "id": "7c99326e"
      },
      "outputs": [],
      "source": [
        "import numpy as np\n",
        "\n",
        "# Crear un array NumPy de datos simulados\n",
        "datos_numpy = np.random.randint(0, 100, size=(10000, 10000))\n",
        "\n",
        "# Convertir el array NumPy en un array Dask\n",
        "array_dask = da.from_array(datos_numpy, chunks=(100, 100))"
      ]
    },
    {
      "cell_type": "markdown",
      "id": "86008876",
      "metadata": {
        "id": "86008876"
      },
      "source": [
        "\n",
        "\n",
        "En este ejemplo, creamos un array NumPy con datos simulados y luego lo convertimos en un array Dask utilizando la función `from_array`. Especificamos el tamaño de los chunks para dividir el array en bloques para el procesamiento paralelo.\n",
        "\n",
        "## 2. Operaciones Básicas con Arrays Dask\n",
        "\n",
        "Una vez que hemos creado arrays Dask, podemos realizar una variedad de operaciones básicas, como cálculos matemáticos, indexación y manipulación de datos.\n",
        "\n",
        "### Ejemplo 3: Suma de Dos Arrays Dask\n",
        "\n"
      ]
    },
    {
      "cell_type": "code",
      "execution_count": null,
      "id": "544dd5ca",
      "metadata": {
        "colab": {
          "base_uri": "https://localhost:8080/"
        },
        "id": "544dd5ca",
        "outputId": "e5536b64-fdc3-4ea2-8895-6fbb8f363fbf"
      },
      "outputs": [
        {
          "name": "stdout",
          "output_type": "stream",
          "text": [
            "Suma: [ 2.65216026  2.55144554 -0.57051465 -2.38165152  0.69385117  0.73021716\n",
            " -2.65122329 -1.29702934 -0.34413766 -0.11986193]\n"
          ]
        }
      ],
      "source": [
        "# Crear dos arrays Dask de datos simulados\n",
        "datos_a = da.random.normal(size=(1000000000,), chunks=(100000,))\n",
        "datos_b = da.random.normal(size=(1000000000,), chunks=(100000,))\n",
        "\n",
        "# Calcular la suma de los dos arrays\n",
        "suma = datos_a + datos_b\n",
        "datos_masivos = suma\n",
        "# Imprimir los primeros 10 elementos de la suma\n",
        "print(\"Suma:\", suma[:10].compute())"
      ]
    },
    {
      "cell_type": "markdown",
      "id": "6fb20e40",
      "metadata": {
        "id": "6fb20e40"
      },
      "source": [
        "\n",
        "\n",
        "En este ejemplo, creamos dos arrays Dask con datos simulados y luego calculamos la suma de los dos arrays utilizando el operador `+`. Utilizamos la función `compute()` para obtener los resultados reales.\n",
        "\n",
        "### Ejemplo 4: Indexación y Slicing de un Array Dask\n",
        "\n"
      ]
    },
    {
      "cell_type": "code",
      "execution_count": null,
      "id": "4e22b23c",
      "metadata": {
        "colab": {
          "base_uri": "https://localhost:8080/"
        },
        "id": "4e22b23c",
        "outputId": "8405dc73-cb8c-42fe-b872-1706193852cf"
      },
      "outputs": [
        {
          "name": "stdout",
          "output_type": "stream",
          "text": [
            "Subconjunto de datos: [ 7.31713111e-01  6.23774849e-01  2.75961530e+00  2.84176162e+00\n",
            " -1.74545000e+00 -1.06366788e+00  4.76090867e-02 -1.15376338e+00\n",
            "  2.14101684e+00 -8.40273743e-01 -1.44209964e+00  1.46320512e+00\n",
            " -3.12816867e+00  4.62942606e-01 -7.96045828e-01 -2.44761210e+00\n",
            "  6.81223841e-01  3.29720754e+00 -1.16172554e+00  7.17230428e-01\n",
            "  2.44602533e+00  1.47880986e+00  1.64210293e+00 -1.77706516e+00\n",
            " -9.66205267e-01  1.75587912e+00  1.62367961e-01  6.04144517e-02\n",
            "  1.11903361e+00 -1.15845559e+00 -9.36363469e-02 -6.50227230e-01\n",
            " -2.14757711e+00 -1.54415587e+00  2.03958588e+00 -1.53667464e+00\n",
            " -2.54901946e-01 -4.28502959e-01  1.02720939e+00 -1.49682555e+00\n",
            " -2.61372291e-01 -1.19757547e+00  5.80202346e-01 -8.14340854e-01\n",
            "  8.62505440e-01  2.29517611e+00  1.60724249e+00  1.75446749e-01\n",
            " -1.64753271e-01  1.04189911e+00 -2.18186650e+00 -1.36356024e+00\n",
            "  9.80391490e-01  3.13728006e+00 -1.03693989e+00  1.47506688e+00\n",
            " -2.15789878e+00  1.00078171e+00  2.40446778e-01 -2.59751939e+00\n",
            "  3.00096120e+00  1.13902737e+00 -1.36722457e+00  5.32449854e-01\n",
            "  1.04616137e+00 -5.18447170e-02 -3.09385849e-01  1.06271189e+00\n",
            "  4.24194568e-02 -1.39396607e+00 -3.09574430e-01  4.54133459e-01\n",
            "  1.24873027e+00  1.81815559e+00  6.85351554e-02  1.04616074e+00\n",
            "  1.45665854e+00  1.49781029e+00 -2.93627712e-01  4.44871774e-01\n",
            " -1.50050119e+00  1.27270242e+00  1.89355340e-01  2.64767266e+00\n",
            " -1.85496412e+00  7.46459556e-01 -5.40648426e-01  6.82400053e-01\n",
            "  7.55932195e-01  1.70614577e+00  6.73255719e-01 -5.94167527e-01\n",
            " -8.45435061e-01  1.87178247e-01  1.78221632e-01 -1.08597678e+00\n",
            " -9.00944794e-01  1.82610380e+00 -1.05402248e+00 -1.66649735e+00\n",
            " -5.82303782e-01 -1.66885262e+00  4.83945178e-01 -1.58827065e+00\n",
            " -7.60781929e-02 -1.04402060e+00  4.19539591e-02  4.77870732e-01\n",
            "  1.23256354e+00 -5.27154174e-01  3.46929974e-03  2.53770615e+00\n",
            " -2.55729368e+00  7.58342321e-01  2.89744184e-01 -1.41637946e+00\n",
            "  7.42946588e-01  4.90930098e-01 -3.06424646e+00  2.06047846e+00\n",
            "  1.55069407e+00  2.90356797e-01  1.92158486e+00  1.20843364e+00\n",
            " -1.12680270e+00  3.52653712e+00 -7.90184570e-01 -4.68145926e-01\n",
            " -2.64974706e+00  4.82465047e-01 -1.49961708e+00 -1.61321998e+00\n",
            " -6.06069768e-01  1.64961616e+00  2.49143279e-02 -2.03902911e+00\n",
            "  2.15120939e+00  1.60381226e+00 -9.52189721e-01 -1.85291719e-01\n",
            "  6.53374455e-01 -1.22892218e+00 -1.22106626e-01  1.11156834e+00\n",
            "  4.37965032e-01 -1.26094258e+00 -1.87415862e+00  8.15595568e-01\n",
            " -3.80162710e-01 -5.29057823e-02 -5.85602176e-01 -9.83425284e-01\n",
            " -4.71851657e-01 -1.20568778e+00  3.43610727e-01  7.49262433e-01\n",
            "  7.27692074e-01 -2.00879796e+00 -1.39557962e+00 -1.76435777e+00\n",
            " -3.53795066e-01  1.99482737e+00  2.19698146e-01  9.37108024e-01\n",
            "  1.07001169e-01  6.81184529e-01  2.11177268e+00  6.41499375e-01\n",
            "  1.70579999e+00 -1.31726067e+00 -1.04446785e+00 -1.80251500e+00\n",
            " -6.79638240e-01 -1.56490752e-02  9.41727559e-01  1.63037727e+00\n",
            "  2.76182883e-01 -4.24889326e-01  9.17350493e-02 -9.09719191e-01\n",
            "  6.53441485e-01  1.13268327e+00  8.09531350e-01 -1.53929504e+00\n",
            " -6.25202126e-01  5.96382612e-01 -6.36742063e-02 -1.50162971e+00\n",
            "  1.25993536e+00 -9.75300761e-01  1.33469358e-02 -1.18777303e+00\n",
            "  1.07242067e+00  3.52665643e-01 -2.65290297e+00 -4.31472867e-01\n",
            "  6.29475450e-01  2.87673499e-01  1.03071938e+00 -2.65033495e-01\n",
            "  6.20417854e-02  2.33042318e+00  3.34784426e-01  5.99301263e-01\n",
            " -5.75842350e-01 -3.01093355e-01 -9.39116981e-01  1.34102056e+00\n",
            "  3.39630192e+00  7.99999450e-01 -5.90513487e-01 -1.52461025e+00\n",
            " -6.52627373e-01 -2.77454264e+00 -5.26329745e-01 -5.60026299e-01\n",
            "  4.87343310e-01  4.29301760e-01 -1.24709016e-01  1.01521133e+00\n",
            " -5.89196038e-01  8.61447833e-01  2.19975154e+00 -8.08864177e-01\n",
            "  7.33331409e-01  9.38494861e-01  3.50814741e-01  3.14472874e-01\n",
            "  2.80225525e+00 -5.87284488e-02 -8.18632690e-01  2.95384284e-01\n",
            "  2.84723080e+00  1.39686403e+00 -2.17994927e+00  4.95856412e-01\n",
            "  1.86493189e+00  2.66580964e+00  1.28940919e+00 -1.19543390e+00\n",
            "  1.22197248e+00  7.71715430e-01  2.48126728e-01 -1.85125385e+00\n",
            " -2.48111285e+00 -4.68221866e-01  1.57905033e+00 -1.09479761e+00\n",
            "  6.44028851e-01  1.98563383e-01 -3.65308484e-01  5.22183583e-01\n",
            "  3.59725903e-01  3.99046636e-01  1.83374324e+00  3.56116368e-02\n",
            " -2.38754890e-01 -7.87278335e-01  4.22823093e-01  1.96395788e+00\n",
            "  9.09361468e-01  8.09400147e-02  4.26745931e-01  4.13210107e-01\n",
            "  2.66065903e-01  9.57216112e-01 -1.06191378e-01 -1.83243555e+00\n",
            "  2.10234634e+00 -8.96203588e-01  1.00582727e+00 -3.33650554e+00\n",
            "  7.04438404e-01 -1.51327756e-01  2.85654414e+00 -1.15127159e-01\n",
            "  2.70954627e-01 -3.91982606e-01 -4.85873512e-01 -1.27876864e+00\n",
            " -3.28552781e+00  6.35524366e-01  3.25823410e+00 -2.59671678e+00\n",
            " -1.10868544e+00 -4.29687933e-01 -1.07133287e+00 -1.47189932e+00\n",
            "  9.29809989e-01 -1.03952751e+00 -8.22515248e-01  8.30471805e-01\n",
            " -5.42222861e-01 -5.98759193e-01  1.75938103e+00 -1.92871213e+00\n",
            "  2.81146805e-01  1.19915105e+00  4.64830692e-01  7.43629252e-01\n",
            "  1.56197964e-02 -1.19504925e+00  9.35053438e-01 -4.46299315e-01\n",
            " -1.58273365e+00  2.30632551e+00  5.68113365e-01  1.21612366e-01\n",
            " -1.14699228e+00 -1.76265033e+00  3.06470675e-01  9.28448981e-01\n",
            " -1.11723523e-01  8.67564310e-01  1.73047360e-01 -1.84508342e+00\n",
            "  2.01814657e+00  1.86835117e-01  2.24672036e+00 -4.78062319e-01\n",
            " -8.21588245e-01 -3.56767397e-01  1.21841078e+00  3.75130894e-01\n",
            " -2.56973249e+00 -4.03474401e+00 -1.08580475e+00 -4.16432018e-01\n",
            " -1.81269009e+00  1.52812918e+00  1.13482114e+00  1.50399347e+00\n",
            " -2.08119356e+00  3.15377616e+00  1.11488374e+00  3.86680531e-01\n",
            "  8.37694263e-02  8.90077897e-01  6.77754039e-01 -1.69368588e+00\n",
            "  1.63076581e+00  1.39210959e-01  9.62412495e-01 -2.70590460e+00\n",
            " -3.53808704e-01  1.76559197e+00 -1.28948572e+00  4.64880631e-01\n",
            " -3.86545017e-01  1.16731193e+00  2.09088060e+00  1.12246832e+00\n",
            "  1.88730162e+00  2.17021645e+00  4.34843854e-01  4.58340642e-01\n",
            "  8.32478160e-01 -2.47002418e+00 -2.27791881e+00 -2.35759260e+00\n",
            "  1.92375815e+00 -1.03738770e+00 -1.68329497e+00 -1.50687965e+00\n",
            "  9.07574741e-01  1.16544473e-01 -1.54890561e+00  1.05758300e+00\n",
            "  1.86985017e+00 -2.18834626e+00 -3.57988488e-01 -8.50984333e-01\n",
            " -1.66374285e-01  2.96356560e+00  1.54945793e+00 -6.06024138e-01\n",
            "  1.44630580e+00  2.52033688e-01  2.48568601e-01 -9.19651886e-01\n",
            " -1.09724890e+00  8.82502778e-02  3.77966999e-01 -1.36639545e-01\n",
            "  1.67302830e+00  1.66859963e+00  1.02154974e+00  1.22531572e+00\n",
            " -1.40178246e+00 -8.67996517e-01 -2.21677481e-01  4.76254724e-01\n",
            " -5.07581011e-01  5.18303106e-01  4.90937202e-01 -1.82500811e+00\n",
            "  4.57802139e-01 -8.98311738e-01  2.12428229e+00  1.51235156e+00\n",
            "  1.03846503e+00 -1.39259934e-02  4.26794131e-01 -6.80161124e-01\n",
            "  1.26619951e+00  2.58278732e+00 -3.46587405e-01 -3.72309306e-01\n",
            " -1.52954594e+00  2.13227026e+00  2.08748365e-02  1.17353673e+00\n",
            "  2.33997949e+00 -2.48532220e+00 -1.14649025e+00  2.88372697e-01\n",
            "  1.30705425e+00 -2.99475450e-01  9.98994773e-01 -1.13431037e+00\n",
            " -4.50377721e-01 -1.01461493e+00  5.50341090e-01  2.16777740e+00\n",
            " -1.64339697e+00  9.11747313e-01  1.97332762e-01  1.09167528e+00\n",
            "  2.59445027e+00  2.55189495e-01 -5.83408631e-02  5.07210406e-01\n",
            " -7.08199350e-01 -1.80136249e+00  1.39394149e+00  1.24746549e+00\n",
            " -8.91153728e-01 -1.52272444e+00 -9.26287209e-01  5.55278379e-01\n",
            "  3.47262428e+00 -6.28705925e-01 -2.22453326e+00  1.08732660e-01\n",
            "  2.01547798e+00 -1.19719317e-01  1.84288620e+00  3.78264463e+00\n",
            "  1.69213683e+00  7.09126882e-01 -6.43071474e-01 -1.75438228e+00\n",
            "  4.78712918e-01 -5.50499133e-01 -2.38910920e+00 -1.41378692e+00\n",
            "  2.95934954e-01  1.49556503e+00 -3.71545822e-01 -2.59079848e+00\n",
            " -1.64101656e+00  3.47769713e+00 -6.06838024e-01  1.86031038e+00\n",
            "  1.17564646e+00  2.12281968e+00  1.40923958e-01 -5.32290747e-01\n",
            " -1.68658007e+00 -2.71831356e-01 -3.81429094e-01 -4.91792581e-01\n",
            "  8.59328090e-01  5.75714806e-01 -5.99628864e-01 -9.63290905e-01\n",
            " -4.88622740e-01  2.61911526e+00 -2.39775732e+00  8.33793526e-02\n",
            " -1.65912214e+00 -1.52304058e-02  1.28134056e-01 -2.23212667e-01\n",
            " -7.83892894e-01 -1.03816725e+00 -2.72982256e+00  2.68204503e-01\n",
            " -8.78057894e-01 -4.13037431e-01 -3.84841681e-01  1.82116822e+00\n",
            "  2.21838195e-01 -6.27826581e-01 -1.71708050e+00 -1.49945584e-01\n",
            " -1.82625926e+00  7.93315361e-02 -1.11214993e-02 -3.90071847e-01\n",
            " -3.24693712e-02  1.11219267e+00 -1.15833587e+00 -2.75823466e-01\n",
            " -1.58780510e+00 -2.12841038e-01  8.56148957e-01  2.04181150e+00\n",
            "  1.38672553e+00  1.16049085e+00  9.10219382e-01 -2.00185940e+00\n",
            " -1.38893579e+00 -1.78965677e+00 -2.36685532e+00 -1.05179529e+00\n",
            " -3.84860110e-01  1.39514187e+00 -8.35638538e-01 -1.22695997e+00\n",
            " -8.64970269e-01  5.72676562e-01 -3.54384390e-01  1.14748706e+00\n",
            " -4.57048535e-01  1.23129860e+00  1.03494257e+00 -6.69042994e-01\n",
            "  1.33688321e+00  2.62739935e-01 -1.80827888e+00 -1.43101235e-01\n",
            "  9.84732412e-01 -2.93260415e-01 -1.01887207e+00 -1.87137601e+00\n",
            " -1.12588786e+00 -1.53722055e+00 -9.91299321e-01 -8.63072626e-01\n",
            " -9.61452965e-01  6.45271940e-02  5.95895846e-02  1.78879540e+00\n",
            " -1.39547043e+00 -9.11802041e-02  1.14502723e+00  1.28452822e+00\n",
            "  4.34565485e-01 -6.23257580e-01  8.88485388e-01  1.30673005e+00\n",
            "  1.50249338e-02 -5.93873980e-01 -1.47567605e+00  1.96164044e+00\n",
            "  1.75605111e+00  3.51007144e-01 -1.22512566e+00  7.84054631e-01\n",
            "  9.43625807e-02 -1.18241915e+00  1.20747643e+00  2.24831653e-01\n",
            "  1.23159462e+00 -2.19923904e-02  1.60547544e+00 -7.21088647e-01\n",
            " -2.29647147e-01 -1.75996124e+00 -4.67430639e-01 -2.46234866e-01\n",
            "  1.21152423e+00  5.23840560e-01  4.92183673e-01 -3.37297202e-01\n",
            "  1.35756902e-02  5.80278392e-01  1.54709054e-01  1.99699123e+00\n",
            " -7.10081593e-01 -7.80034762e-01  2.25055653e+00  6.94090492e-01\n",
            "  2.89912708e+00  2.12414969e+00  4.98415508e-02  1.62173165e+00\n",
            "  2.39936208e-01  4.68248938e-01  1.26713964e+00 -1.47340215e+00\n",
            " -1.06479238e+00  2.80426663e+00 -5.10715034e-01  1.34701435e+00\n",
            "  1.09165421e+00  1.97026773e+00 -1.77115728e+00  6.95784716e-01\n",
            " -6.40350581e-01  6.44124697e-01 -6.42120620e-01  3.18714924e-01\n",
            " -1.20216610e+00  4.29749739e-01  7.31625827e-01 -2.22719990e+00\n",
            "  2.53497450e-02 -2.91296761e+00  1.77717395e+00  1.08154361e+00\n",
            " -3.92337389e-01  1.15977276e+00 -9.75875258e-01 -4.47931852e-01\n",
            " -6.42832733e-01  2.82091504e+00 -2.86053193e-01 -3.64802489e-01\n",
            " -2.27444071e-02  2.77007682e+00 -1.95676314e-01  1.10882967e+00\n",
            "  1.33740349e+00 -1.06919554e+00 -2.22367589e+00 -1.87013219e+00\n",
            " -7.04346594e-01  1.98055571e-02 -5.79862898e-01 -8.36218047e-01\n",
            "  9.00771418e-02  3.15081467e+00 -3.23930376e-01  1.80364304e+00\n",
            "  1.52350838e-01  2.28101227e+00  1.25134466e+00 -3.60402577e-01\n",
            "  8.82880112e-01  1.86569904e+00  1.31628144e+00 -2.49160038e+00\n",
            "  7.23441304e-01 -5.27389585e-01  1.58660499e+00 -3.56883185e+00\n",
            " -8.38629989e-01 -4.46259631e-01 -5.21005494e-01 -2.73287627e-01\n",
            "  2.08233262e-01  2.27803240e+00 -1.70838819e-02 -8.73297863e-01\n",
            "  3.33039143e+00 -2.22013032e+00  2.10782726e+00 -1.69821186e+00\n",
            " -1.14425105e+00 -4.25807500e-01 -9.54264164e-01  1.05350332e+00\n",
            "  8.46083376e-02 -2.09852075e+00 -1.17352554e+00  9.15029584e-01\n",
            "  7.50740470e-01  1.09538911e+00  2.03777406e-01  1.03737803e+00\n",
            " -1.19987936e+00  2.84032140e+00  2.36217866e+00 -5.02421160e-01\n",
            " -2.03396980e+00 -9.64492301e-01 -2.27553891e+00 -2.29567029e+00\n",
            "  1.18998236e+00  1.20668672e+00  2.24602378e+00 -2.38703463e+00\n",
            "  5.44574592e-01  2.62024315e+00  5.28008286e-01  9.56204049e-01\n",
            "  1.92024936e-01  9.85308082e-02 -4.12782883e-01 -1.33604257e+00\n",
            " -2.93631503e-01 -7.84873186e-02  4.15075836e-01 -1.52928190e+00\n",
            " -1.57631449e+00  9.21784625e-01 -1.24529167e+00  1.17680297e+00\n",
            "  6.07262216e-01  1.29137427e-01 -1.28659132e-01 -9.09038991e-01\n",
            " -6.11285151e-01 -6.46714544e-01 -2.48197703e-01 -6.36168488e-01\n",
            "  2.11180997e-01  1.68097451e+00  5.76708104e-01 -3.91208451e+00\n",
            " -1.77161176e-01  3.93264397e-01  1.16223758e+00  6.88470323e-01\n",
            " -1.04117132e+00  2.05078835e+00  2.63445951e-01 -7.27330021e-01\n",
            " -2.35745752e+00 -1.38878937e+00  2.95134992e-01 -3.99255691e-01\n",
            "  1.09530942e+00 -5.20099372e-01 -2.11635681e+00 -6.63105081e-01\n",
            " -5.39866288e-01 -3.29209562e+00 -7.84511370e-02  2.59771906e-01\n",
            "  5.26958299e-01 -1.39488147e+00  1.65734837e+00  1.47389130e+00\n",
            " -1.21775778e+00  7.14619088e-01  2.06821755e+00  1.92354403e+00\n",
            " -2.68035687e-03 -2.30918264e+00 -8.70992812e-01 -8.82676691e-01\n",
            " -9.44652689e-02 -2.97791528e+00  1.76791003e+00  1.97360549e-01\n",
            " -2.92231449e+00 -1.57983946e+00 -7.85112501e-01  1.75021901e+00\n",
            " -1.33994706e+00 -6.96269344e-01 -7.43209750e-02  2.54778219e+00\n",
            " -1.08736882e+00  1.27414776e+00  1.52690793e-02  1.23199328e+00\n",
            "  4.40868608e-01 -2.00034429e-01 -8.19167555e-01 -1.11742394e-01\n",
            "  6.42791496e-01  5.60802965e-01 -2.99792868e-01 -7.44724428e-01\n",
            " -4.27571737e-01 -2.58461647e-01  3.30535910e-01 -5.73850011e-01\n",
            "  1.80672514e-01  2.16379881e+00  2.07792586e+00 -1.87572014e+00\n",
            " -4.26532933e-02 -2.07716959e-01  2.47025678e-01 -1.42008717e+00\n",
            "  4.33940847e-01 -1.14590262e+00  1.97990280e+00 -1.13493180e+00\n",
            " -2.19180773e+00 -1.36804909e-02 -1.20739349e+00 -5.03087671e-01\n",
            " -2.83019801e+00 -8.68334592e-01 -2.35705105e+00  5.13632005e-01\n",
            " -1.07582771e+00 -7.68616680e-01 -2.17267750e-01  3.25458140e-01\n",
            " -9.68360291e-01  4.27577010e-01  2.16490945e+00  2.74700553e+00\n",
            " -2.11898339e-02 -1.29466143e+00 -1.97914436e-01 -5.75397413e-01\n",
            " -2.26135029e+00  5.43650707e-01 -4.97099156e-02 -6.10484245e-01\n",
            " -2.21376959e-01  1.87023056e+00  7.74991269e-02 -1.06996416e+00\n",
            "  1.05754327e+00  5.04426385e-01  1.41091301e+00 -7.53143527e-01\n",
            "  1.82627149e-01 -1.76650315e+00  1.74094451e+00  5.65607848e-01\n",
            " -6.09954304e-02  1.53787936e+00 -1.26086615e+00 -1.27832614e+00\n",
            "  9.29802053e-01 -1.16370130e+00 -8.71081160e-01 -8.71059506e-01\n",
            "  3.28559388e+00  1.66937347e+00  1.18337548e+00  8.74050203e-01\n",
            "  7.74721333e-01 -3.19570669e+00 -1.28896633e+00 -1.18510952e+00\n",
            "  1.29129886e+00 -2.25321625e+00  1.09254643e+00 -1.10780379e+00\n",
            "  1.30292631e+00  4.25814550e-01  1.79233648e+00  1.70888692e-01\n",
            "  2.70557240e+00 -4.72412672e-01  2.27151967e-01 -1.65728531e+00\n",
            " -1.14053377e+00  1.05263351e+00 -1.70399136e+00  9.27510741e-01\n",
            " -1.95602244e-02 -1.70583475e+00 -8.16340892e-01 -1.69232228e+00\n",
            " -8.33415213e-01 -5.05566571e+00  1.42321428e+00  3.51684294e-01\n",
            " -4.46516863e-01  3.99848827e-03  1.33887617e+00 -3.20085261e-01\n",
            "  3.22355697e+00  1.19723387e+00  6.86226302e-01  1.12905516e+00\n",
            " -4.27497603e-01 -2.08180137e+00  2.45375340e-02 -2.10369802e+00\n",
            " -1.39925701e+00  3.10686307e+00  9.84303673e-01 -1.31191035e+00\n",
            "  1.84338442e-01 -6.21102965e-01  2.52799834e-01  2.06000935e+00\n",
            "  3.36365181e-01 -1.30727682e+00  1.64948554e+00  1.05551395e+00\n",
            " -1.03121713e+00 -8.28118394e-01 -4.19882708e-01 -1.46233432e+00\n",
            "  3.28315560e+00 -2.55725418e+00  4.12744744e-01  7.42495135e-01\n",
            "  5.53178511e-01 -1.16263302e-01 -3.12998197e-01 -1.89425386e-01\n",
            " -1.03277063e+00  2.86744183e-02 -5.95748034e-01  1.60013617e+00\n",
            "  2.76261364e+00  1.54170514e+00  2.22379344e+00  5.20826873e-01\n",
            "  9.51702210e-01  8.78903928e-01 -9.30220339e-01 -1.47180997e+00\n",
            " -5.47458872e-01 -6.28562357e-01 -2.29512082e+00 -2.25701002e+00\n",
            "  9.26315688e-01  2.69652658e+00  3.46393195e-01 -1.26849550e+00\n",
            "  5.96337297e-02  9.79350120e-01 -7.26900158e-01  1.61469176e+00\n",
            " -6.48657474e-01 -1.14416910e+00 -2.28914370e-01 -1.43152364e+00\n",
            " -3.40672858e-01 -1.93907003e+00  8.51352565e-01  1.53577841e+00\n",
            " -1.68371688e+00 -1.25773335e+00  9.51450682e-01 -5.51422423e-01\n",
            "  8.12485754e-01 -2.93354189e-01 -2.45287500e+00  1.14821003e+00\n",
            " -1.53742036e+00 -2.75484653e+00 -1.36086926e+00 -1.61952703e+00\n",
            " -1.52023456e-01  1.05269607e-01  2.09312757e+00  1.18890096e+00\n",
            "  1.07657982e+00  3.16521509e-02  1.57039007e-01 -6.08905656e-03\n",
            "  1.14801844e+00  1.47661277e+00 -3.27038418e+00 -6.25397999e-01\n",
            " -7.82802830e-01 -7.43221016e-01 -1.75508617e+00 -5.26890978e-01\n",
            " -2.86056382e+00 -8.80203085e-01  9.22050818e-01 -6.65327977e-01\n",
            "  2.01228631e+00 -1.96101238e+00  6.01038181e-01  2.55656126e+00\n",
            "  1.76407289e+00 -8.07191571e-01  2.69795849e+00  3.85379267e-01\n",
            "  1.47405635e+00  1.82282514e+00 -7.11135890e-01  9.03233587e-01\n",
            " -1.85409155e+00  9.37112312e-01 -3.57538113e+00  3.17327902e+00\n",
            " -1.06936691e-01 -4.33211636e-01  1.61078573e+00 -3.08097340e+00\n",
            "  2.16499570e+00 -1.21760488e+00  1.43415469e+00 -1.10144209e+00\n",
            "  2.41469962e+00  1.39369626e+00  2.73209072e-01  8.19771286e-01\n",
            "  2.10360604e+00 -6.15315038e-01  1.38464492e+00  1.92277509e+00\n",
            "  5.38192503e-01 -5.78615950e-02  1.77766529e+00 -3.40316454e-02\n",
            "  8.62831789e-01  1.32603140e+00 -1.19387200e+00  6.26196751e-01]\n"
          ]
        }
      ],
      "source": [
        "# Seleccionar un subconjunto de datos de un array Dask\n",
        "subconjunto = datos_masivos[50000000:50001000]\n",
        "\n",
        "# Imprimir el subconjunto de datos\n",
        "print(\"Subconjunto de datos:\", subconjunto.compute())"
      ]
    },
    {
      "cell_type": "markdown",
      "id": "cdef6144",
      "metadata": {
        "id": "cdef6144"
      },
      "source": [
        "\n",
        "\n",
        "En este ejemplo, seleccionamos un subconjunto de datos de un array Dask utilizando la indexación y el slicing de la misma manera que lo haríamos con un array NumPy. Utilizamos la función `compute()` para obtener los resultados reales.\n",
        "\n",
        "### Ejemplo 5: Aplicación de Funciones Matemáticas a un Array Dask\n",
        "\n"
      ]
    },
    {
      "cell_type": "code",
      "execution_count": null,
      "id": "e9dfb7d1",
      "metadata": {
        "colab": {
          "base_uri": "https://localhost:8080/"
        },
        "id": "e9dfb7d1",
        "outputId": "31d4b427-1210-472b-c996-1c32e56c8d30"
      },
      "outputs": [
        {
          "name": "stdout",
          "output_type": "stream",
          "text": [
            "Raíz cuadrada: [1.62854544 1.59732449        nan        nan 0.83297729 0.85452745\n",
            "        nan        nan        nan        nan]\n"
          ]
        },
        {
          "name": "stderr",
          "output_type": "stream",
          "text": [
            "/usr/local/lib/python3.10/dist-packages/dask/core.py:127: RuntimeWarning: invalid value encountered in sqrt\n",
            "  return func(*(_execute_task(a, cache) for a in args))\n"
          ]
        }
      ],
      "source": [
        "# Calcular la raíz cuadrada de cada elemento del array\n",
        "raiz_cuadrada = da.sqrt(datos_masivos)\n",
        "\n",
        "# Imprimir los primeros 10 elementos de la raíz cuadrada\n",
        "print(\"Raíz cuadrada:\", raiz_cuadrada[:10].compute())"
      ]
    },
    {
      "cell_type": "markdown",
      "id": "f5079f82",
      "metadata": {
        "id": "f5079f82"
      },
      "source": [
        "\n",
        "\n",
        "En este ejemplo, aplicamos la función `sqrt` de NumPy a cada elemento del array Dask para calcular la raíz cuadrada. Nuevamente, utilizamos la función `compute()` para obtener los resultados reales.\n",
        "\n",
        "### Ejemplo 6: Reducción de Dimensionalidad\n",
        "\n"
      ]
    },
    {
      "cell_type": "code",
      "execution_count": null,
      "id": "996a35ae",
      "metadata": {
        "colab": {
          "base_uri": "https://localhost:8080/"
        },
        "id": "996a35ae",
        "outputId": "d2c24c9f-d244-418a-fd50-983b866abe15"
      },
      "outputs": [
        {
          "name": "stdout",
          "output_type": "stream",
          "text": [
            "Suma total: 17808.536360786322\n"
          ]
        }
      ],
      "source": [
        "# Calcular la suma de todos los elementos del array\n",
        "suma_total = datos_masivos.sum()\n",
        "\n",
        "# Imprimir la suma total\n",
        "print(\"Suma total:\", suma_total.compute())"
      ]
    },
    {
      "cell_type": "markdown",
      "id": "72d780c6",
      "metadata": {
        "id": "72d780c6"
      },
      "source": [
        "\n",
        "\n",
        "En este ejemplo, utilizamos la función `sum()` de Dask para calcular la suma de todos los elementos del array Dask, reduciendo la dimensionalidad del array a un solo valor.\n",
        "\n",
        "Estos ejemplos ilustran algunas de las operaciones básicas que se pueden realizar con arrays Dask en Python. En los siguientes ejemplos, exploraremos operaciones más avanzadas y técnicas de optimización para mejorar el rendimiento del procesamiento de datos con Dask Arrays.\n",
        "\n",
        "\n",
        "# Ejemplos de Paralelismo y Distribución de Datos en Arrays Dask\n",
        "\n",
        "En este apartado, exploraremos cómo Dask aprovecha el paralelismo y distribuye los datos para mejorar el rendimiento en el procesamiento de arrays Dask.\n",
        "\n",
        "## 1. Paralelismo en Operaciones con Arrays Dask\n",
        "\n",
        "Una de las principales ventajas de Dask es su capacidad para ejecutar operaciones en paralelo, aprovechando al máximo los recursos disponibles, como múltiples núcleos de CPU o nodos de un clúster. A continuación, veremos algunos ejemplos de cómo se implementa el paralelismo en Dask.\n",
        "\n",
        "### Ejemplo 1: Suma de Dos Arrays en Paralelo\n",
        "\n"
      ]
    },
    {
      "cell_type": "code",
      "execution_count": null,
      "id": "ce075a71",
      "metadata": {
        "colab": {
          "base_uri": "https://localhost:8080/"
        },
        "id": "ce075a71",
        "outputId": "7630217d-ac34-4545-e5b0-735f05fb2c7b"
      },
      "outputs": [
        {
          "name": "stdout",
          "output_type": "stream",
          "text": [
            "Suma: [0.31865107 0.99294926 0.3854997  1.33563342 1.11455571 0.7609822\n",
            " 0.90927161 0.63115236 0.73474979 0.92645988]\n"
          ]
        }
      ],
      "source": [
        "import dask.array as da\n",
        "\n",
        "# Crear dos arrays Dask de datos simulados\n",
        "datos_a = da.random.random(size=(1000000,), chunks=(100000,))\n",
        "datos_b = da.random.random(size=(1000000,), chunks=(100000,))\n",
        "\n",
        "# Calcular la suma de los dos arrays en paralelo\n",
        "suma = datos_a + datos_b\n",
        "\n",
        "# Imprimir los primeros 10 elementos de la suma\n",
        "print(\"Suma:\", suma[:10].compute())"
      ]
    },
    {
      "cell_type": "markdown",
      "id": "4da4615c",
      "metadata": {
        "id": "4da4615c"
      },
      "source": [
        "\n",
        "\n",
        "En este ejemplo, creamos dos arrays Dask con datos simulados y luego calculamos la suma de los dos arrays utilizando el operador `+`. Dask divide automáticamente los cálculos en pequeñas tareas que se pueden ejecutar en paralelo en múltiples núcleos de CPU.\n",
        "\n",
        "### Ejemplo 2: Aplicación de Función en Paralelo\n",
        "\n"
      ]
    },
    {
      "cell_type": "code",
      "execution_count": null,
      "id": "870916a9",
      "metadata": {
        "colab": {
          "base_uri": "https://localhost:8080/"
        },
        "id": "870916a9",
        "outputId": "d655267f-8a2c-4452-d022-4791f8021bbe"
      },
      "outputs": [
        {
          "name": "stdout",
          "output_type": "stream",
          "text": [
            "Raíz cuadrada: [0.45290772 0.94817191 0.29144098 0.95078946 0.9290337  0.80208038\n",
            " 0.85585133 0.46526365 0.44922506 0.28966873]\n"
          ]
        }
      ],
      "source": [
        "# Calcular la raíz cuadrada de cada elemento del array en paralelo\n",
        "raiz_cuadrada = da.sqrt(datos_a)\n",
        "\n",
        "# Imprimir los primeros 10 elementos de la raíz cuadrada\n",
        "print(\"Raíz cuadrada:\", raiz_cuadrada[:10].compute())"
      ]
    },
    {
      "cell_type": "markdown",
      "id": "e45e1418",
      "metadata": {
        "id": "e45e1418"
      },
      "source": [
        "\n",
        "\n",
        "En este ejemplo, aplicamos la función `sqrt` de NumPy a cada elemento del array Dask para calcular la raíz cuadrada. Dask distribuye automáticamente la operación en paralelo en los bloques de datos, lo que resulta en un procesamiento más rápido.\n",
        "\n",
        "## 2. Distribución de Datos en Arrays Dask\n",
        "\n",
        "Dask distribuye los datos en bloques (chunks) para facilitar el procesamiento paralelo y la gestión eficiente de la memoria. A continuación, veremos cómo podemos controlar la distribución de datos en los arrays Dask.\n",
        "\n",
        "### Ejemplo 3: Especificación de Tamaño de Chunks\n",
        "\n"
      ]
    },
    {
      "cell_type": "code",
      "execution_count": null,
      "id": "3e3511a9",
      "metadata": {
        "colab": {
          "base_uri": "https://localhost:8080/"
        },
        "id": "3e3511a9",
        "outputId": "09027646-038a-4d37-cdcf-b6a525059b87"
      },
      "outputs": [
        {
          "name": "stdout",
          "output_type": "stream",
          "text": [
            "Número de chunks: (1000,)\n"
          ]
        }
      ],
      "source": [
        "# Crear un array Dask con datos simulados y especificar el tamaño de los chunks\n",
        "datos_distribuidos = da.random.random(size=(100000000,), chunks=(100000,))\n",
        "\n",
        "# Imprimir el número de chunks en el array\n",
        "print(\"Número de chunks:\", datos_distribuidos.numblocks)"
      ]
    },
    {
      "cell_type": "markdown",
      "id": "c090da59",
      "metadata": {
        "id": "c090da59"
      },
      "source": [
        "\n",
        "\n",
        "En este ejemplo, creamos un array Dask con datos simulados y especificamos el tamaño de los chunks utilizando el parámetro `chunks`. Esto divide el array en bloques de 100,000 elementos cada uno, lo que facilita el procesamiento paralelo y la gestión de la memoria.\n",
        "\n",
        "### Ejemplo 4: Reorganización de Chunks\n",
        "\n"
      ]
    },
    {
      "cell_type": "code",
      "execution_count": null,
      "id": "ee92b7a6",
      "metadata": {
        "colab": {
          "base_uri": "https://localhost:8080/"
        },
        "id": "ee92b7a6",
        "outputId": "b284cd19-552e-4a84-fb91-8aca45d3cdd0"
      },
      "outputs": [
        {
          "name": "stdout",
          "output_type": "stream",
          "text": [
            "Número de chunks (reorganizado): (2000,)\n"
          ]
        }
      ],
      "source": [
        "# Reorganizar los chunks de un array Dask\n",
        "datos_reorganizados = datos_distribuidos.rechunk((50000,))\n",
        "\n",
        "# Imprimir el número de chunks en el array reorganizado\n",
        "print(\"Número de chunks (reorganizado):\", datos_reorganizados.numblocks)"
      ]
    },
    {
      "cell_type": "markdown",
      "id": "9bd906c5",
      "metadata": {
        "id": "9bd906c5"
      },
      "source": [
        "\n",
        "\n",
        "En este ejemplo, reorganizamos los chunks de un array Dask utilizando el método `rechunk`. Esto puede ser útil para optimizar el rendimiento de las operaciones, especialmente cuando se necesitan tamaños de chunks diferentes.\n",
        "\n",
        "Dask aprovecha el paralelismo y distribuye los datos de manera eficiente para mejorar el rendimiento en el procesamiento de arrays Dask. Esto permite manejar conjuntos de datos masivos que no caben en la memoria RAM de una sola máquina y realizar operaciones en paralelo para acelerar el procesamiento. Con los ejemplos proporcionados, hemos visto cómo podemos utilizar Dask para realizar operaciones en paralelo y controlar la distribución de datos en los arrays Dask para optimizar el rendimiento de nuestras aplicaciones.\n",
        "\n",
        "\n",
        "# Ejemplos de Uso de Dask DataFrames en Python\n",
        "\n",
        "En este apartado, exploraremos cómo trabajar con DataFrames Dask en Python para el procesamiento eficiente de grandes conjuntos de datos. Comenzaremos creando y cargando DataFrames Dask a partir de conjuntos de datos simulados.\n",
        "\n",
        "## 1. Creación y Carga de DataFrames Dask\n",
        "\n",
        "Antes de comenzar con los ejemplos, primero crearemos dos conjuntos de datos simulados y los guardaremos en archivos CSV. Luego, cargaremos estos archivos CSV en DataFrames Dask para su posterior procesamiento.\n",
        "\n",
        "### Creación y Guardado de Conjuntos de Datos Simulados\n",
        "\n"
      ]
    },
    {
      "cell_type": "code",
      "execution_count": null,
      "id": "f4ae02eb",
      "metadata": {
        "id": "f4ae02eb"
      },
      "outputs": [],
      "source": [
        "import pandas as pd\n",
        "import dask.dataframe as dd\n",
        "\n",
        "# Crear primer conjunto de datos simulados\n",
        "datos_1 = pd.DataFrame({\n",
        "    'ID': range(1, 1000001),\n",
        "    'Nombre': ['Usuario_' + str(i) for i in range(1, 1000001)],\n",
        "    'Edad': [20 + i % 30 for i in range(1, 1000001)],\n",
        "    'Puntuación': [i % 100 for i in range(1, 1000001)]\n",
        "})\n",
        "\n",
        "# Guardar el primer conjunto de datos en un archivo CSV\n",
        "datos_1.to_csv('datos_1.csv', index=False)\n",
        "\n",
        "# Crear segundo conjunto de datos simulados\n",
        "datos_2 = pd.DataFrame({\n",
        "    'ID': range(1000001, 2000001),\n",
        "    'Nombre': ['Usuario_' + str(i) for i in range(1000001, 2000001)],\n",
        "    'Edad': [25 + i % 35 for i in range(1, 1000001)],\n",
        "    'Puntuación': [i % 75 for i in range(1, 1000001)]\n",
        "})\n",
        "\n",
        "# Guardar el segundo conjunto de datos en un archivo CSV\n",
        "datos_2.to_csv('datos_2.csv', index=False)"
      ]
    },
    {
      "cell_type": "markdown",
      "id": "17b7380a",
      "metadata": {
        "id": "17b7380a"
      },
      "source": [
        "\n",
        "\n",
        "En este código, creamos dos conjuntos de datos simulados utilizando la biblioteca Pandas y los guardamos en archivos CSV llamados `datos_1.csv` y `datos_2.csv`.\n",
        "\n",
        "### Carga de Conjuntos de Datos en DataFrames Dask\n",
        "\n"
      ]
    },
    {
      "cell_type": "code",
      "execution_count": null,
      "id": "dc8a081c",
      "metadata": {
        "id": "dc8a081c"
      },
      "outputs": [],
      "source": [
        "# Cargar los conjuntos de datos CSV en DataFrames Dask\n",
        "df_dask_1 = dd.read_csv('datos_1.csv')\n",
        "df_dask_2 = dd.read_csv('datos_2.csv')"
      ]
    },
    {
      "cell_type": "markdown",
      "id": "31a0f54f",
      "metadata": {
        "id": "31a0f54f"
      },
      "source": [
        "\n",
        "\n",
        "En este código, cargamos los conjuntos de datos CSV en DataFrames Dask utilizando la función `read_csv` de Dask DataFrame.\n",
        "\n",
        "Ahora que hemos creado y cargado los conjuntos de datos, podemos comenzar a realizar operaciones básicas y manipulación de datos con DataFrames Dask.\n",
        "\n",
        "## 2. Operaciones Básicas con DataFrames Dask\n",
        "\n",
        "### Ejemplo 1: Concatenación de DataFrames\n",
        "\n"
      ]
    },
    {
      "cell_type": "code",
      "execution_count": null,
      "id": "7208f0d3",
      "metadata": {
        "colab": {
          "base_uri": "https://localhost:8080/"
        },
        "id": "7208f0d3",
        "outputId": "0d8cd25f-02ce-4751-e5e7-7a3de0110be1"
      },
      "outputs": [
        {
          "name": "stdout",
          "output_type": "stream",
          "text": [
            "   ID     Nombre  Edad  Puntuación\n",
            "0   1  Usuario_1    21           1\n",
            "1   2  Usuario_2    22           2\n",
            "2   3  Usuario_3    23           3\n",
            "3   4  Usuario_4    24           4\n",
            "4   5  Usuario_5    25           5\n"
          ]
        }
      ],
      "source": [
        "# Concatenar los dos DataFrames Dask\n",
        "df_concatenado = dd.concat([df_dask_1, df_dask_2])\n",
        "\n",
        "# Imprimir las primeras filas del DataFrame concatenado\n",
        "print(df_concatenado.head())"
      ]
    },
    {
      "cell_type": "markdown",
      "id": "c9072306",
      "metadata": {
        "id": "c9072306"
      },
      "source": [
        "\n",
        "\n",
        "En este ejemplo, utilizamos la función `concat` de Dask para concatenar los dos DataFrames Dask cargados previamente en uno solo.\n",
        "\n",
        "### Ejemplo 2: Filtrado de Datos\n",
        "\n"
      ]
    },
    {
      "cell_type": "code",
      "execution_count": null,
      "id": "186fae60",
      "metadata": {
        "colab": {
          "base_uri": "https://localhost:8080/"
        },
        "id": "186fae60",
        "outputId": "76449a0a-9351-4ea3-a7e6-af9ae62db8da"
      },
      "outputs": [
        {
          "name": "stdout",
          "output_type": "stream",
          "text": [
            "    ID      Nombre  Edad  Puntuación\n",
            "50  51  Usuario_51    41          51\n",
            "51  52  Usuario_52    42          52\n",
            "52  53  Usuario_53    43          53\n",
            "53  54  Usuario_54    44          54\n",
            "54  55  Usuario_55    45          55\n"
          ]
        }
      ],
      "source": [
        "# Filtrar los datos para mantener solo los usuarios con una puntuación mayor a 50\n",
        "df_filtrado = df_concatenado[df_concatenado['Puntuación'] > 50]\n",
        "\n",
        "# Imprimir las primeras filas del DataFrame filtrado\n",
        "print(df_filtrado.head())"
      ]
    },
    {
      "cell_type": "markdown",
      "id": "40437c3c",
      "metadata": {
        "id": "40437c3c"
      },
      "source": [
        "\n",
        "\n",
        "En este ejemplo, filtramos los datos para mantener solo las filas donde la puntuación es mayor a 50.\n",
        "\n",
        "## 3. Manipulación de Datos con DataFrames Dask\n",
        "\n",
        "### Ejemplo 3: Agrupación y Cálculo de Estadísticas\n",
        "\n"
      ]
    },
    {
      "cell_type": "code",
      "execution_count": null,
      "id": "ec39178c",
      "metadata": {
        "colab": {
          "base_uri": "https://localhost:8080/"
        },
        "id": "ec39178c",
        "outputId": "1fa9f534-2552-47e5-87b2-f54314b37b1e"
      },
      "outputs": [
        {
          "name": "stdout",
          "output_type": "stream",
          "text": [
            "Puntuación\n",
            "0     35.714224\n",
            "1     36.713337\n",
            "2     37.713337\n",
            "3     38.713337\n",
            "4     39.713337\n",
            "        ...    \n",
            "95    34.999000\n",
            "96    35.999000\n",
            "97    36.999000\n",
            "98    37.999000\n",
            "99    38.999000\n",
            "Name: Edad, Length: 100, dtype: float64\n"
          ]
        }
      ],
      "source": [
        "# Calcular la media de la edad por puntuación\n",
        "media_edad_por_puntuacion = df_concatenado.groupby('Puntuación')['Edad'].mean().compute()\n",
        "\n",
        "# Imprimir la media de la edad por puntuación\n",
        "print(media_edad_por_puntuacion)"
      ]
    },
    {
      "cell_type": "markdown",
      "id": "ceca21e1",
      "metadata": {
        "id": "ceca21e1"
      },
      "source": [
        "\n",
        "\n",
        "En este ejemplo, agrupamos los datos por puntuación y calculamos la media de la edad para cada grupo.\n",
        "\n",
        "### Ejemplo 4: Agregación de Datos\n",
        "\n"
      ]
    },
    {
      "cell_type": "code",
      "execution_count": null,
      "id": "16a5fb33",
      "metadata": {
        "colab": {
          "base_uri": "https://localhost:8080/"
        },
        "id": "16a5fb33",
        "outputId": "f89623c9-b774-4601-af14-3caa7ec971c3"
      },
      "outputs": [
        {
          "name": "stdout",
          "output_type": "stream",
          "text": [
            "Puntuación\n",
            "0     23333\n",
            "1     23334\n",
            "2     23334\n",
            "3     23334\n",
            "4     23334\n",
            "      ...  \n",
            "95    10000\n",
            "96    10000\n",
            "97    10000\n",
            "98    10000\n",
            "99    10000\n",
            "Length: 100, dtype: int64\n"
          ]
        }
      ],
      "source": [
        "# Calcular el recuento de usuarios por puntuación\n",
        "recuento_por_puntuacion = df_concatenado.groupby('Puntuación').size().compute()\n",
        "\n",
        "# Imprimir el recuento de usuarios por puntuación\n",
        "print(recuento_por_puntuacion)"
      ]
    },
    {
      "cell_type": "markdown",
      "id": "aae1249d",
      "metadata": {
        "id": "aae1249d"
      },
      "source": [
        "\n",
        "\n",
        "En este ejemplo, agregamos los datos por puntuación y calculamos el recuento de usuarios para cada grupo.\n",
        "\n",
        "Hemos visto cómo crear, cargar y manipular DataFrames Dask en Python para el procesamiento eficiente de grandes conjuntos de datos. Utilizando ejemplos con conjuntos de datos simulados, exploramos diversas operaciones básicas, como la concatenación, el filtrado, la agrupación y la agregación de datos. Dask proporciona una interfaz familiar de Pandas y puede escalar para manejar conjuntos de datos masivos que no caben en la memoria RAM de una sola máquina. Con los ejemplos proporcionados, esperamos haber demostrado la utilidad y la versatilidad de Dask para el procesamiento de datos a gran escala.\n",
        "\n",
        "\n",
        "# Ejemplos de Uso de Dask Bags en Python\n",
        "\n",
        "En este apartado, exploraremos cómo trabajar con Dask Bags en Python para realizar operaciones en conjuntos de datos no estructurados. Comenzaremos creando datos simulados y luego aplicaremos diversas operaciones utilizando Dask Bags.\n",
        "\n",
        "## 1. Creación de Datos Simulados\n",
        "\n",
        "Antes de comenzar con los ejemplos, crearemos datos simulados que utilizaremos para ilustrar las operaciones con Dask Bags. Vamos a simular datos de registros de ventas, donde cada registro tiene un ID de producto, una cantidad vendida y un precio unitario.\n",
        "\n",
        "### Creación de Datos Simulados\n",
        "\n"
      ]
    },
    {
      "cell_type": "code",
      "execution_count": null,
      "id": "001ace50",
      "metadata": {
        "id": "001ace50"
      },
      "outputs": [],
      "source": [
        "import random\n",
        "\n",
        "# Función para generar registros de ventas simulados\n",
        "def generar_registro_venta():\n",
        "    producto = random.choice(['Producto A', 'Producto B', 'Producto C'])\n",
        "    cantidad = random.randint(1, 10)\n",
        "    precio_unitario = round(random.uniform(10, 100), 2)\n",
        "    return {'producto': producto, 'cantidad': cantidad, 'precio_unitario': precio_unitario}\n",
        "\n",
        "# Generar una lista de 1 millón de registros de ventas simulados\n",
        "registros_ventas = [generar_registro_venta() for _ in range(1000000)]"
      ]
    },
    {
      "cell_type": "markdown",
      "id": "98f5255b",
      "metadata": {
        "id": "98f5255b"
      },
      "source": [
        "\n",
        "\n",
        "En este código, creamos una función `generar_registro_venta()` que genera un registro de venta simulado y luego utilizamos esta función para generar una lista de 1 millón de registros de ventas simulados.\n",
        "\n",
        "## 2. Creación y Uso de Dask Bags\n",
        "\n",
        "Ahora que tenemos datos simulados, podemos utilizar Dask Bags para procesarlos de manera eficiente.\n",
        "\n",
        "### Ejemplo 1: Creación de un Dask Bag\n",
        "\n"
      ]
    },
    {
      "cell_type": "code",
      "execution_count": null,
      "id": "443f54d5",
      "metadata": {
        "id": "443f54d5"
      },
      "outputs": [],
      "source": [
        "import dask.bag as db\n",
        "\n",
        "# Crear un Dask Bag a partir de la lista de registros de ventas simulados\n",
        "bag_ventas = db.from_sequence(registros_ventas)"
      ]
    },
    {
      "cell_type": "markdown",
      "id": "621f8295",
      "metadata": {
        "id": "621f8295"
      },
      "source": [
        "\n",
        "\n",
        "En este ejemplo, creamos un Dask Bag a partir de la lista de registros de ventas simulados utilizando la función `from_sequence()` de Dask Bag.\n",
        "\n",
        "### Ejemplo 2: Filtrado de Datos\n",
        "\n"
      ]
    },
    {
      "cell_type": "code",
      "execution_count": null,
      "id": "b17c432b",
      "metadata": {
        "id": "b17c432b"
      },
      "outputs": [],
      "source": [
        "# Filtrar los registros de ventas para mantener solo los registros del Producto A\n",
        "ventas_producto_a = bag_ventas.filter(lambda x: x['producto'] == 'Producto A')\n",
        "\n",
        "# Contar el número de registros del Producto A\n",
        "num_ventas_producto_a = ventas_producto_a.count().compute()"
      ]
    },
    {
      "cell_type": "code",
      "execution_count": null,
      "id": "kcEq3vg8zEtv",
      "metadata": {
        "colab": {
          "base_uri": "https://localhost:8080/"
        },
        "id": "kcEq3vg8zEtv",
        "outputId": "db556fc5-d4a4-4643-9104-ab2a3fd17e2c"
      },
      "outputs": [
        {
          "data": {
            "text/plain": [
              "333751"
            ]
          },
          "execution_count": 22,
          "metadata": {},
          "output_type": "execute_result"
        }
      ],
      "source": [
        "num_ventas_producto_a"
      ]
    },
    {
      "cell_type": "markdown",
      "id": "1fa05418",
      "metadata": {
        "id": "1fa05418"
      },
      "source": [
        "\n",
        "\n",
        "En este ejemplo, filtramos los registros de ventas para mantener solo los registros del Producto A utilizando el método `filter()` de Dask Bag y luego contamos el número de registros utilizando el método `count()`.\n",
        "\n",
        "### Ejemplo 3: Transformación de Datos\n",
        "\n"
      ]
    },
    {
      "cell_type": "code",
      "execution_count": null,
      "id": "de4bab33",
      "metadata": {
        "id": "de4bab33"
      },
      "outputs": [],
      "source": [
        "# Calcular el total de ventas por producto\n",
        "ventas_por_producto = bag_ventas.map(lambda x: (x['producto'], x['cantidad'] * x['precio_unitario'])) \\\n",
        "                                 .frequencies()\n",
        "\n",
        "# Obtener los resultados como un diccionario\n",
        "resultados_ventas_por_producto = dict(ventas_por_producto.compute())"
      ]
    },
    {
      "cell_type": "code",
      "execution_count": null,
      "id": "LQ6CZGm5zlo0",
      "metadata": {
        "colab": {
          "base_uri": "https://localhost:8080/"
        },
        "id": "LQ6CZGm5zlo0",
        "outputId": "5367c779-5d6e-428e-c2aa-ac1a2cc582e7"
      },
      "outputs": [
        {
          "data": {
            "text/plain": [
              "{('Producto C', 366.24): 23,\n",
              " ('Producto A', 494.01): 5,\n",
              " ('Producto C', 82.86): 11,\n",
              " ('Producto B', 833.7): 7,\n",
              " ('Producto A', 413.36): 4,\n",
              " ('Producto C', 48.51): 5,\n",
              " ('Producto A', 421.20000000000005): 6,\n",
              " ('Producto C', 126.30000000000001): 15,\n",
              " ('Producto C', 132.3): 24,\n",
              " ('Producto C', 34.53): 13,\n",
              " ('Producto C', 183.64): 9,\n",
              " ('Producto B', 252.60000000000002): 16,\n",
              " ('Producto C', 404.88): 12,\n",
              " ('Producto C', 95.55): 18,\n",
              " ('Producto A', 257.19): 7,\n",
              " ('Producto A', 605.9000000000001): 8,\n",
              " ('Producto A', 471.76): 2,\n",
              " ('Producto A', 118.6): 10,\n",
              " ('Producto C', 505.89): 5,\n",
              " ('Producto C', 221.76): 19,\n",
              " ('Producto C', 755.6): 6,\n",
              " ('Producto A', 550.5600000000001): 5,\n",
              " ('Producto C', 265.53000000000003): 5,\n",
              " ('Producto A', 112.83): 8,\n",
              " ('Producto A', 220.79999999999998): 15,\n",
              " ('Producto C', 179.16): 21,\n",
              " ('Producto A', 86.0): 21,\n",
              " ('Producto A', 106.68): 10,\n",
              " ('Producto C', 155.75): 5,\n",
              " ('Producto A', 954.5999999999999): 4,\n",
              " ('Producto C', 594.5): 7,\n",
              " ('Producto C', 234.36): 9,\n",
              " ('Producto A', 497.70000000000005): 14,\n",
              " ('Producto B', 84.21000000000001): 7,\n",
              " ('Producto C', 347.15999999999997): 5,\n",
              " ('Producto C', 610.26): 6,\n",
              " ('Producto A', 70.56): 24,\n",
              " ('Producto C', 360.48): 16,\n",
              " ('Producto A', 79.25): 7,\n",
              " ('Producto C', 60.61): 4,\n",
              " ('Producto B', 718.88): 4,\n",
              " ('Producto B', 134.9): 13,\n",
              " ('Producto A', 350.09999999999997): 21,\n",
              " ('Producto C', 86.1): 17,\n",
              " ('Producto B', 12.41): 1,\n",
              " ('Producto B', 77.48): 12,\n",
              " ('Producto B', 149.49): 10,\n",
              " ('Producto A', 151.76): 9,\n",
              " ('Producto B', 199.18): 3,\n",
              " ('Producto C', 139.53): 3,\n",
              " ('Producto B', 603.44): 3,\n",
              " ('Producto C', 278.29999999999995): 11,\n",
              " ('Producto A', 231.84): 10,\n",
              " ('Producto A', 301.25): 5,\n",
              " ('Producto B', 116.06): 2,\n",
              " ('Producto B', 115.2): 14,\n",
              " ('Producto A', 154.47): 5,\n",
              " ('Producto C', 280.45000000000005): 8,\n",
              " ('Producto C', 601.1999999999999): 7,\n",
              " ('Producto B', 75.6): 24,\n",
              " ('Producto A', 198.88): 17,\n",
              " ('Producto B', 95.01): 5,\n",
              " ('Producto A', 217.76): 3,\n",
              " ('Producto C', 754.0): 5,\n",
              " ('Producto C', 158.85000000000002): 7,\n",
              " ('Producto B', 378.7): 9,\n",
              " ('Producto C', 453.32000000000005): 5,\n",
              " ('Producto C', 130.9): 14,\n",
              " ('Producto A', 22.53): 5,\n",
              " ('Producto B', 103.08): 21,\n",
              " ('Producto C', 43.02): 11,\n",
              " ('Producto A', 435.76): 2,\n",
              " ('Producto B', 343.98): 10,\n",
              " ('Producto B', 29.04): 9,\n",
              " ('Producto C', 397.74): 13,\n",
              " ('Producto A', 53.150000000000006): 5,\n",
              " ('Producto B', 128.32): 13,\n",
              " ('Producto B', 70.80000000000001): 4,\n",
              " ('Producto A', 62.65): 7,\n",
              " ('Producto A', 154.42): 8,\n",
              " ('Producto B', 425.34000000000003): 5,\n",
              " ('Producto C', 81.89999999999999): 10,\n",
              " ('Producto A', 553.3): 5,\n",
              " ('Producto C', 157.96): 6,\n",
              " ('Producto A', 500.58): 8,\n",
              " ('Producto A', 85.23): 9,\n",
              " ('Producto A', 101.02): 5,\n",
              " ('Producto A', 114.28): 4,\n",
              " ('Producto C', 118.75): 3,\n",
              " ('Producto A', 358.7): 10,\n",
              " ('Producto A', 658.56): 9,\n",
              " ('Producto B', 27.93): 4,\n",
              " ('Producto B', 192.74): 7,\n",
              " ('Producto A', 267.96): 9,\n",
              " ('Producto A', 85.94): 11,\n",
              " ('Producto B', 438.12): 7,\n",
              " ('Producto B', 738.8100000000001): 2,\n",
              " ('Producto A', 182.14): 8,\n",
              " ('Producto C', 68.32): 14,\n",
              " ('Producto B', 152.19): 11,\n",
              " ('Producto B', 185.1): 5,\n",
              " ('Producto B', 479.78000000000003): 5,\n",
              " ('Producto B', 249.89999999999998): 13,\n",
              " ('Producto B', 253.70000000000002): 4,\n",
              " ('Producto A', 142.32): 18,\n",
              " ('Producto B', 28.56): 8,\n",
              " ('Producto C', 50.12): 7,\n",
              " ('Producto A', 185.82): 11,\n",
              " ('Producto A', 692.3700000000001): 3,\n",
              " ('Producto A', 343.9): 6,\n",
              " ('Producto A', 647.28): 6,\n",
              " ('Producto B', 79.16): 14,\n",
              " ('Producto A', 297.99): 13,\n",
              " ('Producto B', 172.32): 16,\n",
              " ('Producto C', 550.02): 5,\n",
              " ('Producto B', 575.4): 12,\n",
              " ('Producto B', 71.34): 10,\n",
              " ('Producto A', 110.76): 17,\n",
              " ('Producto A', 59.69): 6,\n",
              " ('Producto B', 165.7): 13,\n",
              " ('Producto C', 665.44): 7,\n",
              " ('Producto B', 153.9): 15,\n",
              " ('Producto B', 374.84999999999997): 10,\n",
              " ('Producto A', 386.4): 20,\n",
              " ('Producto B', 237.3): 4,\n",
              " ('Producto C', 183.96): 15,\n",
              " ('Producto A', 275.3): 6,\n",
              " ('Producto C', 188.88): 13,\n",
              " ('Producto A', 336.48): 17,\n",
              " ('Producto C', 153.24): 19,\n",
              " ('Producto C', 183.38): 3,\n",
              " ('Producto B', 206.44): 4,\n",
              " ('Producto A', 108.64): 24,\n",
              " ('Producto A', 203.12): 8,\n",
              " ('Producto B', 125.58): 17,\n",
              " ('Producto A', 21.78): 12,\n",
              " ('Producto B', 329.6): 17,\n",
              " ('Producto B', 145.29): 9,\n",
              " ('Producto A', 336.70000000000005): 5,\n",
              " ('Producto C', 688.88): 2,\n",
              " ('Producto C', 520.8): 13,\n",
              " ('Producto C', 573.48): 5,\n",
              " ('Producto C', 200.65): 4,\n",
              " ('Producto C', 41.910000000000004): 1,\n",
              " ('Producto A', 710.96): 4,\n",
              " ('Producto C', 499.79999999999995): 8,\n",
              " ('Producto C', 60.0): 17,\n",
              " ('Producto A', 315.12): 12,\n",
              " ('Producto C', 743.04): 11,\n",
              " ('Producto A', 305.46): 7,\n",
              " ('Producto C', 644.9399999999999): 6,\n",
              " ('Producto B', 894.5999999999999): 6,\n",
              " ('Producto C', 419.0): 11,\n",
              " ('Producto A', 247.04999999999998): 25,\n",
              " ('Producto B', 324.6): 18,\n",
              " ('Producto C', 230.16000000000003): 4,\n",
              " ('Producto C', 421.75): 9,\n",
              " ('Producto A', 159.0): 27,\n",
              " ('Producto C', 782.72): 1,\n",
              " ('Producto C', 177.14999999999998): 6,\n",
              " ('Producto B', 228.87): 6,\n",
              " ('Producto C', 52.86): 7,\n",
              " ('Producto A', 131.01): 3,\n",
              " ('Producto B', 31.78): 5,\n",
              " ('Producto B', 195.04): 9,\n",
              " ('Producto C', 419.7): 15,\n",
              " ('Producto B', 218.4): 18,\n",
              " ('Producto A', 672.0): 5,\n",
              " ('Producto A', 839.7): 2,\n",
              " ('Producto B', 233.96999999999997): 3,\n",
              " ('Producto C', 660.6899999999999): 4,\n",
              " ('Producto A', 161.72): 6,\n",
              " ('Producto C', 473.06): 5,\n",
              " ('Producto A', 114.7): 9,\n",
              " ('Producto A', 109.17): 8,\n",
              " ('Producto B', 53.54): 4,\n",
              " ('Producto A', 87.39): 12,\n",
              " ('Producto B', 499.84): 4,\n",
              " ('Producto B', 64.92): 16,\n",
              " ('Producto B', 75.7): 12,\n",
              " ('Producto C', 181.24): 5,\n",
              " ('Producto B', 373.56): 8,\n",
              " ('Producto A', 245.68): 4,\n",
              " ('Producto C', 663.1200000000001): 4,\n",
              " ('Producto A', 804.2): 9,\n",
              " ('Producto A', 81.52): 18,\n",
              " ('Producto A', 214.97): 3,\n",
              " ('Producto B', 542.0999999999999): 6,\n",
              " ('Producto A', 72.44): 10,\n",
              " ('Producto B', 20.49): 9,\n",
              " ('Producto B', 89.03999999999999): 10,\n",
              " ('Producto C', 247.73000000000002): 3,\n",
              " ('Producto B', 545.2): 11,\n",
              " ('Producto A', 173.2): 15,\n",
              " ('Producto B', 165.5): 7,\n",
              " ('Producto C', 145.44): 25,\n",
              " ('Producto C', 886.77): 3,\n",
              " ('Producto A', 460.17999999999995): 5,\n",
              " ('Producto C', 729.28): 4,\n",
              " ('Producto C', 201.76): 2,\n",
              " ('Producto B', 807.39): 4,\n",
              " ('Producto A', 68.56): 11,\n",
              " ('Producto A', 444.54999999999995): 4,\n",
              " ('Producto A', 257.59999999999997): 4,\n",
              " ('Producto A', 86.08): 19,\n",
              " ('Producto B', 305.76): 13,\n",
              " ('Producto B', 103.2): 28,\n",
              " ('Producto B', 46.9): 10,\n",
              " ('Producto C', 194.9): 1,\n",
              " ('Producto B', 154.17): 8,\n",
              " ('Producto C', 492.72): 9,\n",
              " ('Producto A', 677.04): 7,\n",
              " ('Producto C', 227.01): 9,\n",
              " ('Producto A', 130.42): 2,\n",
              " ('Producto C', 600.1200000000001): 8,\n",
              " ('Producto A', 187.92000000000002): 10,\n",
              " ('Producto A', 255.0): 19,\n",
              " ('Producto A', 432.41999999999996): 4,\n",
              " ('Producto B', 92.34): 23,\n",
              " ('Producto B', 194.32000000000002): 3,\n",
              " ('Producto A', 504.21000000000004): 5,\n",
              " ('Producto A', 87.54): 9,\n",
              " ('Producto C', 295.12): 16,\n",
              " ('Producto B', 81.6): 23,\n",
              " ('Producto B', 170.2): 12,\n",
              " ('Producto C', 76.04): 8,\n",
              " ('Producto A', 701.28): 7,\n",
              " ('Producto B', 186.12): 21,\n",
              " ('Producto B', 750.0600000000001): 7,\n",
              " ('Producto A', 146.44): 16,\n",
              " ('Producto C', 187.98): 9,\n",
              " ('Producto C', 56.2): 12,\n",
              " ('Producto A', 45.21): 5,\n",
              " ('Producto B', 299.59999999999997): 3,\n",
              " ('Producto B', 92.18): 10,\n",
              " ('Producto A', 307.23): 2,\n",
              " ('Producto B', 308.8): 13,\n",
              " ('Producto A', 217.98000000000002): 7,\n",
              " ('Producto C', 416.0): 16,\n",
              " ('Producto A', 267.9): 15,\n",
              " ('Producto A', 465.78): 4,\n",
              " ('Producto B', 275.84999999999997): 2,\n",
              " ('Producto A', 204.29999999999998): 11,\n",
              " ('Producto A', 170.01): 8,\n",
              " ('Producto C', 206.57999999999998): 10,\n",
              " ('Producto B', 678.64): 7,\n",
              " ('Producto B', 67.0): 15,\n",
              " ('Producto C', 191.74): 5,\n",
              " ('Producto B', 239.12): 7,\n",
              " ('Producto B', 139.04999999999998): 13,\n",
              " ('Producto C', 13.88): 3,\n",
              " ('Producto B', 157.85999999999999): 12,\n",
              " ('Producto B', 643.23): 6,\n",
              " ('Producto A', 541.92): 8,\n",
              " ('Producto C', 40.45): 3,\n",
              " ('Producto A', 558.24): 10,\n",
              " ('Producto B', 145.2): 36,\n",
              " ('Producto A', 577.5): 15,\n",
              " ('Producto C', 244.57999999999998): 3,\n",
              " ('Producto A', 57.32): 18,\n",
              " ('Producto C', 125.78999999999999): 6,\n",
              " ('Producto B', 24.14): 11,\n",
              " ('Producto B', 106.64999999999999): 12,\n",
              " ('Producto C', 39.21): 10,\n",
              " ('Producto B', 736.0): 8,\n",
              " ('Producto A', 286.08): 18,\n",
              " ('Producto A', 375.04): 10,\n",
              " ('Producto B', 588.24): 14,\n",
              " ('Producto B', 309.24): 14,\n",
              " ('Producto C', 30.78): 17,\n",
              " ('Producto B', 156.52): 7,\n",
              " ('Producto C', 184.71): 5,\n",
              " ('Producto B', 381.78): 2,\n",
              " ('Producto B', 446.1): 8,\n",
              " ('Producto A', 172.3): 16,\n",
              " ('Producto C', 445.95): 5,\n",
              " ('Producto C', 126.24): 18,\n",
              " ('Producto A', 54.24): 22,\n",
              " ('Producto B', 109.55): 11,\n",
              " ('Producto A', 138.75): 10,\n",
              " ('Producto C', 73.5): 20,\n",
              " ('Producto C', 453.84000000000003): 8,\n",
              " ('Producto A', 122.04): 9,\n",
              " ('Producto C', 996.7): 3,\n",
              " ('Producto C', 56.08): 15,\n",
              " ('Producto A', 224.8): 20,\n",
              " ('Producto A', 37.35): 5,\n",
              " ('Producto C', 239.60000000000002): 11,\n",
              " ('Producto B', 244.82999999999998): 3,\n",
              " ('Producto B', 431.15000000000003): 7,\n",
              " ('Producto B', 83.84): 20,\n",
              " ('Producto A', 240.24): 17,\n",
              " ('Producto A', 321.76): 9,\n",
              " ('Producto C', 91.99): 3,\n",
              " ('Producto A', 107.72999999999999): 8,\n",
              " ('Producto A', 261.24): 11,\n",
              " ('Producto B', 337.12): 6,\n",
              " ('Producto C', 145.68): 16,\n",
              " ('Producto B', 259.32): 11,\n",
              " ('Producto B', 141.14999999999998): 4,\n",
              " ('Producto A', 231.0): 23,\n",
              " ('Producto B', 321.28): 12,\n",
              " ('Producto C', 489.96): 8,\n",
              " ('Producto C', 326.4): 21,\n",
              " ('Producto A', 93.16): 11,\n",
              " ('Producto A', 526.41): 5,\n",
              " ('Producto A', 355.24): 6,\n",
              " ('Producto A', 393.24): 9,\n",
              " ('Producto A', 111.60000000000001): 14,\n",
              " ('Producto A', 432.95000000000005): 3,\n",
              " ('Producto B', 364.35): 3,\n",
              " ('Producto B', 466.15000000000003): 3,\n",
              " ('Producto B', 738.16): 4,\n",
              " ('Producto C', 231.20999999999998): 4,\n",
              " ('Producto B', 212.96): 11,\n",
              " ('Producto C', 555.36): 5,\n",
              " ('Producto B', 483.84000000000003): 13,\n",
              " ('Producto B', 280.0): 28,\n",
              " ('Producto A', 62.67): 5,\n",
              " ('Producto A', 40.06): 18,\n",
              " ('Producto B', 297.84999999999997): 5,\n",
              " ('Producto A', 17.84): 4,\n",
              " ('Producto A', 93.36): 29,\n",
              " ('Producto C', 186.36): 9,\n",
              " ('Producto C', 707.28): 4,\n",
              " ('Producto C', 366.0): 19,\n",
              " ('Producto C', 213.6): 24,\n",
              " ('Producto B', 20.56): 10,\n",
              " ('Producto B', 10.55): 6,\n",
              " ('Producto A', 244.79999999999998): 8,\n",
              " ('Producto C', 380.73): 4,\n",
              " ('Producto C', 218.75): 11,\n",
              " ('Producto A', 206.45999999999998): 5,\n",
              " ('Producto A', 167.22): 7,\n",
              " ('Producto B', 411.88): 6,\n",
              " ('Producto C', 431.13): 7,\n",
              " ('Producto C', 76.96): 9,\n",
              " ('Producto B', 478.5): 8,\n",
              " ('Producto C', 53.550000000000004): 6,\n",
              " ('Producto A', 615.6): 10,\n",
              " ('Producto A', 81.64): 9,\n",
              " ('Producto C', 152.92): 7,\n",
              " ('Producto C', 686.0): 11,\n",
              " ('Producto A', 87.9): 15,\n",
              " ('Producto B', 651.2): 9,\n",
              " ('Producto B', 164.88): 21,\n",
              " ('Producto A', 98.94): 11,\n",
              " ('Producto C', 445.56000000000006): 2,\n",
              " ('Producto C', 506.58000000000004): 5,\n",
              " ('Producto A', 253.11999999999998): 3,\n",
              " ('Producto A', 301.26): 1,\n",
              " ('Producto A', 233.36): 11,\n",
              " ('Producto C', 850.14): 3,\n",
              " ('Producto C', 183.78000000000003): 3,\n",
              " ('Producto A', 524.7): 13,\n",
              " ('Producto A', 334.88): 8,\n",
              " ('Producto B', 338.24): 15,\n",
              " ('Producto C', 164.89999999999998): 6,\n",
              " ('Producto C', 245.88): 14,\n",
              " ('Producto B', 82.58): 15,\n",
              " ('Producto B', 24.4): 7,\n",
              " ('Producto C', 764.0): 8,\n",
              " ('Producto B', 185.68): 16,\n",
              " ('Producto B', 80.15): 8,\n",
              " ('Producto A', 29.04): 7,\n",
              " ('Producto C', 555.12): 10,\n",
              " ('Producto C', 377.70000000000005): 10,\n",
              " ('Producto B', 596.61): 4,\n",
              " ('Producto C', 546.64): 3,\n",
              " ('Producto B', 567.5): 9,\n",
              " ('Producto C', 376.24): 9,\n",
              " ('Producto A', 508.5): 15,\n",
              " ('Producto B', 178.05): 4,\n",
              " ('Producto A', 127.6): 17,\n",
              " ('Producto C', 476.65): 9,\n",
              " ('Producto C', 482.84999999999997): 5,\n",
              " ('Producto C', 290.5): 19,\n",
              " ('Producto B', 562.41): 3,\n",
              " ('Producto A', 469.6): 9,\n",
              " ('Producto C', 745.47): 5,\n",
              " ('Producto B', 39.1): 9,\n",
              " ('Producto A', 541.98): 11,\n",
              " ('Producto B', 781.7): 7,\n",
              " ('Producto C', 116.20000000000002): 6,\n",
              " ('Producto C', 501.48): 10,\n",
              " ('Producto B', 430.38): 4,\n",
              " ('Producto B', 24.81): 5,\n",
              " ('Producto A', 59.5): 10,\n",
              " ('Producto B', 193.70999999999998): 1,\n",
              " ('Producto B', 808.1): 3,\n",
              " ('Producto A', 343.98): 15,\n",
              " ('Producto A', 49.05): 2,\n",
              " ('Producto A', 103.3): 13,\n",
              " ('Producto A', 78.12): 23,\n",
              " ('Producto B', 199.66): 3,\n",
              " ('Producto B', 610.83): 4,\n",
              " ('Producto B', 222.12): 18,\n",
              " ('Producto A', 57.72): 21,\n",
              " ('Producto C', 450.5): 4,\n",
              " ('Producto A', 689.15): 3,\n",
              " ('Producto B', 187.92000000000002): 7,\n",
              " ('Producto C', 457.12): 4,\n",
              " ('Producto C', 76.79): 9,\n",
              " ('Producto C', 78.3): 13,\n",
              " ('Producto C', 283.62): 5,\n",
              " ('Producto A', 278.01): 10,\n",
              " ('Producto C', 59.02): 9,\n",
              " ('Producto B', 64.28): 14,\n",
              " ('Producto C', 502.08): 4,\n",
              " ('Producto C', 395.20000000000005): 8,\n",
              " ('Producto B', 221.12): 8,\n",
              " ('Producto C', 221.82): 6,\n",
              " ('Producto B', 74.84): 11,\n",
              " ('Producto B', 62.87): 3,\n",
              " ('Producto A', 30.12): 6,\n",
              " ('Producto A', 314.12): 7,\n",
              " ('Producto A', 123.56): 8,\n",
              " ('Producto A', 888.6): 4,\n",
              " ('Producto C', 68.3): 18,\n",
              " ('Producto C', 286.0): 24,\n",
              " ('Producto A', 468.45): 7,\n",
              " ('Producto A', 764.72): 5,\n",
              " ('Producto C', 308.56): 11,\n",
              " ('Producto C', 196.24): 4,\n",
              " ('Producto C', 180.16): 13,\n",
              " ('Producto B', 209.76): 12,\n",
              " ('Producto A', 446.40000000000003): 7,\n",
              " ('Producto B', 887.0999999999999): 2,\n",
              " ('Producto A', 53.02): 6,\n",
              " ('Producto C', 221.34): 14,\n",
              " ('Producto C', 212.85): 6,\n",
              " ('Producto A', 500.70000000000005): 2,\n",
              " ('Producto B', 59.46): 12,\n",
              " ('Producto B', 48.74): 12,\n",
              " ('Producto C', 255.48): 10,\n",
              " ('Producto C', 871.29): 2,\n",
              " ('Producto B', 867.4): 5,\n",
              " ('Producto A', 26.19): 5,\n",
              " ('Producto B', 61.88): 17,\n",
              " ('Producto B', 272.16): 14,\n",
              " ('Producto A', 335.28): 9,\n",
              " ('Producto C', 60.2): 13,\n",
              " ('Producto A', 188.28): 14,\n",
              " ('Producto C', 190.06): 5,\n",
              " ('Producto B', 232.44): 12,\n",
              " ('Producto A', 207.81): 7,\n",
              " ('Producto C', 93.31): 7,\n",
              " ('Producto B', 711.4499999999999): 8,\n",
              " ('Producto A', 108.87): 2,\n",
              " ('Producto A', 34.82): 8,\n",
              " ('Producto B', 165.2): 28,\n",
              " ('Producto A', 316.6): 13,\n",
              " ('Producto B', 98.26): 9,\n",
              " ('Producto A', 198.03): 5,\n",
              " ('Producto A', 657.51): 7,\n",
              " ('Producto B', 599.67): 3,\n",
              " ('Producto A', 573.12): 12,\n",
              " ('Producto A', 785.8799999999999): 3,\n",
              " ('Producto C', 346.9): 8,\n",
              " ('Producto C', 231.29999999999998): 21,\n",
              " ('Producto A', 200.67000000000002): 4,\n",
              " ('Producto B', 179.32): 9,\n",
              " ('Producto B', 344.09999999999997): 13,\n",
              " ('Producto B', 461.64): 6,\n",
              " ('Producto C', 194.88): 13,\n",
              " ('Producto B', 798.66): 7,\n",
              " ('Producto A', 103.44): 17,\n",
              " ('Producto C', 93.72): 21,\n",
              " ('Producto B', 688.48): 5,\n",
              " ('Producto A', 398.24): 9,\n",
              " ('Producto A', 94.53): 4,\n",
              " ('Producto C', 67.66): 8,\n",
              " ('Producto A', 71.06): 9,\n",
              " ('Producto C', 280.4): 21,\n",
              " ('Producto A', 886.5999999999999): 7,\n",
              " ('Producto C', 191.76): 18,\n",
              " ('Producto C', 433.3): 6,\n",
              " ('Producto B', 285.04): 11,\n",
              " ('Producto B', 188.84): 11,\n",
              " ('Producto A', 86.82000000000001): 9,\n",
              " ('Producto C', 488.40000000000003): 11,\n",
              " ('Producto C', 392.8): 19,\n",
              " ('Producto B', 149.9): 9,\n",
              " ('Producto B', 472.75): 9,\n",
              " ('Producto B', 342.40000000000003): 5,\n",
              " ('Producto A', 125.01): 7,\n",
              " ('Producto A', 379.08): 14,\n",
              " ('Producto C', 280.05): 6,\n",
              " ('Producto A', 93.13): 2,\n",
              " ('Producto B', 74.2): 19,\n",
              " ('Producto B', 63.12): 27,\n",
              " ('Producto C', 23.15): 3,\n",
              " ('Producto A', 301.14): 10,\n",
              " ('Producto C', 451.0): 18,\n",
              " ('Producto A', 564.48): 15,\n",
              " ('Producto C', 97.72): 16,\n",
              " ('Producto C', 466.92): 3,\n",
              " ('Producto B', 41.24): 11,\n",
              " ('Producto A', 262.1): 8,\n",
              " ('Producto B', 30.52): 5,\n",
              " ('Producto C', 248.28000000000003): 7,\n",
              " ('Producto B', 442.02): 5,\n",
              " ('Producto A', 477.05000000000007): 4,\n",
              " ('Producto B', 431.01): 6,\n",
              " ('Producto C', 68.64): 29,\n",
              " ('Producto B', 46.410000000000004): 1,\n",
              " ('Producto B', 376.24): 6,\n",
              " ('Producto A', 301.92): 14,\n",
              " ('Producto B', 39.43): 5,\n",
              " ('Producto B', 605.44): 6,\n",
              " ('Producto A', 617.0): 4,\n",
              " ('Producto B', 141.4): 18,\n",
              " ('Producto C', 168.21): 10,\n",
              " ('Producto C', 232.2): 11,\n",
              " ('Producto A', 86.85000000000001): 3,\n",
              " ('Producto A', 249.92): 6,\n",
              " ('Producto C', 230.34): 6,\n",
              " ('Producto A', 521.52): 8,\n",
              " ('Producto C', 538.2): 12,\n",
              " ('Producto C', 493.9): 5,\n",
              " ('Producto A', 653.44): 4,\n",
              " ('Producto A', 810.36): 1,\n",
              " ('Producto A', 52.46): 5,\n",
              " ('Producto C', 101.19999999999999): 5,\n",
              " ('Producto A', 157.42999999999998): 3,\n",
              " ('Producto B', 30.11): 4,\n",
              " ('Producto A', 817.5600000000001): 3,\n",
              " ('Producto A', 34.24): 5,\n",
              " ('Producto B', 140.96): 12,\n",
              " ('Producto C', 392.68): 5,\n",
              " ('Producto B', 307.79999999999995): 6,\n",
              " ('Producto C', 383.52): 14,\n",
              " ('Producto B', 118.38): 9,\n",
              " ('Producto B', 400.14): 7,\n",
              " ('Producto B', 21.82): 9,\n",
              " ('Producto B', 459.85): 3,\n",
              " ('Producto A', 255.8): 4,\n",
              " ('Producto C', 426.36): 3,\n",
              " ('Producto B', 137.18): 2,\n",
              " ('Producto B', 218.28000000000003): 7,\n",
              " ('Producto A', 449.37): 6,\n",
              " ('Producto C', 571.98): 7,\n",
              " ('Producto B', 95.16): 26,\n",
              " ('Producto C', 651.5999999999999): 10,\n",
              " ('Producto A', 485.65): 4,\n",
              " ('Producto A', 149.10000000000002): 12,\n",
              " ('Producto B', 780.8): 9,\n",
              " ('Producto C', 72.48): 15,\n",
              " ('Producto B', 490.24): 5,\n",
              " ('Producto B', 547.5600000000001): 5,\n",
              " ('Producto A', 212.25): 8,\n",
              " ('Producto A', 388.56): 9,\n",
              " ('Producto B', 612.85): 6,\n",
              " ('Producto C', 685.4000000000001): 4,\n",
              " ('Producto C', 374.56): 9,\n",
              " ('Producto C', 176.58): 8,\n",
              " ('Producto B', 142.8): 18,\n",
              " ('Producto B', 253.25): 6,\n",
              " ('Producto C', 211.2): 7,\n",
              " ('Producto C', 86.87): 9,\n",
              " ('Producto B', 983.0): 5,\n",
              " ('Producto A', 71.71): 4,\n",
              " ('Producto C', 234.63): 7,\n",
              " ('Producto C', 659.19): 1,\n",
              " ('Producto C', 126.64): 7,\n",
              " ('Producto A', 467.25): 9,\n",
              " ('Producto C', 689.9): 4,\n",
              " ('Producto A', 90.57000000000001): 3,\n",
              " ('Producto C', 126.94): 5,\n",
              " ('Producto A', 829.2): 5,\n",
              " ('Producto C', 79.55): 8,\n",
              " ('Producto B', 252.24): 12,\n",
              " ('Producto B', 518.4): 9,\n",
              " ('Producto C', 676.8000000000001): 2,\n",
              " ('Producto A', 287.42): 4,\n",
              " ('Producto A', 660.6): 8,\n",
              " ('Producto B', 83.28): 21,\n",
              " ('Producto B', 221.05): 6,\n",
              " ('Producto A', 159.32): 8,\n",
              " ('Producto A', 761.76): 7,\n",
              " ('Producto B', 155.38): 3,\n",
              " ('Producto A', 86.03999999999999): 10,\n",
              " ('Producto A', 357.18): 4,\n",
              " ('Producto A', 286.2): 9,\n",
              " ('Producto C', 269.28): 10,\n",
              " ('Producto B', 11.68): 9,\n",
              " ('Producto B', 104.08): 12,\n",
              " ('Producto C', 232.79999999999998): 8,\n",
              " ('Producto C', 149.51999999999998): 5,\n",
              " ('Producto A', 192.64): 14,\n",
              " ('Producto A', 113.85000000000001): 6,\n",
              " ('Producto A', 226.70000000000002): 5,\n",
              " ('Producto A', 213.2): 22,\n",
              " ('Producto A', 104.49): 6,\n",
              " ('Producto C', 89.75): 8,\n",
              " ('Producto B', 83.87): 4,\n",
              " ('Producto A', 253.44): 17,\n",
              " ('Producto A', 395.5): 8,\n",
              " ('Producto A', 341.16): 7,\n",
              " ('Producto A', 228.54000000000002): 8,\n",
              " ('Producto A', 329.44): 2,\n",
              " ('Producto B', 379.79999999999995): 14,\n",
              " ('Producto C', 200.45999999999998): 10,\n",
              " ('Producto B', 381.44): 17,\n",
              " ('Producto B', 97.37): 8,\n",
              " ('Producto C', 248.48): 3,\n",
              " ('Producto B', 52.84): 11,\n",
              " ('Producto C', 665.91): 12,\n",
              " ('Producto A', 716.72): 6,\n",
              " ('Producto C', 334.4): 15,\n",
              " ('Producto A', 183.98): 4,\n",
              " ('Producto A', 431.25): 4,\n",
              " ('Producto B', 54.06): 10,\n",
              " ('Producto A', 323.9): 7,\n",
              " ('Producto A', 28.44): 6,\n",
              " ('Producto C', 159.52): 12,\n",
              " ('Producto C', 773.28): 7,\n",
              " ('Producto A', 702.99): 7,\n",
              " ('Producto A', 98.04): 9,\n",
              " ('Producto C', 566.88): 8,\n",
              " ('Producto A', 75.5): 10,\n",
              " ('Producto B', 372.95000000000005): 5,\n",
              " ('Producto C', 486.88): 6,\n",
              " ('Producto A', 170.6): 22,\n",
              " ('Producto C', 339.0): 11,\n",
              " ('Producto A', 305.9): 6,\n",
              " ('Producto C', 597.8700000000001): 4,\n",
              " ('Producto C', 102.0): 18,\n",
              " ('Producto B', 375.18): 7,\n",
              " ('Producto A', 385.07): 7,\n",
              " ('Producto C', 45.41): 3,\n",
              " ('Producto B', 371.76): 10,\n",
              " ('Producto B', 544.7): 2,\n",
              " ('Producto A', 77.3): 7,\n",
              " ('Producto A', 134.16): 22,\n",
              " ('Producto C', 189.76): 11,\n",
              " ('Producto B', 215.37): 6,\n",
              " ('Producto B', 257.61): 7,\n",
              " ('Producto A', 572.3100000000001): 3,\n",
              " ('Producto B', 460.5): 16,\n",
              " ('Producto B', 699.8000000000001): 3,\n",
              " ('Producto A', 267.3): 13,\n",
              " ('Producto B', 252.71999999999997): 7,\n",
              " ('Producto A', 325.89): 5,\n",
              " ('Producto B', 251.28000000000003): 11,\n",
              " ('Producto A', 183.2): 15,\n",
              " ('Producto C', 97.3): 8,\n",
              " ('Producto A', 282.18): 1,\n",
              " ('Producto C', 52.08): 14,\n",
              " ('Producto A', 71.52): 16,\n",
              " ('Producto A', 356.4): 20,\n",
              " ('Producto B', 746.08): 8,\n",
              " ('Producto A', 195.60000000000002): 6,\n",
              " ('Producto C', 456.57): 6,\n",
              " ('Producto A', 226.0): 15,\n",
              " ('Producto B', 34.53): 17,\n",
              " ('Producto C', 727.28): 9,\n",
              " ('Producto A', 58.56): 10,\n",
              " ('Producto B', 243.10999999999999): 5,\n",
              " ('Producto B', 131.38): 3,\n",
              " ('Producto B', 35.32): 8,\n",
              " ('Producto A', 521.12): 2,\n",
              " ('Producto A', 487.13): 2,\n",
              " ('Producto B', 450.65): 4,\n",
              " ('Producto C', 542.24): 7,\n",
              " ('Producto A', 317.44): 10,\n",
              " ('Producto A', 311.99): 3,\n",
              " ('Producto C', 365.58): 5,\n",
              " ('Producto A', 318.29999999999995): 10,\n",
              " ('Producto B', 191.28): 18,\n",
              " ('Producto B', 184.2): 18,\n",
              " ('Producto B', 71.7): 7,\n",
              " ('Producto B', 239.54999999999998): 8,\n",
              " ('Producto C', 99.88): 9,\n",
              " ('Producto B', 426.42): 2,\n",
              " ('Producto B', 23.79): 4,\n",
              " ('Producto B', 126.21000000000001): 11,\n",
              " ('Producto B', 57.7): 11,\n",
              " ('Producto A', 613.76): 10,\n",
              " ('Producto C', 263.85): 8,\n",
              " ('Producto A', 42.18): 10,\n",
              " ('Producto B', 567.3): 8,\n",
              " ('Producto B', 363.9): 14,\n",
              " ('Producto C', 92.52): 32,\n",
              " ('Producto C', 186.66): 15,\n",
              " ('Producto C', 338.6): 16,\n",
              " ('Producto B', 87.15): 11,\n",
              " ('Producto A', 304.88): 4,\n",
              " ('Producto A', 269.55): 5,\n",
              " ('Producto B', 58.76): 13,\n",
              " ('Producto B', 212.2): 9,\n",
              " ('Producto C', 581.91): 4,\n",
              " ('Producto B', 77.95): 5,\n",
              " ('Producto B', 135.68): 10,\n",
              " ('Producto C', 115.85000000000001): 7,\n",
              " ('Producto A', 271.67): 3,\n",
              " ('Producto C', 423.36): 12,\n",
              " ('Producto C', 425.40000000000003): 4,\n",
              " ('Producto A', 79.15): 5,\n",
              " ('Producto A', 737.0): 5,\n",
              " ('Producto A', 94.16): 11,\n",
              " ('Producto C', 288.0): 24,\n",
              " ('Producto B', 41.14): 11,\n",
              " ('Producto C', 681.6): 4,\n",
              " ('Producto C', 556.14): 3,\n",
              " ('Producto A', 327.2): 11,\n",
              " ('Producto A', 465.57): 4,\n",
              " ('Producto A', 456.70000000000005): 4,\n",
              " ('Producto C', 525.5): 5,\n",
              " ('Producto A', 401.82): 4,\n",
              " ('Producto B', 69.72): 17,\n",
              " ('Producto A', 306.59999999999997): 1,\n",
              " ('Producto C', 344.19): 6,\n",
              " ('Producto A', 840.33): 2,\n",
              " ('Producto B', 494.76): 4,\n",
              " ('Producto A', 59.58): 9,\n",
              " ('Producto A', 188.22): 16,\n",
              " ('Producto C', 313.38): 9,\n",
              " ('Producto B', 886.2): 3,\n",
              " ('Producto C', 45.4): 6,\n",
              " ('Producto B', 684.6299999999999): 1,\n",
              " ('Producto B', 397.44): 17,\n",
              " ('Producto C', 669.36): 5,\n",
              " ('Producto A', 71.54): 13,\n",
              " ('Producto A', 663.28): 5,\n",
              " ('Producto B', 72.12): 25,\n",
              " ('Producto A', 257.64): 7,\n",
              " ('Producto B', 26.69): 5,\n",
              " ('Producto B', 233.73000000000002): 3,\n",
              " ('Producto B', 139.96): 11,\n",
              " ('Producto B', 586.96): 2,\n",
              " ('Producto A', 131.82): 20,\n",
              " ('Producto C', 58.32000000000001): 6,\n",
              " ('Producto C', 94.03): 4,\n",
              " ('Producto A', 187.9): 6,\n",
              " ('Producto C', 48.22): 4,\n",
              " ('Producto C', 142.88): 17,\n",
              " ('Producto C', 270.69): 10,\n",
              " ('Producto C', 120.63): 4,\n",
              " ('Producto B', 70.71): 8,\n",
              " ('Producto A', 917.8): 3,\n",
              " ('Producto B', 116.34): 18,\n",
              " ('Producto B', 396.56): 11,\n",
              " ('Producto B', 174.12): 18,\n",
              " ('Producto C', 52.04): 15,\n",
              " ('Producto A', 204.08): 11,\n",
              " ('Producto C', 278.28000000000003): 15,\n",
              " ('Producto B', 137.42): 8,\n",
              " ('Producto A', 101.48): 9,\n",
              " ('Producto B', 43.82): 7,\n",
              " ('Producto A', 107.55000000000001): 10,\n",
              " ('Producto A', 253.89000000000001): 5,\n",
              " ('Producto A', 73.24): 12,\n",
              " ('Producto C', 112.4): 18,\n",
              " ('Producto A', 423.41999999999996): 6,\n",
              " ('Producto A', 487.79999999999995): 2,\n",
              " ('Producto C', 173.06): 5,\n",
              " ('Producto A', 683.5): 9,\n",
              " ('Producto C', 115.0): 11,\n",
              " ('Producto C', 316.08): 9,\n",
              " ('Producto C', 525.3): 10,\n",
              " ('Producto C', 218.29999999999998): 8,\n",
              " ('Producto C', 101.49): 6,\n",
              " ('Producto B', 211.92): 8,\n",
              " ('Producto C', 593.5500000000001): 2,\n",
              " ('Producto B', 37.36): 6,\n",
              " ('Producto B', 95.66): 6,\n",
              " ('Producto B', 271.56): 12,\n",
              " ('Producto B', 415.0): 8,\n",
              " ('Producto C', 84.11): 6,\n",
              " ('Producto B', 164.1): 10,\n",
              " ('Producto B', 53.84): 7,\n",
              " ('Producto B', 88.72): 21,\n",
              " ('Producto B', 56.23): 6,\n",
              " ('Producto A', 222.32): 12,\n",
              " ('Producto C', 622.8): 14,\n",
              " ('Producto B', 175.8): 11,\n",
              " ('Producto B', 417.06000000000006): 9,\n",
              " ('Producto A', 230.76): 16,\n",
              " ('Producto C', 423.7): 9,\n",
              " ('Producto C', 87.64): 17,\n",
              " ('Producto C', 787.2): 11,\n",
              " ('Producto B', 237.78000000000003): 11,\n",
              " ('Producto B', 646.38): 4,\n",
              " ('Producto C', 699.3000000000001): 8,\n",
              " ('Producto C', 59.26): 8,\n",
              " ('Producto C', 305.65000000000003): 2,\n",
              " ('Producto C', 802.71): 5,\n",
              " ('Producto C', 178.42): 7,\n",
              " ('Producto C', 636.16): 7,\n",
              " ('Producto C', 644.72): 5,\n",
              " ('Producto C', 193.72): 8,\n",
              " ('Producto B', 45.36): 12,\n",
              " ('Producto B', 786.42): 8,\n",
              " ('Producto C', 272.68): 5,\n",
              " ('Producto C', 629.93): 6,\n",
              " ('Producto A', 79.56): 24,\n",
              " ('Producto C', 321.2): 19,\n",
              " ('Producto C', 73.55000000000001): 5,\n",
              " ('Producto B', 115.5): 22,\n",
              " ('Producto B', 102.64): 9,\n",
              " ('Producto B', 376.74): 11,\n",
              " ('Producto C', 58.650000000000006): 9,\n",
              " ('Producto A', 95.57): 7,\n",
              " ('Producto C', 564.9): 11,\n",
              " ('Producto C', 76.54): 10,\n",
              " ('Producto C', 686.8000000000001): 5,\n",
              " ('Producto B', 221.28): 9,\n",
              " ('Producto C', 826.74): 5,\n",
              " ('Producto B', 204.42000000000002): 9,\n",
              " ('Producto C', 168.25): 3,\n",
              " ('Producto A', 524.32): 5,\n",
              " ('Producto A', 143.34): 9,\n",
              " ('Producto A', 133.52): 13,\n",
              " ('Producto B', 136.24): 12,\n",
              " ('Producto A', 438.29999999999995): 19,\n",
              " ('Producto B', 82.26): 14,\n",
              " ('Producto A', 118.36): 11,\n",
              " ('Producto B', 74.73): 9,\n",
              " ('Producto C', 144.1): 13,\n",
              " ('Producto A', 227.6): 10,\n",
              " ('Producto A', 264.88): 14,\n",
              " ('Producto B', 62.760000000000005): 5,\n",
              " ('Producto C', 37.21): 2,\n",
              " ('Producto B', 130.07999999999998): 7,\n",
              " ('Producto C', 29.55): 4,\n",
              " ('Producto B', 51.6): 19,\n",
              " ('Producto C', 381.59999999999997): 10,\n",
              " ('Producto B', 73.5): 23,\n",
              " ('Producto B', 277.17): 6,\n",
              " ('Producto B', 248.54999999999998): 4,\n",
              " ('Producto C', 632.72): 4,\n",
              " ('Producto B', 509.44): 7,\n",
              " ('Producto C', 426.06000000000006): 5,\n",
              " ('Producto C', 62.61): 10,\n",
              " ('Producto B', 139.23): 4,\n",
              " ('Producto B', 252.56): 12,\n",
              " ('Producto C', 181.5): 21,\n",
              " ('Producto B', 23.13): 5,\n",
              " ('Producto B', 246.93): 8,\n",
              " ('Producto A', 552.78): 7,\n",
              " ('Producto B', 592.65): 6,\n",
              " ('Producto B', 527.0300000000001): 4,\n",
              " ('Producto B', 667.52): 8,\n",
              " ('Producto B', 30.29): 2,\n",
              " ('Producto B', 407.19): 8,\n",
              " ('Producto C', 424.34): 4,\n",
              " ('Producto C', 107.52000000000001): 13,\n",
              " ('Producto C', 179.13): 5,\n",
              " ('Producto B', 337.59999999999997): 6,\n",
              " ('Producto B', 642.9000000000001): 6,\n",
              " ('Producto A', 436.70000000000005): 5,\n",
              " ('Producto A', 400.68): 15,\n",
              " ('Producto A', 436.17): 4,\n",
              " ('Producto A', 188.96): 17,\n",
              " ('Producto B', 544.88): 9,\n",
              " ('Producto C', 291.25): 4,\n",
              " ('Producto A', 291.72): 8,\n",
              " ('Producto C', 170.38): 9,\n",
              " ('Producto C', 68.5): 14,\n",
              " ('Producto B', 488.82): 3,\n",
              " ('Producto C', 112.62): 17,\n",
              " ('Producto B', 170.7): 14,\n",
              " ('Producto B', 108.24): 16,\n",
              " ('Producto C', 273.4): 14,\n",
              " ('Producto B', 894.33): 3,\n",
              " ('Producto B', 249.75): 9,\n",
              " ('Producto B', 318.08): 11,\n",
              " ('Producto B', 87.6): 22,\n",
              " ('Producto C', 784.26): 4,\n",
              " ('Producto C', 497.16): 2,\n",
              " ('Producto B', 478.29999999999995): 11,\n",
              " ('Producto B', 338.64): 11,\n",
              " ('Producto C', 142.0): 17,\n",
              " ('Producto A', 160.74): 14,\n",
              " ('Producto A', 377.76): 11,\n",
              " ('Producto C', 239.08): 7,\n",
              " ('Producto B', 97.64): 9,\n",
              " ('Producto A', 97.83): 14,\n",
              " ('Producto B', 369.10999999999996): 5,\n",
              " ('Producto C', 143.04): 17,\n",
              " ('Producto B', 610.19): 4,\n",
              " ('Producto B', 42.87): 9,\n",
              " ('Producto C', 287.58): 14,\n",
              " ('Producto C', 153.35999999999999): 7,\n",
              " ('Producto B', 283.04): 11,\n",
              " ('Producto C', 482.23): 4,\n",
              " ('Producto A', 689.85): 12,\n",
              " ('Producto A', 181.23): 4,\n",
              " ('Producto C', 109.4): 11,\n",
              " ('Producto B', 274.38): 7,\n",
              " ('Producto B', 46.37): 4,\n",
              " ('Producto C', 38.62): 9,\n",
              " ('Producto C', 706.8000000000001): 6,\n",
              " ('Producto A', 443.45): 9,\n",
              " ('Producto A', 864.5): 6,\n",
              " ('Producto C', 260.85): 8,\n",
              " ('Producto C', 308.8): 14,\n",
              " ('Producto C', 111.64999999999999): 4,\n",
              " ('Producto A', 143.66): 7,\n",
              " ('Producto A', 261.8): 14,\n",
              " ('Producto B', 371.0): 13,\n",
              " ('Producto C', 349.36): 7,\n",
              " ('Producto C', 907.3000000000001): 4,\n",
              " ('Producto A', 665.64): 9,\n",
              " ('Producto B', 974.2): 1,\n",
              " ('Producto C', 357.7): 4,\n",
              " ('Producto B', 622.7199999999999): 4,\n",
              " ('Producto C', 188.9): 16,\n",
              " ('Producto C', 174.1): 11,\n",
              " ('Producto B', 61.1): 11,\n",
              " ('Producto C', 292.26): 4,\n",
              " ('Producto C', 237.2): 17,\n",
              " ('Producto C', 640.4399999999999): 4,\n",
              " ('Producto A', 48.53): 2,\n",
              " ('Producto C', 806.1): 4,\n",
              " ('Producto A', 109.62): 29,\n",
              " ('Producto C', 99.25): 6,\n",
              " ('Producto C', 98.62): 10,\n",
              " ('Producto B', 447.55): 6,\n",
              " ('Producto C', 129.32): 10,\n",
              " ('Producto C', 88.86): 12,\n",
              " ('Producto C', 592.96): 2,\n",
              " ('Producto A', 73.35): 14,\n",
              " ('Producto C', 577.08): 8,\n",
              " ('Producto A', 148.89000000000001): 5,\n",
              " ('Producto C', 647.2): 8,\n",
              " ('Producto C', 110.25): 16,\n",
              " ('Producto A', 571.86): 12,\n",
              " ('Producto B', 362.58): 1,\n",
              " ('Producto A', 302.47): 5,\n",
              " ('Producto B', 499.95): 15,\n",
              " ('Producto C', 332.95000000000005): 2,\n",
              " ('Producto A', 837.36): 4,\n",
              " ('Producto C', 23.31): 6,\n",
              " ('Producto B', 212.3): 7,\n",
              " ('Producto B', 570.48): 7,\n",
              " ('Producto A', 590.4): 12,\n",
              " ('Producto A', 37.69): 3,\n",
              " ('Producto A', 164.42999999999998): 6,\n",
              " ('Producto A', 291.36): 16,\n",
              " ('Producto B', 213.29999999999998): 21,\n",
              " ('Producto B', 45.24): 8,\n",
              " ('Producto B', 267.25): 5,\n",
              " ('Producto B', 326.55): 7,\n",
              " ('Producto C', 66.4): 10,\n",
              " ('Producto A', 15.45): 6,\n",
              " ('Producto C', 63.19): 5,\n",
              " ('Producto A', 889.1999999999999): 7,\n",
              " ('Producto B', 181.0): 17,\n",
              " ('Producto C', 40.02): 10,\n",
              " ('Producto B', 807.3000000000001): 13,\n",
              " ('Producto B', 433.2): 11,\n",
              " ('Producto C', 290.84999999999997): 4,\n",
              " ('Producto A', 862.29): 5,\n",
              " ('Producto A', 150.24): 18,\n",
              " ('Producto C', 78.84): 19,\n",
              " ('Producto A', 93.93): 10,\n",
              " ('Producto C', 77.69): 2,\n",
              " ('Producto B', 83.64): 24,\n",
              " ('Producto A', 349.58): 5,\n",
              " ('Producto C', 265.74): 10,\n",
              " ('Producto C', 246.18): 8,\n",
              " ('Producto A', 370.72): 13,\n",
              " ('Producto A', 571.69): 6,\n",
              " ('Producto B', 450.72): 8,\n",
              " ('Producto B', 401.9): 10,\n",
              " ('Producto A', 138.04): 10,\n",
              " ('Producto B', 169.1): 13,\n",
              " ('Producto A', 304.92): 17,\n",
              " ('Producto A', 987.4): 4,\n",
              " ('Producto B', 20.12): 11,\n",
              " ('Producto C', 239.68): 14,\n",
              " ('Producto B', 30.21): 10,\n",
              " ('Producto C', 135.87): 8,\n",
              " ('Producto C', 879.1200000000001): 3,\n",
              " ('Producto C', 355.67): 4,\n",
              " ('Producto B', 259.28): 13,\n",
              " ('Producto C', 98.46): 8,\n",
              " ('Producto B', 752.76): 3,\n",
              " ('Producto A', 43.64): 13,\n",
              " ('Producto C', 175.16): 10,\n",
              " ('Producto C', 410.4): 6,\n",
              " ('Producto C', 146.35): 2,\n",
              " ('Producto A', 252.95999999999998): 9,\n",
              " ('Producto B', 153.37): 9,\n",
              " ('Producto B', 560.0): 7,\n",
              " ('Producto B', 137.60999999999999): 15,\n",
              " ('Producto B', 40.349999999999994): 5,\n",
              " ('Producto B', 523.2): 6,\n",
              " ('Producto C', 51.510000000000005): 1,\n",
              " ('Producto A', 183.44): 10,\n",
              " ('Producto A', 824.1299999999999): 4,\n",
              " ('Producto C', 279.65000000000003): 6,\n",
              " ('Producto B', 546.1): 8,\n",
              " ('Producto A', 469.2): 3,\n",
              " ('Producto C', 634.23): 5,\n",
              " ('Producto B', 80.46): 5,\n",
              " ('Producto A', 139.0): 6,\n",
              " ('Producto A', 120.14999999999999): 7,\n",
              " ...}"
            ]
          },
          "execution_count": 25,
          "metadata": {},
          "output_type": "execute_result"
        }
      ],
      "source": [
        "resultados_ventas_por_producto"
      ]
    },
    {
      "cell_type": "markdown",
      "id": "e638d235",
      "metadata": {
        "id": "e638d235"
      },
      "source": [
        "\n",
        "\n",
        "En este ejemplo, calculamos el total de ventas por producto multiplicando la cantidad vendida por el precio unitario para cada registro de venta y luego contamos la frecuencia de cada producto utilizando el método `frequencies()`.\n",
        "\n",
        "### Ejemplo 4: Análisis de Datos\n",
        "\n"
      ]
    },
    {
      "cell_type": "code",
      "execution_count": null,
      "id": "b92aa9ad",
      "metadata": {
        "id": "b92aa9ad"
      },
      "outputs": [],
      "source": [
        "# Calcular el promedio de precio unitario de todos los productos\n",
        "promedio_precio_unitario = bag_ventas.pluck('precio_unitario').mean().compute()\n",
        "\n",
        "# Calcular la cantidad total de productos vendidos\n",
        "total_cantidad_vendida = bag_ventas.pluck('cantidad').sum().compute()"
      ]
    },
    {
      "cell_type": "code",
      "execution_count": null,
      "id": "YBmTyPnK0Awj",
      "metadata": {
        "colab": {
          "base_uri": "https://localhost:8080/"
        },
        "id": "YBmTyPnK0Awj",
        "outputId": "24218504-e84d-424f-a758-fd4da1f8490c"
      },
      "outputs": [
        {
          "data": {
            "text/plain": [
              "54.99078417999979"
            ]
          },
          "execution_count": 28,
          "metadata": {},
          "output_type": "execute_result"
        }
      ],
      "source": [
        "promedio_precio_unitario"
      ]
    },
    {
      "cell_type": "code",
      "execution_count": null,
      "id": "WcOq8hki0DME",
      "metadata": {
        "colab": {
          "base_uri": "https://localhost:8080/"
        },
        "id": "WcOq8hki0DME",
        "outputId": "ec66bbb1-d2f8-4d10-b4ae-963cfbf99121"
      },
      "outputs": [
        {
          "data": {
            "text/plain": [
              "5501650"
            ]
          },
          "execution_count": 29,
          "metadata": {},
          "output_type": "execute_result"
        }
      ],
      "source": [
        "total_cantidad_vendida"
      ]
    },
    {
      "cell_type": "markdown",
      "id": "7cf4ec07",
      "metadata": {
        "id": "7cf4ec07"
      },
      "source": [
        "\n",
        "\n",
        "En este ejemplo, calculamos el promedio de precio unitario de todos los productos utilizando el método `pluck()` para extraer los precios unitarios y luego calculamos la media utilizando el método `mean()`. También calculamos la cantidad total de productos vendidos sumando la cantidad vendida para cada registro de venta utilizando el método `sum()`.\n",
        "\n",
        "Hemos visto cómo utilizar Dask Bags en Python para procesar conjuntos de datos no estructurados de manera eficiente. Utilizando ejemplos con datos simulados, exploramos diversas operaciones básicas, como el filtrado, la transformación y el análisis de datos, utilizando métodos como `filter()`, `map()`, `pluck()` y funciones de agregación como `count()`, `mean()` y `sum()`. Dask Bags proporciona una interfaz simple y flexible para trabajar con grandes volúmenes de datos de manera paralela y distribuida. Con los ejemplos proporcionados, esperamos haber demostrado la utilidad y la versatilidad de Dask Bags para el procesamiento de datos en Python.\n",
        "\n",
        "\n",
        "# Computación Distribuida con Dask\n",
        "\n",
        "En este apartado, exploraremos cómo utilizar Dask para realizar computación distribuida, lo que nos permitirá escalar nuestros cálculos para manejar grandes volúmenes de datos en clústeres de computadoras. Comenzaremos configurando un clúster de computación distribuida, luego discutiremos la escalabilidad y el paralelismo en Dask, y finalmente exploraremos estrategias para optimizar la ejecución distribuida con Dask.\n",
        "\n",
        "## 1. Configuración de un Clúster de Computación Distribuida\n",
        "\n",
        "Para comenzar a trabajar con Dask en un entorno distribuido, necesitamos configurar un clúster de computadoras que ejecutarán nuestras tareas. Esto puede hacerse utilizando herramientas como Kubernetes, Hadoop, o simplemente configurando un clúster de máquinas virtuales o contenedores Docker.\n",
        "\n",
        "### Ejemplo 1: Configuración de un Clúster Local con Dask.distributed\n",
        "\n"
      ]
    },
    {
      "cell_type": "code",
      "execution_count": null,
      "id": "50b6cbf5",
      "metadata": {
        "colab": {
          "base_uri": "https://localhost:8080/"
        },
        "id": "50b6cbf5",
        "outputId": "d55e4d64-dd46-4f9f-f06b-78229e154f88"
      },
      "outputs": [
        {
          "name": "stderr",
          "output_type": "stream",
          "text": [
            "INFO:distributed.http.proxy:To route to workers diagnostics web server please install jupyter-server-proxy: python -m pip install jupyter-server-proxy\n",
            "INFO:distributed.scheduler:State start\n",
            "INFO:distributed.scheduler:  Scheduler at:     tcp://127.0.0.1:32829\n",
            "INFO:distributed.scheduler:  dashboard at:  http://127.0.0.1:8787/status\n",
            "INFO:distributed.scheduler:Registering Worker plugin shuffle\n",
            "INFO:distributed.nanny:        Start Nanny at: 'tcp://127.0.0.1:45939'\n",
            "INFO:distributed.nanny:        Start Nanny at: 'tcp://127.0.0.1:35791'\n",
            "INFO:distributed.nanny:        Start Nanny at: 'tcp://127.0.0.1:44451'\n",
            "INFO:distributed.nanny:        Start Nanny at: 'tcp://127.0.0.1:36055'\n",
            "INFO:distributed.scheduler:Register worker <WorkerState 'tcp://127.0.0.1:32793', name: 0, status: init, memory: 0, processing: 0>\n",
            "INFO:distributed.scheduler:Starting worker compute stream, tcp://127.0.0.1:32793\n",
            "INFO:distributed.core:Starting established connection to tcp://127.0.0.1:46574\n",
            "INFO:distributed.scheduler:Register worker <WorkerState 'tcp://127.0.0.1:36851', name: 3, status: init, memory: 0, processing: 0>\n",
            "INFO:distributed.scheduler:Starting worker compute stream, tcp://127.0.0.1:36851\n",
            "INFO:distributed.core:Starting established connection to tcp://127.0.0.1:46586\n",
            "INFO:distributed.scheduler:Register worker <WorkerState 'tcp://127.0.0.1:33089', name: 1, status: init, memory: 0, processing: 0>\n",
            "INFO:distributed.scheduler:Starting worker compute stream, tcp://127.0.0.1:33089\n",
            "INFO:distributed.core:Starting established connection to tcp://127.0.0.1:46602\n",
            "INFO:distributed.scheduler:Register worker <WorkerState 'tcp://127.0.0.1:42341', name: 2, status: init, memory: 0, processing: 0>\n",
            "INFO:distributed.scheduler:Starting worker compute stream, tcp://127.0.0.1:42341\n",
            "INFO:distributed.core:Starting established connection to tcp://127.0.0.1:46618\n",
            "INFO:distributed.scheduler:Receive client connection: Client-ef34bf78-7928-11ef-814a-0242ac1c000c\n",
            "INFO:distributed.core:Starting established connection to tcp://127.0.0.1:46624\n"
          ]
        }
      ],
      "source": [
        "from dask.distributed import Client, LocalCluster\n",
        "\n",
        "# Configurar un clúster local con 4 trabajadores\n",
        "cluster = LocalCluster(n_workers=4)\n",
        "\n",
        "# Conectar un cliente Dask al clúster\n",
        "client = Client(cluster)"
      ]
    },
    {
      "cell_type": "markdown",
      "id": "3991f42f",
      "metadata": {
        "id": "3991f42f"
      },
      "source": [
        "\n",
        "\n",
        "En este ejemplo, utilizamos `LocalCluster` de Dask.distributed para configurar un clúster local con 4 trabajadores en nuestra máquina local. Luego, creamos un cliente Dask para conectarnos al clúster.\n",
        "\n",
        "## 2. Escalabilidad y Paralelismo en Dask\n",
        "\n",
        "Una vez que hemos configurado un clúster de computación distribuida, podemos aprovechar el escalado y el paralelismo que ofrece Dask para ejecutar tareas en paralelo en múltiples nodos del clúster.\n",
        "\n",
        "### Ejemplo 2: Escalabilidad con Dask Arrays\n",
        "\n"
      ]
    },
    {
      "cell_type": "code",
      "execution_count": null,
      "id": "abc5d734",
      "metadata": {
        "colab": {
          "base_uri": "https://localhost:8080/"
        },
        "id": "abc5d734",
        "outputId": "51cb13f8-8491-44fd-e200-005a5f1fe841"
      },
      "outputs": [
        {
          "name": "stdout",
          "output_type": "stream",
          "text": [
            "Suma total: 500005593.4907782\n"
          ]
        }
      ],
      "source": [
        "import dask.array as da\n",
        "\n",
        "# Crear un array Dask masivo\n",
        "datos_masivos = da.random.random(size=(1000000000,), chunks=(10000000,))\n",
        "\n",
        "# Calcular la suma de los elementos del array\n",
        "suma_total = datos_masivos.sum()\n",
        "\n",
        "# Imprimir la suma total\n",
        "print(\"Suma total:\", suma_total.compute())"
      ]
    },
    {
      "cell_type": "markdown",
      "id": "492da887",
      "metadata": {
        "id": "492da887"
      },
      "source": [
        "\n",
        "\n",
        "En este ejemplo, creamos un array Dask masivo con 1,000,000,000 elementos y luego calculamos la suma total de los elementos del array. Dask distribuirá automáticamente la tarea en paralelo en los nodos del clúster para aprovechar al máximo los recursos disponibles."
      ]
    },
    {
      "cell_type": "code",
      "execution_count": null,
      "id": "d602b908",
      "metadata": {
        "id": "d602b908"
      },
      "outputs": [],
      "source": [
        "import dask.array as da\n",
        "# Crear un array Dask masivo con un tamaño de chunks optimizado\n",
        "datos_masivos_optimizados = da.random.random(size=(1000000000,), chunks=(1000000,))\n",
        "# Realizar operaciones en el array optimizado"
      ]
    },
    {
      "cell_type": "markdown",
      "id": "c557acd1",
      "metadata": {
        "id": "c557acd1"
      },
      "source": [
        "\n",
        "\n",
        "En este ejemplo, ajustamos el tamaño de los chunks del array Dask para que se ajuste mejor a la memoria y el procesamiento de los nodos del clúster, lo que puede mejorar el rendimiento de las operaciones.\n",
        "\n",
        "### Ejemplo 5: Uso de Persistencia\n",
        "\n"
      ]
    },
    {
      "cell_type": "code",
      "execution_count": null,
      "id": "45cacca4",
      "metadata": {
        "id": "45cacca4"
      },
      "outputs": [],
      "source": [
        "import dask.dataframe as dd\n",
        "\n",
        "# Cargar un DataFrame Dask masivo desde un archivo CSV\n",
        "df = dd.read_csv('datos_1.csv')\n",
        "\n",
        "# Persistir el DataFrame en la memoria del clúster\n",
        "df = df.persist()\n",
        "\n",
        "# Realizar operaciones en el DataFrame persistido"
      ]
    },
    {
      "cell_type": "code",
      "execution_count": null,
      "id": "lQfrY8Xx9SvH",
      "metadata": {
        "id": "lQfrY8Xx9SvH"
      },
      "outputs": [],
      "source": [
        "contar = df.count()"
      ]
    },
    {
      "cell_type": "code",
      "execution_count": null,
      "id": "YxujxfA495v8",
      "metadata": {
        "colab": {
          "base_uri": "https://localhost:8080/"
        },
        "id": "YxujxfA495v8",
        "outputId": "c233220b-81f2-49b7-8654-d00dc675d149"
      },
      "outputs": [
        {
          "name": "stdout",
          "output_type": "stream",
          "text": [
            "Conteo: ID            1000000\n",
            "Nombre        1000000\n",
            "Edad          1000000\n",
            "Puntuación    1000000\n",
            "dtype: int64\n"
          ]
        }
      ],
      "source": [
        "print(\"Conteo:\", contar.compute())"
      ]
    },
    {
      "cell_type": "markdown",
      "id": "125e6586",
      "metadata": {
        "id": "125e6586"
      },
      "source": [
        "\n",
        "\n",
        "En este ejemplo, utilizamos el método `persist()` para almacenar el DataFrame en la memoria del clúster, lo que puede evitar la necesidad de volver a calcularlo en cada paso de la ejecución y mejorar el rendimiento.\n",
        "\n",
        "Hemos explorado cómo utilizar Dask para realizar computación distribuida en Python, permitiéndonos escalar nuestros cálculos para manejar grandes volúmenes de datos en clústeres de computadoras. Configuramos un clúster de computación distribuida, discutimos la escalabilidad y el paralelismo en Dask, y exploramos estrategias para optimizar la ejecución distribuida, como la optimización del tamaño de los chunks y el uso de la persistencia. Con los ejemplos proporcionados, esperamos haber demostrado la utilidad y la versatilidad de Dask para el procesamiento distribuido de datos en Python.\n",
        "\n",
        "# Integración de Dask con Otras Bibliotecas en Python\n",
        "\n",
        "En este apartado, exploraremos cómo integrar Dask con otras bibliotecas populares en Python, como NumPy, Pandas, Scikit-learn y TensorFlow. Veremos ejemplos detallados de cómo aprovechar las capacidades de Dask para mejorar el rendimiento y la escalabilidad en diferentes entornos.\n",
        "\n",
        "## 1. Uso de Dask con NumPy y Pandas\n",
        "\n",
        "Dask proporciona arreglos y marcos de datos distribuidos que son análogos a los objetos de NumPy y Pandas, lo que facilita la integración con estas bibliotecas populares.\n",
        "\n",
        "### Ejemplo 1: Uso de Dask Arrays con NumPy\n",
        "\n"
      ]
    },
    {
      "cell_type": "code",
      "execution_count": null,
      "id": "c2114d5a",
      "metadata": {
        "colab": {
          "base_uri": "https://localhost:8080/"
        },
        "id": "c2114d5a",
        "outputId": "a3d7c48e-0246-48fb-85eb-3b35d1828a7a"
      },
      "outputs": [
        {
          "name": "stdout",
          "output_type": "stream",
          "text": [
            "Suma: 499814.8092482032\n"
          ]
        }
      ],
      "source": [
        "import dask.array as da\n",
        "import numpy as np\n",
        "\n",
        "# Crear un arreglo NumPy con datos simulados\n",
        "datos_numpy = np.random.random(size=(1000000,))\n",
        "\n",
        "# Convertir el arreglo NumPy en un arreglo Dask\n",
        "array_dask = da.from_array(datos_numpy, chunks=(100000,))\n",
        "\n",
        "# Calcular la suma de los elementos del arreglo Dask\n",
        "suma = array_dask.sum()\n",
        "\n",
        "# Imprimir el resultado\n",
        "print(\"Suma:\", suma.compute())"
      ]
    },
    {
      "cell_type": "markdown",
      "id": "aa7e21aa",
      "metadata": {
        "id": "aa7e21aa"
      },
      "source": [
        "\n",
        "\n",
        "En este ejemplo, creamos un arreglo NumPy con datos simulados y luego lo convertimos en un arreglo Dask utilizando la función `from_array()`. Luego, realizamos una operación de suma en paralelo utilizando el método `sum()` y obtenemos el resultado con `compute()`.\n",
        "\n",
        "### Ejemplo 2: Uso de Dask DataFrames con Pandas\n",
        "\n"
      ]
    },
    {
      "cell_type": "code",
      "execution_count": null,
      "id": "729f2cf0",
      "metadata": {
        "colab": {
          "base_uri": "https://localhost:8080/"
        },
        "id": "729f2cf0",
        "outputId": "861d2b6d-1e0f-4fd2-9c80-cb9511288151"
      },
      "outputs": [
        {
          "name": "stderr",
          "output_type": "stream",
          "text": [
            "/usr/local/lib/python3.10/dist-packages/distributed/client.py:3362: UserWarning: Sending large graph of size 28.62 MiB.\n",
            "This may cause some slowdown.\n",
            "Consider loading the data with Dask directly\n",
            " or using futures or delayed objects to embed the data into the graph without repetition.\n",
            "See also https://docs.dask.org/en/stable/best-practices.html#load-data-with-dask for more information.\n",
            "  warnings.warn(\n"
          ]
        },
        {
          "name": "stdout",
          "output_type": "stream",
          "text": [
            "Media de B: 0.4998553471737057\n"
          ]
        }
      ],
      "source": [
        "import dask.dataframe as dd\n",
        "import pandas as pd\n",
        "\n",
        "# Crear un DataFrame Pandas con datos simulados\n",
        "datos_pandas = pd.DataFrame({\n",
        "    'A': np.random.randint(0, 100, size=1000000),\n",
        "    'B': np.random.rand(1000000),\n",
        "    'C': ['categoria_' + str(i % 10) for i in range(1000000)]\n",
        "})\n",
        "\n",
        "# Convertir el DataFrame Pandas en un DataFrame Dask\n",
        "df_dask = dd.from_pandas(datos_pandas, npartitions=4)\n",
        "\n",
        "# Filtrar los datos utilizando Dask\n",
        "df_filtrado = df_dask[df_dask['A'] > 50]\n",
        "\n",
        "# Calcular la media de la columna 'B'\n",
        "media_b = df_filtrado['B'].mean()\n",
        "\n",
        "# Imprimir el resultado\n",
        "print(\"Media de B:\", media_b.compute())"
      ]
    },
    {
      "cell_type": "markdown",
      "id": "10d6903b",
      "metadata": {
        "id": "10d6903b"
      },
      "source": [
        "\n",
        "\n",
        "En este ejemplo, creamos un DataFrame Pandas con datos simulados y luego lo convertimos en un DataFrame Dask utilizando la función `from_pandas()`. Luego, realizamos una operación de filtrado y cálculo de media utilizando Dask y obtenemos el resultado con `compute()`.\n",
        "\n",
        "## 2. Integración con Herramientas de Machine Learning\n",
        "\n",
        "Dask se puede integrar con herramientas de machine learning populares como Scikit-learn y TensorFlow para manejar grandes volúmenes de datos y aprovechar el paralelismo y la distribución.\n",
        "\n",
        "### Ejemplo 3: Uso de Dask con Scikit-learn\n",
        "\n"
      ]
    },
    {
      "cell_type": "code",
      "execution_count": null,
      "id": "Km1G5AP22Ho5",
      "metadata": {
        "colab": {
          "base_uri": "https://localhost:8080/"
        },
        "id": "Km1G5AP22Ho5",
        "outputId": "35ce846f-6c9e-4251-960e-321c74d36751"
      },
      "outputs": [
        {
          "name": "stdout",
          "output_type": "stream",
          "text": [
            "Requirement already satisfied: dask-ml in /usr/local/lib/python3.10/dist-packages (2024.4.4)\n",
            "Requirement already satisfied: dask-glm>=0.2.0 in /usr/local/lib/python3.10/dist-packages (from dask-ml) (0.3.2)\n",
            "Requirement already satisfied: dask>=2.4.0 in /usr/local/lib/python3.10/dist-packages (from dask[array,dataframe]>=2.4.0->dask-ml) (2024.8.0)\n",
            "Requirement already satisfied: distributed>=2.4.0 in /usr/local/lib/python3.10/dist-packages (from dask-ml) (2024.8.0)\n",
            "Requirement already satisfied: multipledispatch>=0.4.9 in /usr/local/lib/python3.10/dist-packages (from dask-ml) (1.0.0)\n",
            "Requirement already satisfied: numba>=0.51.0 in /usr/local/lib/python3.10/dist-packages (from dask-ml) (0.60.0)\n",
            "Requirement already satisfied: numpy>=1.20.0 in /usr/local/lib/python3.10/dist-packages (from dask-ml) (1.26.4)\n",
            "Requirement already satisfied: packaging in /usr/local/lib/python3.10/dist-packages (from dask-ml) (24.1)\n",
            "Requirement already satisfied: pandas>=0.24.2 in /usr/local/lib/python3.10/dist-packages (from dask-ml) (2.1.4)\n",
            "Requirement already satisfied: scikit-learn>=1.2.0 in /usr/local/lib/python3.10/dist-packages (from dask-ml) (1.3.2)\n",
            "Requirement already satisfied: scipy in /usr/local/lib/python3.10/dist-packages (from dask-ml) (1.13.1)\n",
            "Requirement already satisfied: click>=8.1 in /usr/local/lib/python3.10/dist-packages (from dask>=2.4.0->dask[array,dataframe]>=2.4.0->dask-ml) (8.1.7)\n",
            "Requirement already satisfied: cloudpickle>=1.5.0 in /usr/local/lib/python3.10/dist-packages (from dask>=2.4.0->dask[array,dataframe]>=2.4.0->dask-ml) (2.2.1)\n",
            "Requirement already satisfied: fsspec>=2021.09.0 in /usr/local/lib/python3.10/dist-packages (from dask>=2.4.0->dask[array,dataframe]>=2.4.0->dask-ml) (2024.6.1)\n",
            "Requirement already satisfied: partd>=1.4.0 in /usr/local/lib/python3.10/dist-packages (from dask>=2.4.0->dask[array,dataframe]>=2.4.0->dask-ml) (1.4.2)\n",
            "Requirement already satisfied: pyyaml>=5.3.1 in /usr/local/lib/python3.10/dist-packages (from dask>=2.4.0->dask[array,dataframe]>=2.4.0->dask-ml) (6.0.2)\n",
            "Requirement already satisfied: toolz>=0.10.0 in /usr/local/lib/python3.10/dist-packages (from dask>=2.4.0->dask[array,dataframe]>=2.4.0->dask-ml) (0.12.1)\n",
            "Requirement already satisfied: importlib-metadata>=4.13.0 in /usr/local/lib/python3.10/dist-packages (from dask>=2.4.0->dask[array,dataframe]>=2.4.0->dask-ml) (8.5.0)\n",
            "Requirement already satisfied: sparse>=0.7.0 in /usr/local/lib/python3.10/dist-packages (from dask-glm>=0.2.0->dask-ml) (0.15.4)\n",
            "Requirement already satisfied: dask-expr<1.2,>=1.1 in /usr/local/lib/python3.10/dist-packages (from dask[array,dataframe]>=2.4.0->dask-ml) (1.1.10)\n",
            "Requirement already satisfied: jinja2>=2.10.3 in /usr/local/lib/python3.10/dist-packages (from distributed>=2.4.0->dask-ml) (3.1.4)\n",
            "Requirement already satisfied: locket>=1.0.0 in /usr/local/lib/python3.10/dist-packages (from distributed>=2.4.0->dask-ml) (1.0.0)\n",
            "Requirement already satisfied: msgpack>=1.0.0 in /usr/local/lib/python3.10/dist-packages (from distributed>=2.4.0->dask-ml) (1.0.8)\n",
            "Requirement already satisfied: psutil>=5.7.2 in /usr/local/lib/python3.10/dist-packages (from distributed>=2.4.0->dask-ml) (5.9.5)\n",
            "Requirement already satisfied: sortedcontainers>=2.0.5 in /usr/local/lib/python3.10/dist-packages (from distributed>=2.4.0->dask-ml) (2.4.0)\n",
            "Requirement already satisfied: tblib>=1.6.0 in /usr/local/lib/python3.10/dist-packages (from distributed>=2.4.0->dask-ml) (3.0.0)\n",
            "Requirement already satisfied: tornado>=6.0.4 in /usr/local/lib/python3.10/dist-packages (from distributed>=2.4.0->dask-ml) (6.3.3)\n",
            "Requirement already satisfied: urllib3>=1.24.3 in /usr/local/lib/python3.10/dist-packages (from distributed>=2.4.0->dask-ml) (2.0.7)\n",
            "Requirement already satisfied: zict>=3.0.0 in /usr/local/lib/python3.10/dist-packages (from distributed>=2.4.0->dask-ml) (3.0.0)\n",
            "Requirement already satisfied: llvmlite<0.44,>=0.43.0dev0 in /usr/local/lib/python3.10/dist-packages (from numba>=0.51.0->dask-ml) (0.43.0)\n",
            "Requirement already satisfied: python-dateutil>=2.8.2 in /usr/local/lib/python3.10/dist-packages (from pandas>=0.24.2->dask-ml) (2.8.2)\n",
            "Requirement already satisfied: pytz>=2020.1 in /usr/local/lib/python3.10/dist-packages (from pandas>=0.24.2->dask-ml) (2024.2)\n",
            "Requirement already satisfied: tzdata>=2022.1 in /usr/local/lib/python3.10/dist-packages (from pandas>=0.24.2->dask-ml) (2024.1)\n",
            "Requirement already satisfied: joblib>=1.1.1 in /usr/local/lib/python3.10/dist-packages (from scikit-learn>=1.2.0->dask-ml) (1.4.2)\n",
            "Requirement already satisfied: threadpoolctl>=2.0.0 in /usr/local/lib/python3.10/dist-packages (from scikit-learn>=1.2.0->dask-ml) (3.5.0)\n",
            "Requirement already satisfied: pyarrow>=7.0.0 in /usr/local/lib/python3.10/dist-packages (from dask-expr<1.2,>=1.1->dask[array,dataframe]>=2.4.0->dask-ml) (14.0.2)\n",
            "Requirement already satisfied: zipp>=3.20 in /usr/local/lib/python3.10/dist-packages (from importlib-metadata>=4.13.0->dask>=2.4.0->dask[array,dataframe]>=2.4.0->dask-ml) (3.20.2)\n",
            "Requirement already satisfied: MarkupSafe>=2.0 in /usr/local/lib/python3.10/dist-packages (from jinja2>=2.10.3->distributed>=2.4.0->dask-ml) (2.1.5)\n",
            "Requirement already satisfied: six>=1.5 in /usr/local/lib/python3.10/dist-packages (from python-dateutil>=2.8.2->pandas>=0.24.2->dask-ml) (1.16.0)\n"
          ]
        }
      ],
      "source": [
        "pip install dask-ml"
      ]
    },
    {
      "cell_type": "code",
      "execution_count": null,
      "id": "827cac98",
      "metadata": {
        "colab": {
          "base_uri": "https://localhost:8080/"
        },
        "id": "827cac98",
        "outputId": "ec008eb5-dbb1-4b76-979e-9135e6cb30f0"
      },
      "outputs": [
        {
          "name": "stderr",
          "output_type": "stream",
          "text": [
            "/usr/local/lib/python3.10/dist-packages/distributed/client.py:3362: UserWarning: Sending large graph of size 134.28 MiB.\n",
            "This may cause some slowdown.\n",
            "Consider loading the data with Dask directly\n",
            " or using futures or delayed objects to embed the data into the graph without repetition.\n",
            "See also https://docs.dask.org/en/stable/best-practices.html#load-data-with-dask for more information.\n",
            "  warnings.warn(\n"
          ]
        },
        {
          "name": "stdout",
          "output_type": "stream",
          "text": [
            "Precisión del modelo: 0.96163\n"
          ]
        }
      ],
      "source": [
        "from dask_ml.model_selection import train_test_split\n",
        "from dask_ml.linear_model import LogisticRegression\n",
        "from sklearn.datasets import make_classification\n",
        "\n",
        "# Generar datos simulados para clasificación binaria\n",
        "X, y = make_classification(n_samples=1000000, n_features=20, n_classes=2, random_state=42)\n",
        "\n",
        "# Dividir los datos en conjuntos de entrenamiento y prueba con Dask (incluyendo shuffle=True)\n",
        "X_train, X_test, y_train, y_test = train_test_split(X, y, test_size=0.2, random_state=42, shuffle=True)\n",
        "\n",
        "# Crear un clasificador de regresión logística con Dask\n",
        "clf = LogisticRegression()\n",
        "\n",
        "# Ajustar el modelo con los datos de entrenamiento\n",
        "clf.fit(X_train, y_train)\n",
        "\n",
        "# Calcular la precisión del modelo con los datos de prueba\n",
        "precision = clf.score(X_test, y_test)\n",
        "\n",
        "# Imprimir la precisión del modelo\n",
        "print(\"Precisión del modelo:\", precision)"
      ]
    },
    {
      "cell_type": "code",
      "execution_count": null,
      "id": "u3sUAn4rDq3k",
      "metadata": {
        "colab": {
          "base_uri": "https://localhost:8080/"
        },
        "id": "u3sUAn4rDq3k",
        "outputId": "f495fdfe-5870-4cb8-917a-aa5bd3c9278a"
      },
      "outputs": [
        {
          "data": {
            "text/plain": [
              "array([[ 0.865465  ,  0.31070201,  1.02321766, ...,  2.86753724,\n",
              "        -0.70877216, -2.44888623],\n",
              "       [-0.7910193 , -0.32659397,  0.61606213, ..., -0.1868506 ,\n",
              "        -0.2077089 ,  0.25356525],\n",
              "       [-0.12363747,  0.95021469,  0.0029243 , ...,  0.10394653,\n",
              "        -0.4031339 , -0.51549693],\n",
              "       ...,\n",
              "       [-1.30777805, -0.7494141 , -0.94660779, ...,  0.50446522,\n",
              "         0.5608349 , -1.24717183],\n",
              "       [-0.57345671, -0.25666393, -0.51468364, ...,  1.05265779,\n",
              "        -0.60195695,  1.23778625],\n",
              "       [-1.41242218, -0.45246391,  0.14732755, ..., -0.06242075,\n",
              "         0.69250911,  1.49348229]])"
            ]
          },
          "execution_count": 40,
          "metadata": {},
          "output_type": "execute_result"
        }
      ],
      "source": [
        "X"
      ]
    },
    {
      "cell_type": "code",
      "execution_count": null,
      "id": "gu2WStHlDtna",
      "metadata": {
        "colab": {
          "base_uri": "https://localhost:8080/"
        },
        "id": "gu2WStHlDtna",
        "outputId": "a56b2948-7c3f-4ca9-f4ea-ee0db57b13ae"
      },
      "outputs": [
        {
          "data": {
            "text/plain": [
              "array([0, 1, 1, ..., 0, 1, 0])"
            ]
          },
          "execution_count": 41,
          "metadata": {},
          "output_type": "execute_result"
        }
      ],
      "source": [
        "y"
      ]
    },
    {
      "cell_type": "markdown",
      "id": "42d3ccbd",
      "metadata": {
        "id": "42d3ccbd"
      },
      "source": [
        "\n",
        "\n",
        "En este ejemplo, generamos datos simulados para clasificación binaria utilizando `make_classification()`. Luego, dividimos los datos en conjuntos de entrenamiento y prueba utilizando Dask con `train_test_split()`. Creamos un clasificador de regresión logística con Dask y lo ajustamos a los datos de entrenamiento. Finalmente, calculamos la precisión del modelo con los datos de prueba."
      ]
    },
    {
      "cell_type": "markdown",
      "id": "d28bd7bc",
      "metadata": {
        "id": "d28bd7bc"
      },
      "source": [
        "## 3. Estrategias para Mejorar el Rendimiento y la Escalabilidad\n",
        "\n",
        "Al integrar Dask con otras bibliotecas, existen algunas estrategias que podemos seguir para mejorar el rendimiento y la escalabilidad en entornos complejos.\n",
        "\n",
        "### Estrategia 1: División Eficiente de Datos\n",
        "\n",
        "Al dividir los datos para el procesamiento paralelo, es importante elegir un tamaño de chunk adecuado que optimice la eficiencia del cálculo y la comunicación entre los nodos del clúster.\n",
        "\n",
        "### Estrategia 2: Aprovechar la Distribución de Cómputo\n",
        "\n",
        "Al trabajar con grandes volúmenes de datos distribuidos, es crucial distribuir la carga de trabajo de manera equitativa entre los nodos del clúster para aprovechar al máximo los recursos disponibles.\n",
        "\n",
        "### Estrategia 3: Monitoreo y Optimización del Rendimiento\n",
        "\n",
        "Es importante monitorear el rendimiento del sistema y realizar ajustes según sea necesario para optimizar el rendimiento y garantizar un procesamiento eficiente de los datos en entornos distribuidos.\n",
        "\n",
        "Hemos explorado cómo integrar Dask con otras bibliotecas populares en Python, como NumPy, Pandas, Scikit-learn y TensorFlow, para mejorar el rendimiento y la escalabilidad en diferentes entornos de procesamiento de datos. Utilizando ejemplos detallados, hemos demostrado cómo utilizar Dask en conjunción con estas bibliotecas para realizar operaciones avanzadas de análisis de datos y machine learning en conjuntos de datos masivos. Además, hemos discutido estrategias para mejorar el rendimiento y la escalabilidad al trabajar con Dask en entornos complejos. Con estas herramientas y técnicas, los usuarios pueden aprovechar al máximo las capacidades de Dask para manejar grandes volúmenes de datos de manera eficiente y escalable en aplicaciones del mundo real.\n",
        "\n",
        "# Procesamiento de Grandes Conjuntos de Datos con Dask\n",
        "\n",
        "En este apartado, exploraremos estrategias y técnicas para procesar grandes conjuntos de datos que no caben en la memoria RAM de una sola máquina utilizando Dask. Comenzaremos generando datos simulados masivos y luego aplicaremos diversas estrategias para optimizar el procesamiento de estos datos.\n",
        "\n",
        "## Generación de Datos Simulados\n",
        "\n",
        "Antes de comenzar con los ejemplos, generaremos datos simulados masivos que utilizaremos para ilustrar las estrategias de procesamiento con Dask.\n",
        "\n"
      ]
    },
    {
      "cell_type": "code",
      "execution_count": null,
      "id": "87d58ee0",
      "metadata": {
        "id": "87d58ee0"
      },
      "outputs": [],
      "source": [
        "import numpy as np\n",
        "import dask.array as da\n",
        "\n",
        "# Generar un array Dask con datos simulados masivos\n",
        "datos_simulados = da.random.random(size=(1000000, 1000), chunks=(100000, 1000))"
      ]
    },
    {
      "cell_type": "markdown",
      "id": "02b0be44",
      "metadata": {
        "id": "02b0be44"
      },
      "source": [
        "\n",
        "\n",
        "En este ejemplo, creamos un array Dask con datos simulados masivos utilizando la función `random.random()`. Especificamos el tamaño del array y el tamaño de los chunks para optimizar el procesamiento paralelo.\n",
        "\n",
        "## Estrategias para Trabajar con Grandes Conjuntos de Datos\n",
        "\n",
        "### Estrategia 1: Particionamiento de Datos\n",
        "\n",
        "El partcionamiento de datos implica dividir el conjunto de datos en partes más pequeñas (chunks) que se pueden cargar y procesar de forma independiente. Esto facilita el procesamiento paralelo y reduce la carga en la memoria RAM.\n",
        "\n"
      ]
    },
    {
      "cell_type": "code",
      "execution_count": null,
      "id": "de341bc8",
      "metadata": {
        "id": "de341bc8"
      },
      "outputs": [],
      "source": [
        "# Dividir el array Dask en chunks más pequeños\n",
        "datos_particionados = datos_simulados.rechunk(chunks=(10000, 1000))"
      ]
    },
    {
      "cell_type": "markdown",
      "id": "Nb-KtWpPGc9K",
      "metadata": {
        "id": "Nb-KtWpPGc9K"
      },
      "source": [
        "Número fragmentos = Tamaño del fragmento / Total de Observaciones"
      ]
    },
    {
      "cell_type": "markdown",
      "id": "156727d3",
      "metadata": {
        "id": "156727d3"
      },
      "source": [
        "\n",
        "\n",
        "En este ejemplo, utilizamos el método `rechunk()` para dividir el array Dask en chunks más pequeños, lo que optimiza el procesamiento paralelo y reduce la carga en la memoria.\n",
        "\n",
        "### Estrategia 2: Carga Bajo Demanda\n",
        "\n",
        "En lugar de cargar todos los datos en la memoria RAM de una vez, podemos cargar y procesar los datos bajo demanda, es decir, solo cuando sean necesarios para realizar cálculos.\n",
        "\n"
      ]
    },
    {
      "cell_type": "code",
      "execution_count": null,
      "id": "f045fae4",
      "metadata": {
        "colab": {
          "base_uri": "https://localhost:8080/"
        },
        "id": "f045fae4",
        "outputId": "82a7d604-e3ef-4721-8ee0-0d7183fd2612"
      },
      "outputs": [
        {
          "name": "stdout",
          "output_type": "stream",
          "text": [
            "Suma de las columnas: [500088.3910624  500129.11057419 499937.05656989 499788.45166741\n",
            " 500549.39784476 500351.73733151 499994.27473008 500280.75899143\n",
            " 499785.84099782 500214.40405932 499800.61636293 499983.0791748\n",
            " 499801.13380861 500455.82118063 500084.81519572 499997.28751312\n",
            " 500379.70414678 500015.48643826 500291.07345312 499486.36243078\n",
            " 500106.56128753 499840.66584714 500081.89625305 499913.8446098\n",
            " 500118.75155149 500180.45899026 499349.80377405 500349.00939418\n",
            " 499707.50228161 499566.39658543 499840.68814421 500561.25768441\n",
            " 499735.26351862 500067.39910848 499777.86611121 500025.5383069\n",
            " 500074.59339325 499930.55948174 499912.32982129 500090.80702412\n",
            " 500044.7551589  499846.7887471  500459.25642634 499766.3407682\n",
            " 499810.26300703 499662.01221442 499763.50040653 500326.93828487\n",
            " 500078.17980754 499463.62938662 500073.03524437 499637.33923605\n",
            " 500231.35471677 499979.15366682 500073.39273697 500005.66434594\n",
            " 500204.8139334  499691.97852589 499983.77823352 500140.29896887\n",
            " 500425.03504904 500358.17168915 500019.89789784 500045.8110973\n",
            " 500409.59064369 499929.06876533 499749.1076341  500002.221735\n",
            " 500241.53075614 500422.76532842 500044.92309921 499831.97264241\n",
            " 499851.06819813 500258.54270056 499719.38116105 499762.34940612\n",
            " 499941.40698161 499747.53446995 499404.56738672 499766.98329159\n",
            " 499766.91571056 499959.19507534 500005.97772075 499759.05539428\n",
            " 500482.96784456 500749.53766437 499518.90761972 499660.03908398\n",
            " 500270.56314813 499738.1295503  499846.54696799 499560.45235127\n",
            " 500063.55536844 500032.9173136  499628.23611221 499879.64791321\n",
            " 499763.57492437 500124.90173032 500328.3987281  500069.05362899\n",
            " 499903.52535981 499615.87285001 500216.49924536 499522.26935706\n",
            " 499697.02144904 499898.42260554 500600.42512603 500254.37688215\n",
            " 500134.83226271 500251.1398324  500278.40153511 500198.00780333\n",
            " 499917.94634918 499811.01416264 499377.65141929 499918.99561767\n",
            " 500302.3875156  499855.16442074 499616.75864998 499815.83229499\n",
            " 499558.97786597 499712.97808073 499668.55655625 500502.28264716\n",
            " 499876.76258346 499991.39561377 499915.67950147 500225.37366611\n",
            " 500317.19234084 500462.72647695 499837.95714165 499829.51074847\n",
            " 500519.47407961 500058.54963586 500308.51205712 499664.95841308\n",
            " 500243.70721733 500141.63155921 499632.41621433 500060.56221856\n",
            " 500187.77450377 500177.75237574 499144.93087023 500053.38781509\n",
            " 500050.76611284 499888.33646009 499352.8397767  499811.59469496\n",
            " 500171.25445514 499763.2575998  500170.48058441 500576.77585779\n",
            " 500086.19878993 499948.10404267 500406.53340507 500001.96772178\n",
            " 499794.752615   499756.30281142 499390.39621549 499952.47253563\n",
            " 499705.29374326 499356.48910916 500246.48616862 499493.26525138\n",
            " 500012.2747689  500225.26119319 500246.2551236  499655.94785071\n",
            " 499574.60089436 500149.18518085 499887.35219385 500147.51646656\n",
            " 500376.81325689 500037.31665986 499908.31244918 499765.40920744\n",
            " 499545.37084178 500361.70506337 499814.67314208 500003.13179125\n",
            " 499931.47156022 499992.08594103 499793.22531937 499794.26914579\n",
            " 500120.3427562  499923.26214275 499760.37434937 500023.1109229\n",
            " 500270.41642729 499512.50063084 500092.09155149 499715.09488794\n",
            " 499971.06129835 500418.83805765 500045.92584797 499664.1772509\n",
            " 499620.01576203 500230.64491168 500116.15483341 499891.25583504\n",
            " 499575.31079931 500038.27178511 500295.48570368 499905.15006648\n",
            " 499629.37144782 500173.36411591 499797.37924844 500638.60023915\n",
            " 499545.198247   499869.09618337 499964.76346502 499851.07600515\n",
            " 499879.40241746 499654.93867105 499680.21617656 500155.14487769\n",
            " 500015.5337037  499819.81954153 499556.25061462 500235.6472281\n",
            " 499963.37679895 500134.00969712 499927.28185568 499873.1902295\n",
            " 500248.10352517 500355.11102281 500436.19260863 500298.91567878\n",
            " 499818.16619627 500178.03420296 499755.92388438 500246.4381639\n",
            " 499926.87016219 499722.72332699 499299.0048191  500250.4615809\n",
            " 500621.50972283 499738.08501395 500167.41136015 500206.99903066\n",
            " 500475.55837482 499764.90895816 499876.84225112 500287.07523344\n",
            " 500595.4007078  499763.9572405  499785.24205219 500115.57068439\n",
            " 499969.59563031 500116.44769902 499805.6585009  500134.16482874\n",
            " 500044.29084045 500115.99397657 499857.84883854 499854.25551301\n",
            " 499885.34943851 499833.80982121 499875.54204685 499993.50074755\n",
            " 500085.75266124 499686.00558402 500170.51791608 500056.18430436\n",
            " 500217.8717203  500193.9786681  499586.12049388 500313.56357933\n",
            " 499888.48446203 499930.48116342 499855.96107934 501020.06910918\n",
            " 500192.47894694 499670.65404808 500300.73360723 499895.35718346\n",
            " 500402.04953332 500291.15727559 499951.02338699 499714.89462791\n",
            " 500159.53083126 500008.00756555 500487.00035032 500222.10081361\n",
            " 499696.33643235 500032.4249066  499709.84339805 499787.38680035\n",
            " 499856.30177388 500246.11639368 499828.21628771 499743.95296916\n",
            " 500050.68646172 500026.06165594 499951.06442693 500000.720474\n",
            " 500027.33935589 499988.4158358  500088.44346272 500078.34730976\n",
            " 500091.20050588 500170.44223959 499913.08129306 500621.53453216\n",
            " 500014.82831465 500026.35282523 500077.63110232 500176.28965631\n",
            " 499673.4057323  499836.31132245 499929.58208974 499973.34514805\n",
            " 500224.77347258 500521.75598766 499852.96501019 500120.07248328\n",
            " 500152.42790275 500010.38326057 499683.09073471 500100.52505056\n",
            " 500342.1963607  500436.93889176 499902.81472728 500331.41786564\n",
            " 499995.81019416 500040.25231071 500109.70842989 500048.72698081\n",
            " 500108.98044939 500264.22554615 500052.81921768 500282.33073686\n",
            " 499897.36318023 499556.5636953  499909.47439529 500067.22883192\n",
            " 500837.56513483 500410.67091004 499967.32205135 500306.56182568\n",
            " 500310.0996455  500183.66662627 499958.24726734 499560.33702192\n",
            " 499620.67561605 500348.1864225  499736.95094839 500860.17326393\n",
            " 500477.31365701 499997.11532762 500057.96620752 499414.16210494\n",
            " 499937.46334295 499559.08939945 499886.13855827 499271.91985989\n",
            " 499682.89574571 499973.64906017 499967.04632675 499732.83223826\n",
            " 500171.71209813 499791.81062814 500403.21137853 500184.57870082\n",
            " 500263.34680307 500009.98633708 499831.82816792 499918.65068696\n",
            " 499925.97923742 499771.02539468 500376.18755558 499708.05377017\n",
            " 500019.303425   499987.84429067 500390.74670716 499651.22646361\n",
            " 499935.92492297 499986.03649319 500048.61114555 499861.41419884\n",
            " 500182.43684118 500484.00674542 500383.93573067 499955.14493013\n",
            " 499697.22722516 499420.71640236 499928.23978074 500160.8871983\n",
            " 500233.47390179 499349.25641287 499613.21316267 499571.41981173\n",
            " 499890.29207123 500646.58082139 500284.82883766 500253.53989299\n",
            " 500336.48926339 499789.02371617 500095.7546279  499810.73746842\n",
            " 500035.13556078 500386.64463242 500159.58962377 500545.22511149\n",
            " 499986.64989355 499732.33159714 499949.12424576 499527.57759889\n",
            " 500027.9291042  499963.75190189 499928.83350619 500243.14763216\n",
            " 499727.73045403 499930.07135816 499442.47649539 499833.74079364\n",
            " 500210.68574226 499910.45312843 499752.03762823 499614.11693668\n",
            " 499569.3429066  499875.26465682 499616.76679982 499585.06425578\n",
            " 500224.62341865 500172.82509597 500387.46995582 500109.34599704\n",
            " 499709.51372674 499873.4001454  499959.02686237 500509.86966989\n",
            " 500266.1841299  500557.23918218 500191.11537824 500246.46853206\n",
            " 500235.8050634  499915.36693739 499477.48448622 499798.23753375\n",
            " 499766.67146236 500186.20152592 499578.86392079 500200.43047453\n",
            " 500225.28093532 500065.01112735 499956.39844737 500119.40297143\n",
            " 499843.31206154 499819.25510255 499925.78032974 499492.52944628\n",
            " 500192.94323658 499778.62718414 500273.85884096 499745.09804272\n",
            " 500614.70502652 499904.71240757 500064.23691232 500297.22254041\n",
            " 499853.13776046 499760.51892081 500359.52270648 499479.45373342\n",
            " 500300.64804211 500065.45660846 500088.32708981 500427.59560499\n",
            " 499642.0934007  499906.09099083 499524.72000892 500115.13747518\n",
            " 499555.41915551 500336.13431787 499582.5327085  500245.24869033\n",
            " 500111.47764145 500157.29168467 499838.06974078 500187.93344538\n",
            " 499939.27876537 500233.56146673 500095.43149591 499260.49123492\n",
            " 500136.5359312  499618.70477853 500557.12375139 500242.93032916\n",
            " 500073.12864283 499817.79646772 500328.31453495 499993.29421165\n",
            " 499592.98160487 499877.56535384 499642.74915979 500239.78354202\n",
            " 500182.63278822 499852.61076618 499645.52982304 500165.73363004\n",
            " 500026.19266881 499980.39162226 499754.14169497 500404.29885274\n",
            " 499847.32282124 500064.32737444 500350.04958664 500191.33732827\n",
            " 499818.65508658 499523.50361565 499138.24993078 500268.39191872\n",
            " 500171.42076376 499836.79760692 499672.99792721 499894.55693345\n",
            " 499780.88982871 499794.4947907  499757.22351991 500356.60432798\n",
            " 499979.52910149 500270.26123745 499472.98494978 499897.72998698\n",
            " 500352.53973905 499534.97365296 499672.19877442 500131.65818298\n",
            " 500080.74253606 500126.92769368 500118.13185459 499973.08411883\n",
            " 500119.36992419 499779.82334815 500251.94115017 500004.58728907\n",
            " 499768.87521968 500012.60530985 499587.27743069 500361.61102479\n",
            " 500090.13315341 499834.20890305 500344.65001309 499979.04504406\n",
            " 500320.13417345 499642.4358321  499669.44252761 499849.54418102\n",
            " 499701.39726856 500349.34110695 500447.3686973  499884.16635443\n",
            " 499879.97825537 500406.47534325 500142.87743182 499802.94415921\n",
            " 499937.41419498 500214.66586282 499753.11883374 499906.37195207\n",
            " 499708.18835389 499598.76141858 500187.61179949 500636.8448654\n",
            " 499741.89733732 500458.1033769  499721.86332042 500393.63120092\n",
            " 500112.8719129  499755.55902969 500123.73711924 499374.990398\n",
            " 500118.5801145  500369.88302969 499767.60779295 499455.66926523\n",
            " 500334.38161558 499725.85066597 499599.31956361 499875.15069278\n",
            " 499935.83463224 500247.18004484 500331.11430888 499870.12809041\n",
            " 499935.98973023 500213.07550259 500287.36176504 500118.76299707\n",
            " 499806.47682775 499924.55685015 499827.94923874 499718.08944609\n",
            " 500167.37019772 500025.18636965 499696.09114355 499970.77704912\n",
            " 500052.54170135 499793.22862351 499980.03191633 500087.07871054\n",
            " 500278.79232744 500694.94641597 500443.50632979 500789.82291043\n",
            " 499773.61965972 499898.40508372 500161.7056264  500367.9898049\n",
            " 500284.89305948 499894.96959692 500414.40964111 500555.55787259\n",
            " 500107.2655951  500229.28932076 499936.65952017 499956.90399982\n",
            " 499414.72564754 500239.99847471 499665.62270214 500234.6282278\n",
            " 500262.99612448 499496.53115721 499380.85354545 499835.59242465\n",
            " 499759.51074877 500114.86592851 499982.80298997 499964.94272723\n",
            " 500353.66923007 499771.7022843  500571.1300568  499747.19448352\n",
            " 500197.60353614 499959.73887974 499452.96778729 500223.51045863\n",
            " 500608.53102537 499917.01985703 500147.13545645 499978.49642865\n",
            " 500204.56375685 499945.24696173 499422.59885984 500213.96502254\n",
            " 500269.92424427 499495.27413586 499908.99604545 500229.6320574\n",
            " 499681.34669686 499741.14034949 500223.00634913 499663.61256834\n",
            " 499611.47867553 500651.21080667 499686.01209749 499921.17801843\n",
            " 499918.71827084 499913.91684367 500311.98043587 500058.97164574\n",
            " 500136.32763263 499911.26137834 499887.5638816  500011.82940348\n",
            " 499853.34197093 499931.85943204 499781.95067438 499974.73909876\n",
            " 499816.35863229 500034.09404554 499745.97616703 500112.71998226\n",
            " 500220.58960729 500176.6840781  499884.40495511 499866.61900145\n",
            " 500115.0994296  499516.81026155 499638.27011169 499782.39193572\n",
            " 499721.7719871  499893.39324286 500067.52881947 499157.46452791\n",
            " 499892.31829765 499863.39368016 500163.38491178 500075.21204116\n",
            " 499687.45227333 500112.58106337 500067.45136014 499886.0318998\n",
            " 500041.06690606 500320.12074596 499971.46640524 500446.3877804\n",
            " 499554.55552498 500187.21422894 499942.0237209  499887.6448379\n",
            " 499538.96478255 499785.8929841  499638.42172194 499906.85078342\n",
            " 499738.27256742 500021.39464949 499632.27205229 500172.73445969\n",
            " 500412.03726656 500404.41846981 500359.53836639 500174.30454421\n",
            " 499893.8645503  500230.50646316 500222.54506302 499940.70061753\n",
            " 499601.22363535 500229.0333142  500282.54959307 499511.62002729\n",
            " 499996.79904572 499952.04636257 500322.80433866 500302.69969554\n",
            " 500118.74582445 500287.5601256  499858.02844645 500029.9515274\n",
            " 499663.4297943  499735.82085939 500075.49662324 499894.26558604\n",
            " 500037.20893973 500020.84288381 500050.35907681 500178.57159646\n",
            " 499384.94321846 500329.65525079 500010.08944439 499691.23611252\n",
            " 499796.6984855  499966.70855874 499787.94607923 499596.2808032\n",
            " 500408.50597783 500495.34656248 499976.76861232 499912.01363959\n",
            " 499844.15182759 499721.29173319 500142.11371892 500032.31626961\n",
            " 499750.60431591 500470.57307376 500263.69199059 499774.81426425\n",
            " 500048.98625377 499963.8242312  499848.78224338 500050.72097616\n",
            " 500479.60523379 499862.26049703 500037.55310885 500194.90238161\n",
            " 499620.10584111 499708.38073168 500293.44572114 500461.5542062\n",
            " 500021.28161235 500181.73238653 499946.58271268 500508.39069334\n",
            " 500214.33102954 499875.45886169 500228.82321402 499847.49044042\n",
            " 499644.15713738 499868.75755967 500322.84643534 499732.84571193\n",
            " 499943.95890459 500150.4919375  500025.73876086 500272.27486506\n",
            " 500150.9830019  499695.89258101 500010.30691979 500244.6256773\n",
            " 499989.06983365 500482.82306318 500179.477868   499781.39928119\n",
            " 500070.65655456 499963.80433691 500116.81338346 500184.42023439\n",
            " 500184.92044952 500017.33975352 500301.34092712 500041.71043339\n",
            " 499525.63830231 499768.03206817 499537.19335971 499932.12929686\n",
            " 500390.62484656 500155.13294324 499887.97313698 500209.4958557\n",
            " 499621.19007406 500459.29507946 500157.8764373  499642.96364528\n",
            " 499803.70092727 500287.01399109 500127.17494265 499083.49864499\n",
            " 499798.59945528 499901.12703654 500160.44845254 499756.57699764\n",
            " 500185.90294075 500343.75870486 499824.480747   500020.94191728\n",
            " 499907.20341091 499764.75132453 499795.48681926 499678.69346758\n",
            " 499933.90771434 500095.51691093 500364.23220478 499875.21907086\n",
            " 499870.86765625 499846.87608669 499764.18461292 500325.77416448\n",
            " 500506.21100821 499998.22390549 499867.44542778 500812.6581404\n",
            " 500037.77064312 500105.27103781 499805.66391143 499277.68425614\n",
            " 499856.4322753  500047.88731506 500179.90281201 499823.77145099\n",
            " 499306.76132575 499440.91850368 500633.63235612 500581.54954464\n",
            " 500163.28975493 500134.77872753 500348.91107505 499755.00955656\n",
            " 500470.17011069 500316.64070234 499723.6508088  499894.38049791\n",
            " 499948.50733538 500632.09937766 499968.53332515 499959.5524622\n",
            " 499824.42173279 500130.03322657 499919.81912736 499804.61410294\n",
            " 499818.81437921 499592.37501942 500119.36357611 499801.51703003\n",
            " 500051.68393763 499574.05840748 499971.10005419 499872.41349749\n",
            " 499994.11766304 500680.88508902 499821.03356712 499864.3052049\n",
            " 499498.15102782 499790.83846513 499890.76036484 499914.66112458\n",
            " 499891.78715161 499797.4473805  499999.2758811  499594.10304456\n",
            " 500161.55177781 500115.92773201 499709.89417166 499696.42709901\n",
            " 500374.373446   499808.45244449 499806.19346252 500015.9085806\n",
            " 499665.37752046 500018.73248151 499805.65636542 499530.66536312\n",
            " 499915.1363484  499724.26043639 499974.8578896  500175.79307761\n",
            " 499999.02380404 500331.33411771 500109.63835483 499699.26043488\n",
            " 499994.40815229 500059.79523521 500028.48474228 499679.4262829\n",
            " 499825.17099648 500060.63576649 500029.59841667 499878.69522176\n",
            " 499809.9627793  500275.52704296 500197.22727468 500373.69062124\n",
            " 499820.54799134 500298.71635252 499591.78136892 499496.5372787\n",
            " 499994.74135735 500143.55565985 499853.33176303 500217.38325588\n",
            " 499758.5496224  500088.01578425 499750.51649897 500133.7940045\n",
            " 500268.15905752 500115.26031227 500382.01763413 499824.48503684\n",
            " 499727.37744364 500236.85020643 500035.11416557 499748.99771636\n",
            " 500113.31730817 499733.66788744 499806.26440069 500238.67139908\n",
            " 499648.06888185 499989.50818075 500100.79510868 500192.88753017\n",
            " 499949.40369532 500257.99790462 500526.58520818 499848.78189802\n",
            " 500071.60938328 500284.50797241 500452.19573078 499941.08364943\n",
            " 500145.7981393  499890.84000465 499869.9792716  500381.32924877\n",
            " 499911.33297744 499503.93191263 499928.12310335 499497.46113676\n",
            " 499922.94661468 499374.86668766 499507.06614327 500425.21347908\n",
            " 500641.36986129 500139.12414698 499463.94715655 499866.23653337\n",
            " 500480.72495246 499933.68732608 499828.49403625 499427.44942332\n",
            " 500401.11546659 500866.92173013 500198.55213726 500268.38920419\n",
            " 500301.37098204 500132.76004746 499991.763594   499807.78220918\n",
            " 499790.50553268 499929.75904483 499942.63688795 500134.96191723\n",
            " 500033.009468   500054.86960676 499842.99022613 500007.80487382\n",
            " 500445.40478968 500006.78624202 500096.60227133 500109.54968185\n",
            " 499628.40866574 500136.45184224 499930.21371841 499953.24415771]\n"
          ]
        }
      ],
      "source": [
        "# Calcular la suma de las columnas bajo demanda\n",
        "suma_columnas = datos_simulados.sum(axis=0)\n",
        "\n",
        "# Imprimir la suma de las columnas\n",
        "print(\"Suma de las columnas:\", suma_columnas.compute())"
      ]
    },
    {
      "cell_type": "markdown",
      "id": "787fd555",
      "metadata": {
        "id": "787fd555"
      },
      "source": [
        "\n",
        "\n",
        "En este ejemplo, calculamos la suma de las columnas del array Dask bajo demanda utilizando el método `sum()` con el parámetro `axis=0`, lo que permite procesar las columnas una por una sin cargar todo el conjunto de datos en la memoria.\n",
        "\n",
        "### Estrategia 3: Optimización de Operaciones\n",
        "\n",
        "Al utilizar operaciones específicas de Dask y optimizar el uso de funciones paralelas, podemos mejorar el rendimiento del procesamiento de grandes conjuntos de datos.\n",
        "\n"
      ]
    },
    {
      "cell_type": "code",
      "execution_count": null,
      "id": "0c875f7d",
      "metadata": {
        "colab": {
          "base_uri": "https://localhost:8080/"
        },
        "id": "0c875f7d",
        "outputId": "61499840-ad1c-40a5-b1cf-d754384f7354"
      },
      "outputs": [
        {
          "name": "stdout",
          "output_type": "stream",
          "text": [
            "Media de los datos por filas: [0.5012189  0.47995897 0.52102299 ... 0.49578016 0.50219299 0.50221521]\n"
          ]
        }
      ],
      "source": [
        "# Calcular la media de los datos por filas de manera optimizada\n",
        "media_filas = datos_simulados.mean(axis=1).compute()\n",
        "\n",
        "# Imprimir la media de los datos por filas\n",
        "print(\"Media de los datos por filas:\", media_filas)"
      ]
    },
    {
      "cell_type": "code",
      "execution_count": null,
      "id": "fb0f96d0",
      "metadata": {
        "id": "fb0f96d0"
      },
      "outputs": [],
      "source": [
        "import dask.array as da\n",
        "\n",
        "# Generar un array Dask con datos simulados masivos\n",
        "datos_simulados = da.random.random(size=(1000000, 1000), chunks=(100000, 1000))"
      ]
    },
    {
      "cell_type": "markdown",
      "id": "c5bc68cd",
      "metadata": {
        "id": "c5bc68cd"
      },
      "source": [
        "\n",
        "\n",
        "En este ejemplo, creamos un array Dask con datos simulados masivos utilizando la función `random.random()`. Especificamos el tamaño del array y el tamaño de los chunks para optimizar el procesamiento paralelo.\n",
        "\n",
        "## Herramientas para el Diagnóstico de Rendimiento en Dask\n",
        "\n",
        "### 1. Dashboard de Dask\n",
        "\n",
        "Dask proporciona un dashboard interactivo que permite monitorear el rendimiento de las tareas, el uso de la memoria y la distribución de la carga de trabajo en el clúster.\n",
        "\n"
      ]
    },
    {
      "cell_type": "code",
      "execution_count": null,
      "id": "0250c857",
      "metadata": {
        "colab": {
          "base_uri": "https://localhost:8080/",
          "height": 347
        },
        "id": "0250c857",
        "outputId": "11673d8b-53c0-4379-c26c-f5b6477d981c"
      },
      "outputs": [
        {
          "name": "stderr",
          "output_type": "stream",
          "text": [
            "/usr/local/lib/python3.10/dist-packages/distributed/node.py:182: UserWarning: Port 8787 is already in use.\n",
            "Perhaps you already have a cluster running?\n",
            "Hosting the HTTP server on port 38699 instead\n",
            "  warnings.warn(\n",
            "INFO:distributed.scheduler:State start\n",
            "INFO:distributed.scheduler:  Scheduler at:     tcp://127.0.0.1:37769\n",
            "INFO:distributed.scheduler:  dashboard at:  http://127.0.0.1:38699/status\n",
            "INFO:distributed.scheduler:Registering Worker plugin shuffle\n",
            "INFO:distributed.nanny:        Start Nanny at: 'tcp://127.0.0.1:39583'\n",
            "INFO:distributed.nanny:        Start Nanny at: 'tcp://127.0.0.1:39623'\n",
            "INFO:distributed.scheduler:Register worker <WorkerState 'tcp://127.0.0.1:33219', name: 1, status: init, memory: 0, processing: 0>\n",
            "INFO:distributed.scheduler:Starting worker compute stream, tcp://127.0.0.1:33219\n",
            "INFO:distributed.core:Starting established connection to tcp://127.0.0.1:55970\n",
            "INFO:distributed.scheduler:Register worker <WorkerState 'tcp://127.0.0.1:41545', name: 0, status: init, memory: 0, processing: 0>\n",
            "INFO:distributed.scheduler:Starting worker compute stream, tcp://127.0.0.1:41545\n",
            "INFO:distributed.core:Starting established connection to tcp://127.0.0.1:55974\n",
            "INFO:distributed.scheduler:Receive client connection: Client-9acb6981-7930-11ef-814a-0242ac1c000c\n",
            "INFO:distributed.core:Starting established connection to tcp://127.0.0.1:55982\n"
          ]
        },
        {
          "data": {
            "application/vnd.google.colaboratory.intrinsic+json": {
              "type": "string"
            },
            "text/plain": [
              "'http://127.0.0.1:38699/status'"
            ]
          },
          "execution_count": 48,
          "metadata": {},
          "output_type": "execute_result"
        }
      ],
      "source": [
        "from dask.distributed import Client\n",
        "\n",
        "# Iniciar un cliente Dask para acceder al dashboard\n",
        "cliente = Client()\n",
        "\n",
        "# Abrir el dashboard en el navegador\n",
        "cliente.dashboard_link"
      ]
    },
    {
      "cell_type": "markdown",
      "id": "c57876b2",
      "metadata": {
        "id": "c57876b2"
      },
      "source": [
        "\n",
        "\n",
        "Al ejecutar este código, se abrirá automáticamente el dashboard de Dask en el navegador, donde se puede monitorear el rendimiento de las tareas y el estado del clúster en tiempo real.\n",
        "\n",
        "### 2. Profiling con `dask.diagnostics`\n",
        "\n",
        "La biblioteca `dask.diagnostics` proporciona herramientas para perfilar y diagnosticar el rendimiento de las operaciones Dask.\n",
        "\n"
      ]
    },
    {
      "cell_type": "code",
      "execution_count": null,
      "id": "411804cb",
      "metadata": {
        "id": "411804cb"
      },
      "outputs": [],
      "source": [
        "import dask.array as da\n",
        "from dask.diagnostics import Profiler, ResourceProfiler, CacheProfiler\n",
        "\n",
        "# Definir una operación de Dask (en este caso, una suma de dos matrices)\n",
        "a = da.random.random((1000, 1000), chunks=(100, 100))\n",
        "b = da.random.random((1000, 1000), chunks=(100, 100))\n",
        "mi_operacion_dask = (a - b).sum()\n",
        "\n",
        "# Ejecutar un perfil para monitorear el rendimiento\n",
        "with Profiler() as prof, ResourceProfiler(dt=0.25) as rprof, CacheProfiler() as cprof:\n",
        "    # Ejecutar y perfilar la operación de Dask\n",
        "    resultado = mi_operacion_dask.compute()"
      ]
    },
    {
      "cell_type": "code",
      "execution_count": null,
      "id": "2TIbnCynIYrc",
      "metadata": {
        "colab": {
          "base_uri": "https://localhost:8080/"
        },
        "id": "2TIbnCynIYrc",
        "outputId": "798c9917-b84f-4d30-db1c-926428ca9da9"
      },
      "outputs": [
        {
          "data": {
            "text/plain": [
              "-645.1509070860992"
            ]
          },
          "execution_count": 50,
          "metadata": {},
          "output_type": "execute_result"
        }
      ],
      "source": [
        "resultado"
      ]
    },
    {
      "cell_type": "markdown",
      "id": "72cde760",
      "metadata": {
        "id": "72cde760"
      },
      "source": [
        "\n",
        "\n",
        "En este ejemplo, utilizamos el `Profiler` para monitorear el rendimiento de una operación Dask. Luego, podemos acceder a las estadísticas de rendimiento a través del objeto `stats`.\n",
        "\n",
        "## Identificación y Resolución de Cuellos de Botella\n",
        "\n",
        "### 1. Uso de Dashboard para Identificar Cuellos de Botella\n",
        "\n",
        "El dashboard de Dask proporciona información detallada sobre el rendimiento de las tareas, lo que facilita la identificación de cuellos de botella en el procesamiento.\n",
        "\n",
        "Por ejemplo, si se observa un alto tiempo de ejecución en una tarea específica, puede ser un indicio de un cuello de botella en esa operación. Se puede analizar la tarea en detalle para identificar posibles mejoras en el rendimiento.\n",
        "\n",
        "### 2. Uso de Profiling para Identificar Cuellos de Botella\n",
        "\n",
        "El profiling con `dask.diagnostics` permite identificar áreas de código que consumen más recursos o tienen un rendimiento deficiente.\n",
        "\n",
        "Por ejemplo, al analizar los resultados del perfil, podemos identificar las operaciones que consumen más memoria o tienen un alto tiempo de ejecución. Luego, podemos optimizar esas operaciones utilizando técnicas como el particionamiento de datos o la optimización de algoritmos.\n",
        "\n",
        "## Mejores Prácticas para Optimizar el Rendimiento de Aplicaciones Dask\n",
        "\n",
        "### 1. Particionamiento de Datos\n",
        "\n",
        "El particionamiento de datos implica dividir el conjunto de datos en partes más pequeñas (chunks) que se pueden cargar y procesar de forma independiente. Esto facilita el procesamiento paralelo y reduce la carga en la memoria RAM.\n",
        "\n"
      ]
    },
    {
      "cell_type": "code",
      "execution_count": null,
      "id": "6d4b4686",
      "metadata": {
        "id": "6d4b4686"
      },
      "outputs": [],
      "source": [
        "# Dividir el array Dask en chunks más pequeños\n",
        "datos_particionados = datos_simulados.rechunk(chunks=(10000, 1000))"
      ]
    },
    {
      "cell_type": "markdown",
      "id": "b7321344",
      "metadata": {
        "id": "b7321344"
      },
      "source": [
        "\n",
        "\n",
        "### 2. Uso de Operaciones Paralelas\n",
        "\n",
        "Dask aprovecha el paralelismo para realizar operaciones en datos distribuidos de manera eficiente. Utilizar operaciones paralelas siempre que sea posible puede mejorar significativamente el rendimiento de las aplicaciones Dask.\n",
        "\n"
      ]
    },
    {
      "cell_type": "code",
      "execution_count": null,
      "id": "03669ae2",
      "metadata": {
        "id": "03669ae2"
      },
      "outputs": [],
      "source": [
        "# Ejemplo de operación paralela\n",
        "resultado = datos_simulados.sum(axis=0).compute()"
      ]
    },
    {
      "cell_type": "markdown",
      "id": "f9c7e222",
      "metadata": {
        "id": "f9c7e222"
      },
      "source": [
        "\n",
        "\n",
        "### 3. Ajuste de Configuraciones\n",
        "\n",
        "Es posible ajustar varias configuraciones en Dask para optimizar el rendimiento, como el tamaño de los chunks, el número de workers y la configuración de memoria.\n",
        "\n"
      ]
    },
    {
      "cell_type": "code",
      "execution_count": null,
      "id": "d7ee1e60",
      "metadata": {
        "colab": {
          "base_uri": "https://localhost:8080/"
        },
        "id": "d7ee1e60",
        "outputId": "85d92854-9076-49e4-cb15-8de8f40b19bb"
      },
      "outputs": [
        {
          "name": "stderr",
          "output_type": "stream",
          "text": [
            "/usr/local/lib/python3.10/dist-packages/distributed/node.py:182: UserWarning: Port 8787 is already in use.\n",
            "Perhaps you already have a cluster running?\n",
            "Hosting the HTTP server on port 33645 instead\n",
            "  warnings.warn(\n",
            "INFO:distributed.scheduler:State start\n",
            "INFO:distributed.scheduler:  Scheduler at:     tcp://127.0.0.1:44359\n",
            "INFO:distributed.scheduler:  dashboard at:  http://127.0.0.1:33645/status\n",
            "INFO:distributed.scheduler:Registering Worker plugin shuffle\n",
            "INFO:distributed.nanny:        Start Nanny at: 'tcp://127.0.0.1:40905'\n",
            "INFO:distributed.nanny:        Start Nanny at: 'tcp://127.0.0.1:33375'\n",
            "INFO:distributed.nanny:        Start Nanny at: 'tcp://127.0.0.1:39803'\n",
            "INFO:distributed.nanny:        Start Nanny at: 'tcp://127.0.0.1:46405'\n",
            "INFO:distributed.scheduler:Register worker <WorkerState 'tcp://127.0.0.1:39841', name: 1, status: init, memory: 0, processing: 0>\n",
            "INFO:distributed.scheduler:Starting worker compute stream, tcp://127.0.0.1:39841\n",
            "INFO:distributed.core:Starting established connection to tcp://127.0.0.1:47216\n",
            "INFO:distributed.scheduler:Register worker <WorkerState 'tcp://127.0.0.1:38659', name: 0, status: init, memory: 0, processing: 0>\n",
            "INFO:distributed.scheduler:Starting worker compute stream, tcp://127.0.0.1:38659\n",
            "INFO:distributed.core:Starting established connection to tcp://127.0.0.1:47230\n",
            "INFO:distributed.scheduler:Register worker <WorkerState 'tcp://127.0.0.1:40009', name: 3, status: init, memory: 0, processing: 0>\n",
            "INFO:distributed.scheduler:Starting worker compute stream, tcp://127.0.0.1:40009\n",
            "INFO:distributed.core:Starting established connection to tcp://127.0.0.1:47244\n",
            "INFO:distributed.scheduler:Register worker <WorkerState 'tcp://127.0.0.1:34457', name: 2, status: init, memory: 0, processing: 0>\n",
            "INFO:distributed.scheduler:Starting worker compute stream, tcp://127.0.0.1:34457\n",
            "INFO:distributed.core:Starting established connection to tcp://127.0.0.1:47246\n",
            "INFO:distributed.scheduler:Receive client connection: Client-0dc5db5a-7931-11ef-814a-0242ac1c000c\n",
            "INFO:distributed.core:Starting established connection to tcp://127.0.0.1:47262\n"
          ]
        }
      ],
      "source": [
        "from dask.distributed import Client, LocalCluster\n",
        "\n",
        "# Configurar un clúster local con un número específico de workers\n",
        "cluster = LocalCluster(n_workers=4)\n",
        "cliente = Client(cluster)\n",
        "\n",
        "# Ajustar el tamaño de los chunks\n",
        "datos_simulados = datos_simulados.rechunk(chunks=(10000, 1000))"
      ]
    },
    {
      "cell_type": "markdown",
      "id": "5a02c250",
      "metadata": {
        "id": "5a02c250"
      },
      "source": [
        "\n",
        "\n",
        "El diagnóstico y la optimización del rendimiento son aspectos críticos al trabajar con Dask para procesar grandes conjuntos de datos. Herramientas como el dashboard de Dask y `dask.diagnostics` facilitan la identificación de cuellos de botella y la optimización del rendimiento. Además, seguir mejores prácticas como el particionamiento de datos, el uso de operaciones paralelas y el ajuste de configuraciones puede mejorar significativamente el rendimiento de las aplicaciones Dask. Con estas herramientas y técnicas, los usuarios pueden maximizar el rendimiento y la eficiencia al trabajar con grandes volúmenes de datos en entornos distribuidos con Dask.\n",
        "\n",
        "# Uso de Map-Reduce y Paralelismo en Dask\n",
        "\n",
        "En este apartado, exploraremos cómo utilizar map-reduce y otras técnicas de paralelismo en Dask para procesar grandes volúmenes de datos de manera eficiente. Comenzaremos generando datos simulados masivos y luego aplicaremos diversas estrategias de paralelismo con Dask.\n",
        "\n",
        "## Generación de Datos Simulados\n",
        "\n",
        "Antes de comenzar con los ejemplos, generaremos datos simulados masivos que utilizaremos para ilustrar las técnicas de paralelismo con Dask.\n",
        "\n"
      ]
    },
    {
      "cell_type": "code",
      "execution_count": null,
      "id": "fef7291f",
      "metadata": {
        "id": "fef7291f"
      },
      "outputs": [],
      "source": [
        "import numpy as np\n",
        "import dask.array as da\n",
        "\n",
        "# Generar un array Dask con datos simulados masivos\n",
        "datos_simulados = da.random.random(size=(1000000, 1000), chunks=(100000, 1000))"
      ]
    },
    {
      "cell_type": "markdown",
      "id": "866ea65f",
      "metadata": {
        "id": "866ea65f"
      },
      "source": [
        "\n",
        "\n",
        "En este ejemplo, creamos un array Dask con datos simulados masivos utilizando la función `random.random()`. Especificamos el tamaño del array y el tamaño de los chunks para optimizar el procesamiento paralelo.\n",
        "\n",
        "## Map-Reduce con Dask\n",
        "\n",
        "El patrón map-reduce es una técnica poderosa para procesar grandes volúmenes de datos de manera distribuida y paralela. Dask proporciona herramientas para implementar este patrón de manera eficiente.\n",
        "\n",
        "### Ejemplo 1: Calcular la Suma de Elementos\n",
        "\n"
      ]
    },
    {
      "cell_type": "code",
      "execution_count": null,
      "id": "4340de14",
      "metadata": {
        "colab": {
          "base_uri": "https://localhost:8080/"
        },
        "id": "4340de14",
        "outputId": "f5d7ac81-ac44-451f-c7ea-a97e9bd9c96a"
      },
      "outputs": [
        {
          "name": "stdout",
          "output_type": "stream",
          "text": [
            "Dimensiones de suma_chunk: (1000000, 1000)\n",
            "Suma Total: 499997461.55415857\n"
          ]
        }
      ],
      "source": [
        "import dask.array as da\n",
        "import numpy as np\n",
        "\n",
        "# Aplicar la función map para calcular la suma de cada chunk\n",
        "suma_chunk = datos_simulados.map_blocks(lambda x: np.sum(x, axis=1))\n",
        "\n",
        "# Verificar las dimensiones del array resultante\n",
        "print(\"Dimensiones de suma_chunk:\", suma_chunk.shape)\n",
        "\n",
        "# Calcular la suma total sumando a lo largo del eje 0\n",
        "suma_total = da.sum(suma_chunk, axis=0)\n",
        "\n",
        "# Imprimir el resultado\n",
        "print(\"Suma Total:\", suma_total.compute())"
      ]
    },
    {
      "cell_type": "markdown",
      "id": "8cb57aca",
      "metadata": {
        "id": "8cb57aca"
      },
      "source": [
        "\n",
        "\n",
        "En este ejemplo, utilizamos la función `map_blocks()` para aplicar la función de suma a cada chunk de datos.\n",
        "\n"
      ]
    },
    {
      "cell_type": "markdown",
      "id": "ca3d36be",
      "metadata": {
        "id": "ca3d36be"
      },
      "source": [
        "## Implementación de Algoritmos Paralelos Avanzados\n",
        "\n",
        "Dask es una herramienta versátil que permite implementar una amplia gama de algoritmos paralelos avanzados para el procesamiento de datos.\n",
        "\n",
        "### Ejemplo 4: Algoritmo de Clasificación Paralela\n",
        "\n"
      ]
    },
    {
      "cell_type": "code",
      "execution_count": null,
      "id": "cacfd7fd",
      "metadata": {
        "colab": {
          "base_uri": "https://localhost:8080/"
        },
        "id": "cacfd7fd",
        "outputId": "00da60e7-93e7-4386-f3ac-04a640022c76"
      },
      "outputs": [
        {
          "name": "stderr",
          "output_type": "stream",
          "text": [
            "/usr/local/lib/python3.10/dist-packages/distributed/node.py:182: UserWarning: Port 8787 is already in use.\n",
            "Perhaps you already have a cluster running?\n",
            "Hosting the HTTP server on port 44403 instead\n",
            "  warnings.warn(\n",
            "INFO:distributed.scheduler:State start\n",
            "INFO:distributed.scheduler:  Scheduler at:     tcp://127.0.0.1:46105\n",
            "INFO:distributed.scheduler:  dashboard at:  http://127.0.0.1:44403/status\n",
            "INFO:distributed.scheduler:Registering Worker plugin shuffle\n",
            "INFO:distributed.nanny:        Start Nanny at: 'tcp://127.0.0.1:40655'\n",
            "INFO:distributed.nanny:        Start Nanny at: 'tcp://127.0.0.1:42243'\n",
            "INFO:distributed.scheduler:Register worker <WorkerState 'tcp://127.0.0.1:33605', name: 0, status: init, memory: 0, processing: 0>\n",
            "INFO:distributed.scheduler:Starting worker compute stream, tcp://127.0.0.1:33605\n",
            "INFO:distributed.core:Starting established connection to tcp://127.0.0.1:57352\n",
            "INFO:distributed.scheduler:Register worker <WorkerState 'tcp://127.0.0.1:46047', name: 1, status: init, memory: 0, processing: 0>\n",
            "INFO:distributed.scheduler:Starting worker compute stream, tcp://127.0.0.1:46047\n",
            "INFO:distributed.core:Starting established connection to tcp://127.0.0.1:57358\n",
            "INFO:distributed.scheduler:Receive client connection: Client-c51e93db-7931-11ef-814a-0242ac1c000c\n",
            "INFO:distributed.core:Starting established connection to tcp://127.0.0.1:57360\n",
            "/usr/local/lib/python3.10/dist-packages/distributed/client.py:3362: UserWarning: Sending large graph of size 134.28 MiB.\n",
            "This may cause some slowdown.\n",
            "Consider loading the data with Dask directly\n",
            " or using futures or delayed objects to embed the data into the graph without repetition.\n",
            "See also https://docs.dask.org/en/stable/best-practices.html#load-data-with-dask for more information.\n",
            "  warnings.warn(\n"
          ]
        },
        {
          "name": "stdout",
          "output_type": "stream",
          "text": [
            "Precisión del modelo: 0.96163\n"
          ]
        }
      ],
      "source": [
        "from dask.distributed import Client\n",
        "from sklearn.datasets import make_classification\n",
        "from dask_ml.linear_model import LogisticRegression\n",
        "from dask_ml.model_selection import train_test_split\n",
        "\n",
        "# Crear un cliente Dask para distribuir el procesamiento\n",
        "client = Client()\n",
        "\n",
        "# Generar datos simulados para clasificación binaria\n",
        "X, y = make_classification(n_samples=1000000, n_features=20, n_classes=2, random_state=42)\n",
        "\n",
        "# Dividir los datos en conjuntos de entrenamiento y prueba con Dask, asegurando que shuffle esté definido\n",
        "X_train, X_test, y_train, y_test = train_test_split(X, y, test_size=0.2, random_state=42, shuffle=True)\n",
        "\n",
        "# Crear un clasificador de regresión logística con Dask\n",
        "clf = LogisticRegression()\n",
        "\n",
        "# Ajustar el modelo con los datos de entrenamiento\n",
        "clf.fit(X_train, y_train)\n",
        "\n",
        "# Calcular la precisión del modelo con los datos de prueba\n",
        "precision = clf.score(X_test, y_test)\n",
        "\n",
        "# Imprimir la precisión del modelo\n",
        "print(\"Precisión del modelo:\", precision)"
      ]
    },
    {
      "cell_type": "markdown",
      "id": "52511435",
      "metadata": {
        "id": "52511435"
      },
      "source": [
        "\n",
        "\n",
        "En este ejemplo, utilizamos Dask para distribuir el entrenamiento de un modelo de regresión logística en conjuntos de datos masivos. Utilizamos la biblioteca Dask-ML para realizar el entrenamiento distribuido y luego evaluamos la precisión del modelo en datos de prueba.\n",
        "\n",
        "Hemos explorado cómo utilizar map-reduce y otras técnicas de paralelismo en Dask para procesar grandes volúmenes de datos de manera eficiente. A través de ejemplos prácticos, hemos demostrado cómo implementar map-reduce con Dask para realizar operaciones distribuidas en conjuntos de datos masivos."
      ]
    }
  ],
  "metadata": {
    "colab": {
      "provenance": []
    },
    "kernelspec": {
      "display_name": "Python 3",
      "name": "python3"
    },
    "language_info": {
      "name": "python"
    }
  },
  "nbformat": 4,
  "nbformat_minor": 5
}
